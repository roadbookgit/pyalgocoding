{
 "cells": [
  {
   "cell_type": "markdown",
   "id": "1b7ff5b5",
   "metadata": {},
   "source": [
    "# 23장. 라이브러리와 패키지"
   ]
  },
  {
   "cell_type": "code",
   "execution_count": 1,
   "id": "9fefcf56",
   "metadata": {},
   "outputs": [],
   "source": [
    "import mypackage"
   ]
  },
  {
   "cell_type": "code",
   "execution_count": 2,
   "id": "80d07e74",
   "metadata": {},
   "outputs": [
    {
     "name": "stdout",
     "output_type": "stream",
     "text": [
      "['__doc__', '__file__', '__loader__', '__name__', '__package__', '__path__', '__spec__']\n"
     ]
    }
   ],
   "source": [
    "print(dir(mypackage))"
   ]
  },
  {
   "cell_type": "code",
   "execution_count": 3,
   "id": "fadcf550",
   "metadata": {},
   "outputs": [
    {
     "data": {
      "text/plain": [
       "module"
      ]
     },
     "execution_count": 3,
     "metadata": {},
     "output_type": "execute_result"
    }
   ],
   "source": [
    "type(mypackage)"
   ]
  },
  {
   "cell_type": "code",
   "execution_count": 4,
   "id": "90bdb101",
   "metadata": {},
   "outputs": [],
   "source": [
    "import mypackage.a"
   ]
  },
  {
   "cell_type": "code",
   "execution_count": 5,
   "id": "c054b79e",
   "metadata": {},
   "outputs": [
    {
     "name": "stdout",
     "output_type": "stream",
     "text": [
      "Hello~\n"
     ]
    }
   ],
   "source": [
    "mypackage.a.hello()"
   ]
  }
 ],
 "metadata": {
  "kernelspec": {
   "display_name": "Python 3 (ipykernel)",
   "language": "python",
   "name": "python3"
  },
  "language_info": {
   "codemirror_mode": {
    "name": "ipython",
    "version": 3
   },
   "file_extension": ".py",
   "mimetype": "text/x-python",
   "name": "python",
   "nbconvert_exporter": "python",
   "pygments_lexer": "ipython3",
   "version": "3.9.7"
  }
 },
 "nbformat": 4,
 "nbformat_minor": 5
}
