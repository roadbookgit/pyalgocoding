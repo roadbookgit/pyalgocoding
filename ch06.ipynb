{
 "cells": [
  {
   "cell_type": "markdown",
   "id": "53ee6fda",
   "metadata": {},
   "source": [
    "# 6장. 입출력 함수, input()과 print()"
   ]
  },
  {
   "cell_type": "code",
   "execution_count": 1,
   "id": "f7d054f7",
   "metadata": {},
   "outputs": [],
   "source": [
    "# 2 페이지"
   ]
  },
  {
   "cell_type": "code",
   "execution_count": 2,
   "id": "b5e64826",
   "metadata": {},
   "outputs": [
    {
     "name": "stdout",
     "output_type": "stream",
     "text": [
      "100\n"
     ]
    }
   ],
   "source": [
    "print(100)"
   ]
  },
  {
   "cell_type": "code",
   "execution_count": 3,
   "id": "a86285e1",
   "metadata": {},
   "outputs": [
    {
     "name": "stdout",
     "output_type": "stream",
     "text": [
      "Hello\n"
     ]
    }
   ],
   "source": [
    "print('Hello')"
   ]
  },
  {
   "cell_type": "code",
   "execution_count": 4,
   "id": "bad86062",
   "metadata": {},
   "outputs": [
    {
     "name": "stdout",
     "output_type": "stream",
     "text": [
      "55\n"
     ]
    }
   ],
   "source": [
    "a=55\n",
    "print(a)"
   ]
  },
  {
   "cell_type": "code",
   "execution_count": 5,
   "id": "76f5e744",
   "metadata": {},
   "outputs": [
    {
     "name": "stdout",
     "output_type": "stream",
     "text": [
      "55 100\n"
     ]
    }
   ],
   "source": [
    "a=55; b=100\n",
    "print(a, b)"
   ]
  },
  {
   "cell_type": "code",
   "execution_count": 6,
   "id": "35cd9606",
   "metadata": {},
   "outputs": [
    {
     "name": "stdout",
     "output_type": "stream",
     "text": [
      "3 * 8 = 24\n"
     ]
    }
   ],
   "source": [
    "a=3; b=8\n",
    "print(a, '*', b, '=', a*b)  # 3*8=24 구구단"
   ]
  },
  {
   "cell_type": "code",
   "execution_count": 7,
   "id": "e05e8081",
   "metadata": {},
   "outputs": [],
   "source": [
    "# 2 페이지"
   ]
  },
  {
   "cell_type": "code",
   "execution_count": 10,
   "id": "da74c8e5",
   "metadata": {},
   "outputs": [
    {
     "ename": "NameError",
     "evalue": "name 'b' is not defined",
     "output_type": "error",
     "traceback": [
      "\u001b[1;31m---------------------------------------------------------------------\u001b[0m",
      "\u001b[1;31mNameError\u001b[0m                           Traceback (most recent call last)",
      "\u001b[1;32m~\\AppData\\Local\\Temp/ipykernel_3132/324135452.py\u001b[0m in \u001b[0;36m<module>\u001b[1;34m\u001b[0m\n\u001b[1;32m----> 1\u001b[1;33m \u001b[0mprint\u001b[0m\u001b[1;33m(\u001b[0m\u001b[0mb\u001b[0m\u001b[1;33m)\u001b[0m\u001b[1;33m\u001b[0m\u001b[1;33m\u001b[0m\u001b[0m\n\u001b[0m",
      "\u001b[1;31mNameError\u001b[0m: name 'b' is not defined"
     ]
    }
   ],
   "source": [
    "print(b)"
   ]
  },
  {
   "cell_type": "code",
   "execution_count": 11,
   "id": "f1908eab",
   "metadata": {},
   "outputs": [],
   "source": [
    "# 5 페이지"
   ]
  },
  {
   "cell_type": "code",
   "execution_count": 12,
   "id": "6b30cfe2",
   "metadata": {},
   "outputs": [
    {
     "name": "stdout",
     "output_type": "stream",
     "text": [
      "Help on built-in function print in module builtins:\n",
      "\n",
      "print(...)\n",
      "    print(value, ..., sep=' ', end='\\n', file=sys.stdout, flush=False)\n",
      "    \n",
      "    Prints the values to a stream, or to sys.stdout by default.\n",
      "    Optional keyword arguments:\n",
      "    file:  a file-like object (stream); defaults to the current sys.stdout.\n",
      "    sep:   string inserted between values, default a space.\n",
      "    end:   string appended after the last value, default a newline.\n",
      "    flush: whether to forcibly flush the stream.\n",
      "\n"
     ]
    }
   ],
   "source": [
    "help(print)"
   ]
  },
  {
   "cell_type": "code",
   "execution_count": 13,
   "id": "adb482a4",
   "metadata": {},
   "outputs": [],
   "source": [
    "# 7 페이지"
   ]
  },
  {
   "cell_type": "code",
   "execution_count": 14,
   "id": "5f6c4776",
   "metadata": {},
   "outputs": [],
   "source": [
    "a=100\n",
    "b='Good'"
   ]
  },
  {
   "cell_type": "code",
   "execution_count": 15,
   "id": "83213126",
   "metadata": {},
   "outputs": [
    {
     "name": "stdout",
     "output_type": "stream",
     "text": [
      "100 Good\n"
     ]
    }
   ],
   "source": [
    "print(a, b)"
   ]
  },
  {
   "cell_type": "code",
   "execution_count": 16,
   "id": "a25cfb81",
   "metadata": {},
   "outputs": [
    {
     "name": "stdout",
     "output_type": "stream",
     "text": [
      "100, Good\n"
     ]
    }
   ],
   "source": [
    "print(a, b, sep=', ')"
   ]
  },
  {
   "cell_type": "code",
   "execution_count": 17,
   "id": "e9ee4404",
   "metadata": {},
   "outputs": [
    {
     "name": "stdout",
     "output_type": "stream",
     "text": [
      "100/Good\n"
     ]
    }
   ],
   "source": [
    "print(a, b, sep='/')"
   ]
  },
  {
   "cell_type": "code",
   "execution_count": 18,
   "id": "f02137c4",
   "metadata": {},
   "outputs": [],
   "source": [
    "# 8 페이지"
   ]
  },
  {
   "cell_type": "code",
   "execution_count": 20,
   "id": "bcf8233d",
   "metadata": {},
   "outputs": [
    {
     "name": "stdout",
     "output_type": "stream",
     "text": [
      "Hello, Jang\n"
     ]
    }
   ],
   "source": [
    "name='Jang'\n",
    "print('Hello,', name)"
   ]
  },
  {
   "cell_type": "code",
   "execution_count": 21,
   "id": "32d0eb55",
   "metadata": {},
   "outputs": [],
   "source": [
    "# 9~10 페이지"
   ]
  },
  {
   "cell_type": "code",
   "execution_count": 22,
   "id": "ca67c05d",
   "metadata": {},
   "outputs": [
    {
     "name": "stdout",
     "output_type": "stream",
     "text": [
      "Jang\n"
     ]
    }
   ],
   "source": [
    "name=input()"
   ]
  },
  {
   "cell_type": "code",
   "execution_count": 23,
   "id": "d4c37d7a",
   "metadata": {},
   "outputs": [
    {
     "name": "stdout",
     "output_type": "stream",
     "text": [
      "Jang\n"
     ]
    }
   ],
   "source": [
    "print(name)"
   ]
  },
  {
   "cell_type": "code",
   "execution_count": 24,
   "id": "cf5cbd2f",
   "metadata": {},
   "outputs": [
    {
     "name": "stdout",
     "output_type": "stream",
     "text": [
      "Jang\n",
      "Hello Jang\n"
     ]
    }
   ],
   "source": [
    "name=input()\n",
    "print('Hello', name)"
   ]
  },
  {
   "cell_type": "code",
   "execution_count": 25,
   "id": "37e8bf93",
   "metadata": {},
   "outputs": [],
   "source": [
    "# 11 페이지"
   ]
  },
  {
   "cell_type": "code",
   "execution_count": 26,
   "id": "59703a62",
   "metadata": {},
   "outputs": [
    {
     "name": "stdout",
     "output_type": "stream",
     "text": [
      "Enter your name:Jang\n"
     ]
    }
   ],
   "source": [
    "name=input('Enter your name:')"
   ]
  },
  {
   "cell_type": "code",
   "execution_count": 27,
   "id": "a3f584ea",
   "metadata": {},
   "outputs": [
    {
     "name": "stdout",
     "output_type": "stream",
     "text": [
      "Enter a Number 11\n"
     ]
    }
   ],
   "source": [
    "n=input('Enter a Number ')"
   ]
  },
  {
   "cell_type": "code",
   "execution_count": 28,
   "id": "b1016c9b",
   "metadata": {},
   "outputs": [
    {
     "data": {
      "text/plain": [
       "str"
      ]
     },
     "execution_count": 28,
     "metadata": {},
     "output_type": "execute_result"
    }
   ],
   "source": [
    "type(n)"
   ]
  },
  {
   "cell_type": "code",
   "execution_count": 29,
   "id": "20e4b64a",
   "metadata": {},
   "outputs": [],
   "source": [
    "#12 페이지"
   ]
  },
  {
   "cell_type": "code",
   "execution_count": 30,
   "id": "3193bc53",
   "metadata": {},
   "outputs": [
    {
     "data": {
      "text/plain": [
       "int"
      ]
     },
     "execution_count": 30,
     "metadata": {},
     "output_type": "execute_result"
    }
   ],
   "source": [
    "type(123)"
   ]
  },
  {
   "cell_type": "code",
   "execution_count": 31,
   "id": "1eba926f",
   "metadata": {},
   "outputs": [
    {
     "data": {
      "text/plain": [
       "int"
      ]
     },
     "execution_count": 31,
     "metadata": {},
     "output_type": "execute_result"
    }
   ],
   "source": [
    "a=123\n",
    "type(a)"
   ]
  },
  {
   "cell_type": "code",
   "execution_count": 32,
   "id": "5186de33",
   "metadata": {},
   "outputs": [],
   "source": [
    "a=11     # integer 정수\n",
    "b=11.11  # floating point 실수\n",
    "c='University'   # string 문자열\n",
    "d='a'    # character 문자\n",
    "e=True   # boolean 불리언 "
   ]
  },
  {
   "cell_type": "code",
   "execution_count": 33,
   "id": "2cf5710f",
   "metadata": {},
   "outputs": [
    {
     "data": {
      "text/plain": [
       "int"
      ]
     },
     "execution_count": 33,
     "metadata": {},
     "output_type": "execute_result"
    }
   ],
   "source": [
    "type(a)"
   ]
  },
  {
   "cell_type": "code",
   "execution_count": 34,
   "id": "f4a2be55",
   "metadata": {},
   "outputs": [
    {
     "data": {
      "text/plain": [
       "float"
      ]
     },
     "execution_count": 34,
     "metadata": {},
     "output_type": "execute_result"
    }
   ],
   "source": [
    "type(b)"
   ]
  },
  {
   "cell_type": "code",
   "execution_count": 35,
   "id": "e1e6fc3b",
   "metadata": {},
   "outputs": [
    {
     "data": {
      "text/plain": [
       "str"
      ]
     },
     "execution_count": 35,
     "metadata": {},
     "output_type": "execute_result"
    }
   ],
   "source": [
    "type(c)"
   ]
  },
  {
   "cell_type": "code",
   "execution_count": 36,
   "id": "2c24b351",
   "metadata": {},
   "outputs": [
    {
     "data": {
      "text/plain": [
       "str"
      ]
     },
     "execution_count": 36,
     "metadata": {},
     "output_type": "execute_result"
    }
   ],
   "source": [
    "type(d)"
   ]
  },
  {
   "cell_type": "code",
   "execution_count": 37,
   "id": "fe158c0b",
   "metadata": {},
   "outputs": [
    {
     "data": {
      "text/plain": [
       "bool"
      ]
     },
     "execution_count": 37,
     "metadata": {},
     "output_type": "execute_result"
    }
   ],
   "source": [
    "type(e)"
   ]
  },
  {
   "cell_type": "code",
   "execution_count": 38,
   "id": "e313d37b",
   "metadata": {},
   "outputs": [],
   "source": [
    "# 13 페이지"
   ]
  },
  {
   "cell_type": "code",
   "execution_count": 39,
   "id": "7642afda",
   "metadata": {},
   "outputs": [
    {
     "data": {
      "text/plain": [
       "builtin_function_or_method"
      ]
     },
     "execution_count": 39,
     "metadata": {},
     "output_type": "execute_result"
    }
   ],
   "source": [
    "type(print)"
   ]
  },
  {
   "cell_type": "code",
   "execution_count": 40,
   "id": "2ffd7e07",
   "metadata": {},
   "outputs": [
    {
     "data": {
      "text/plain": [
       "str"
      ]
     },
     "execution_count": 40,
     "metadata": {},
     "output_type": "execute_result"
    }
   ],
   "source": [
    "a='11'\n",
    "type(a)"
   ]
  },
  {
   "cell_type": "code",
   "execution_count": 41,
   "id": "e8a60c00",
   "metadata": {},
   "outputs": [
    {
     "data": {
      "text/plain": [
       "int"
      ]
     },
     "execution_count": 41,
     "metadata": {},
     "output_type": "execute_result"
    }
   ],
   "source": [
    "b=int(a)\n",
    "type(b)"
   ]
  },
  {
   "cell_type": "code",
   "execution_count": 42,
   "id": "a510239a",
   "metadata": {},
   "outputs": [],
   "source": [
    "# 14 페이지"
   ]
  },
  {
   "cell_type": "code",
   "execution_count": 43,
   "id": "a5b1d53f",
   "metadata": {},
   "outputs": [],
   "source": [
    "a=True; b=False\n",
    "c=int(a); d=int(b)"
   ]
  },
  {
   "cell_type": "code",
   "execution_count": 44,
   "id": "56d59d3e",
   "metadata": {},
   "outputs": [
    {
     "name": "stdout",
     "output_type": "stream",
     "text": [
      "1 0\n"
     ]
    }
   ],
   "source": [
    "print(c, d)"
   ]
  },
  {
   "cell_type": "code",
   "execution_count": 45,
   "id": "4eab2a63",
   "metadata": {},
   "outputs": [],
   "source": [
    "a=11.11\n",
    "b=int(a)"
   ]
  },
  {
   "cell_type": "code",
   "execution_count": 46,
   "id": "a35463a7",
   "metadata": {},
   "outputs": [
    {
     "name": "stdout",
     "output_type": "stream",
     "text": [
      "11\n"
     ]
    }
   ],
   "source": [
    "print(b)"
   ]
  },
  {
   "cell_type": "code",
   "execution_count": 47,
   "id": "756aaa5a",
   "metadata": {},
   "outputs": [],
   "source": [
    "# 15 페이지"
   ]
  },
  {
   "cell_type": "code",
   "execution_count": 48,
   "id": "2ef4747d",
   "metadata": {},
   "outputs": [
    {
     "name": "stdout",
     "output_type": "stream",
     "text": [
      "11\n"
     ]
    }
   ],
   "source": [
    "a=11\n",
    "b=str(a)\n",
    "print(b)"
   ]
  },
  {
   "cell_type": "code",
   "execution_count": 49,
   "id": "6eaa779b",
   "metadata": {},
   "outputs": [
    {
     "data": {
      "text/plain": [
       "str"
      ]
     },
     "execution_count": 49,
     "metadata": {},
     "output_type": "execute_result"
    }
   ],
   "source": [
    "type(b)"
   ]
  },
  {
   "cell_type": "code",
   "execution_count": 50,
   "id": "9f682e80",
   "metadata": {},
   "outputs": [
    {
     "name": "stdout",
     "output_type": "stream",
     "text": [
      "True\n"
     ]
    }
   ],
   "source": [
    "a=True\n",
    "b=str(a)\n",
    "print(b)"
   ]
  },
  {
   "cell_type": "code",
   "execution_count": null,
   "id": "0f45f313",
   "metadata": {},
   "outputs": [],
   "source": []
  }
 ],
 "metadata": {
  "kernelspec": {
   "display_name": "Python 3 (ipykernel)",
   "language": "python",
   "name": "python3"
  },
  "language_info": {
   "codemirror_mode": {
    "name": "ipython",
    "version": 3
   },
   "file_extension": ".py",
   "mimetype": "text/x-python",
   "name": "python",
   "nbconvert_exporter": "python",
   "pygments_lexer": "ipython3",
   "version": "3.9.7"
  }
 },
 "nbformat": 4,
 "nbformat_minor": 5
}
