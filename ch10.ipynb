{
 "cells": [
  {
   "cell_type": "markdown",
   "id": "9ccb157b",
   "metadata": {},
   "source": [
    "# 10장. 표준 데이터 구조 : 리스트, 튜플, 딕셔너리, 문자열"
   ]
  },
  {
   "cell_type": "code",
   "execution_count": 1,
   "id": "1918df0e",
   "metadata": {},
   "outputs": [],
   "source": [
    "# 4 페이지"
   ]
  },
  {
   "cell_type": "code",
   "execution_count": 2,
   "id": "333e9b38",
   "metadata": {},
   "outputs": [],
   "source": [
    "a=[1, 2, 3, 4, 5]"
   ]
  },
  {
   "cell_type": "code",
   "execution_count": 3,
   "id": "06e2df7c",
   "metadata": {},
   "outputs": [],
   "source": [
    "b=['Apple', 'Banana', 'Carrot']"
   ]
  },
  {
   "cell_type": "code",
   "execution_count": 4,
   "id": "1aa7faba",
   "metadata": {},
   "outputs": [],
   "source": [
    "c=[10, 3.14, True, [2, 4, 5, 8, 10]]"
   ]
  },
  {
   "cell_type": "code",
   "execution_count": 5,
   "id": "6cfbee7f",
   "metadata": {},
   "outputs": [],
   "source": [
    "#"
   ]
  },
  {
   "cell_type": "code",
   "execution_count": 6,
   "id": "d4d644f2",
   "metadata": {},
   "outputs": [],
   "source": [
    "a=[1, 2, 3, 4]"
   ]
  },
  {
   "cell_type": "code",
   "execution_count": 7,
   "id": "ada63888",
   "metadata": {},
   "outputs": [
    {
     "data": {
      "text/plain": [
       "1"
      ]
     },
     "execution_count": 7,
     "metadata": {},
     "output_type": "execute_result"
    }
   ],
   "source": [
    "a[0]"
   ]
  },
  {
   "cell_type": "code",
   "execution_count": 8,
   "id": "3cd1ed5b",
   "metadata": {},
   "outputs": [
    {
     "name": "stdout",
     "output_type": "stream",
     "text": [
      "4\n"
     ]
    }
   ],
   "source": [
    "print(a[3])"
   ]
  },
  {
   "cell_type": "code",
   "execution_count": 9,
   "id": "ac5fc799",
   "metadata": {},
   "outputs": [],
   "source": [
    "a=[1, 10, 100, 1000, 10000, 100000]"
   ]
  },
  {
   "cell_type": "code",
   "execution_count": 10,
   "id": "3a561a1b",
   "metadata": {},
   "outputs": [
    {
     "data": {
      "text/plain": [
       "6"
      ]
     },
     "execution_count": 10,
     "metadata": {},
     "output_type": "execute_result"
    }
   ],
   "source": [
    "len(a)"
   ]
  },
  {
   "cell_type": "code",
   "execution_count": 11,
   "id": "596507c1",
   "metadata": {},
   "outputs": [],
   "source": [
    "# 5 페이지"
   ]
  },
  {
   "cell_type": "code",
   "execution_count": 12,
   "id": "26038a7f",
   "metadata": {},
   "outputs": [
    {
     "ename": "IndexError",
     "evalue": "list index out of range",
     "output_type": "error",
     "traceback": [
      "\u001b[1;31m---------------------------------------------------------------------\u001b[0m",
      "\u001b[1;31mIndexError\u001b[0m                          Traceback (most recent call last)",
      "\u001b[1;32m~\\AppData\\Local\\Temp/ipykernel_2200/2731418895.py\u001b[0m in \u001b[0;36m<module>\u001b[1;34m\u001b[0m\n\u001b[0;32m      1\u001b[0m \u001b[0ma\u001b[0m\u001b[1;33m=\u001b[0m\u001b[1;33m[\u001b[0m\u001b[1;36m1\u001b[0m\u001b[1;33m,\u001b[0m \u001b[1;36m2\u001b[0m\u001b[1;33m,\u001b[0m \u001b[1;36m3\u001b[0m\u001b[1;33m,\u001b[0m \u001b[1;36m4\u001b[0m\u001b[1;33m]\u001b[0m\u001b[1;33m\u001b[0m\u001b[1;33m\u001b[0m\u001b[0m\n\u001b[1;32m----> 2\u001b[1;33m \u001b[0ma\u001b[0m\u001b[1;33m[\u001b[0m\u001b[1;36m4\u001b[0m\u001b[1;33m]\u001b[0m\u001b[1;33m\u001b[0m\u001b[1;33m\u001b[0m\u001b[0m\n\u001b[0m",
      "\u001b[1;31mIndexError\u001b[0m: list index out of range"
     ]
    }
   ],
   "source": [
    "a=[1, 2, 3, 4]\n",
    "a[4]"
   ]
  },
  {
   "cell_type": "code",
   "execution_count": 13,
   "id": "24c778a6",
   "metadata": {},
   "outputs": [],
   "source": [
    "# 6 페이지"
   ]
  },
  {
   "cell_type": "code",
   "execution_count": 14,
   "id": "1dec6c09",
   "metadata": {},
   "outputs": [],
   "source": [
    "a=[1, 2, 3, 4]"
   ]
  },
  {
   "cell_type": "code",
   "execution_count": 15,
   "id": "334a721b",
   "metadata": {},
   "outputs": [],
   "source": [
    "a[0]=5"
   ]
  },
  {
   "cell_type": "code",
   "execution_count": 16,
   "id": "d3a089dc",
   "metadata": {},
   "outputs": [
    {
     "name": "stdout",
     "output_type": "stream",
     "text": [
      "[5, 2, 3, 4]\n"
     ]
    }
   ],
   "source": [
    "print(a)"
   ]
  },
  {
   "cell_type": "code",
   "execution_count": 17,
   "id": "865cfd7f",
   "metadata": {},
   "outputs": [],
   "source": [
    "#"
   ]
  },
  {
   "cell_type": "code",
   "execution_count": 18,
   "id": "a57f6fc5",
   "metadata": {},
   "outputs": [],
   "source": [
    "a=[1, 2, 3, 4]"
   ]
  },
  {
   "cell_type": "code",
   "execution_count": 19,
   "id": "e48b2978",
   "metadata": {},
   "outputs": [],
   "source": [
    "k=3"
   ]
  },
  {
   "cell_type": "code",
   "execution_count": 20,
   "id": "5d1c5769",
   "metadata": {},
   "outputs": [
    {
     "name": "stdout",
     "output_type": "stream",
     "text": [
      "4\n"
     ]
    }
   ],
   "source": [
    "print(a[k])"
   ]
  },
  {
   "cell_type": "code",
   "execution_count": 21,
   "id": "efecda57",
   "metadata": {},
   "outputs": [],
   "source": [
    "#"
   ]
  },
  {
   "cell_type": "code",
   "execution_count": 22,
   "id": "a81cdd5d",
   "metadata": {},
   "outputs": [
    {
     "name": "stdout",
     "output_type": "stream",
     "text": [
      "1 10 100 1000 "
     ]
    }
   ],
   "source": [
    "a=[1, 10, 100, 1000]\n",
    "for x in a:\n",
    "    print(x, end=' ')"
   ]
  },
  {
   "cell_type": "code",
   "execution_count": 24,
   "id": "936c9347",
   "metadata": {},
   "outputs": [
    {
     "name": "stdout",
     "output_type": "stream",
     "text": [
      "1 10 100 1000 "
     ]
    }
   ],
   "source": [
    "a=[1, 10, 100, 1000]\n",
    "for x in range(0, 4, 1):\n",
    "    print(a[x], end=' ')"
   ]
  },
  {
   "cell_type": "code",
   "execution_count": 25,
   "id": "849641d4",
   "metadata": {},
   "outputs": [],
   "source": [
    "# 7 페이지"
   ]
  },
  {
   "cell_type": "code",
   "execution_count": 26,
   "id": "5b587b94",
   "metadata": {},
   "outputs": [
    {
     "name": "stdout",
     "output_type": "stream",
     "text": [
      "1 10 100 1000 10000 100000 "
     ]
    }
   ],
   "source": [
    "a=[1, 10, 100, 1000, 10000, 100000]\n",
    "for x in range(len(a)):\n",
    "    print(a[x], end=' ')"
   ]
  },
  {
   "cell_type": "code",
   "execution_count": 27,
   "id": "f08722c7",
   "metadata": {},
   "outputs": [
    {
     "name": "stdout",
     "output_type": "stream",
     "text": [
      "['__add__', '__class__', '__class_getitem__', '__contains__', '__delattr__', '__delitem__', '__dir__', '__doc__', '__eq__', '__format__', '__ge__', '__getattribute__', '__getitem__', '__gt__', '__hash__', '__iadd__', '__imul__', '__init__', '__init_subclass__', '__iter__', '__le__', '__len__', '__lt__', '__mul__', '__ne__', '__new__', '__reduce__', '__reduce_ex__', '__repr__', '__reversed__', '__rmul__', '__setattr__', '__setitem__', '__sizeof__', '__str__', '__subclasshook__', 'append', 'clear', 'copy', 'count', 'extend', 'index', 'insert', 'pop', 'remove', 'reverse', 'sort']\n"
     ]
    }
   ],
   "source": [
    "print(dir(list))"
   ]
  },
  {
   "cell_type": "code",
   "execution_count": 28,
   "id": "c8d8aa8c",
   "metadata": {},
   "outputs": [],
   "source": [
    "# 8 페이지"
   ]
  },
  {
   "cell_type": "code",
   "execution_count": 29,
   "id": "975e7e73",
   "metadata": {},
   "outputs": [],
   "source": [
    "a=[1, 2, 3, 4]\n",
    "list.append(a, 5)"
   ]
  },
  {
   "cell_type": "code",
   "execution_count": 30,
   "id": "2b494be9",
   "metadata": {},
   "outputs": [
    {
     "data": {
      "text/plain": [
       "[1, 2, 3, 4, 5]"
      ]
     },
     "execution_count": 30,
     "metadata": {},
     "output_type": "execute_result"
    }
   ],
   "source": [
    "a"
   ]
  },
  {
   "cell_type": "code",
   "execution_count": 31,
   "id": "a2eb8fda",
   "metadata": {},
   "outputs": [],
   "source": [
    "#"
   ]
  },
  {
   "cell_type": "code",
   "execution_count": 32,
   "id": "faeaa3f1",
   "metadata": {},
   "outputs": [],
   "source": [
    "a=['apple', 'banana', 'carrot']\n",
    "list.remove(a, 'banana')"
   ]
  },
  {
   "cell_type": "code",
   "execution_count": 33,
   "id": "b2c61afd",
   "metadata": {},
   "outputs": [
    {
     "name": "stdout",
     "output_type": "stream",
     "text": [
      "['apple', 'carrot']\n"
     ]
    }
   ],
   "source": [
    "print(a)"
   ]
  },
  {
   "cell_type": "code",
   "execution_count": 34,
   "id": "231dc4a2",
   "metadata": {},
   "outputs": [
    {
     "data": {
      "text/plain": [
       "'banana'"
      ]
     },
     "execution_count": 34,
     "metadata": {},
     "output_type": "execute_result"
    }
   ],
   "source": [
    "a=['apple', 'banana', 'carrot']\n",
    "list.pop(a, 1)"
   ]
  },
  {
   "cell_type": "code",
   "execution_count": 35,
   "id": "d70d0c0c",
   "metadata": {},
   "outputs": [
    {
     "name": "stdout",
     "output_type": "stream",
     "text": [
      "['apple', 'carrot']\n"
     ]
    }
   ],
   "source": [
    "print(a)"
   ]
  },
  {
   "cell_type": "code",
   "execution_count": 36,
   "id": "82239f99",
   "metadata": {},
   "outputs": [],
   "source": [
    "# 9 페이지"
   ]
  },
  {
   "cell_type": "code",
   "execution_count": 37,
   "id": "bbcea727",
   "metadata": {},
   "outputs": [],
   "source": [
    "a=(1, 2, 3, 4, 5)"
   ]
  },
  {
   "cell_type": "code",
   "execution_count": 38,
   "id": "78531297",
   "metadata": {},
   "outputs": [
    {
     "data": {
      "text/plain": [
       "1"
      ]
     },
     "execution_count": 38,
     "metadata": {},
     "output_type": "execute_result"
    }
   ],
   "source": [
    "a[0]"
   ]
  },
  {
   "cell_type": "code",
   "execution_count": 39,
   "id": "609cb432",
   "metadata": {},
   "outputs": [
    {
     "data": {
      "text/plain": [
       "5"
      ]
     },
     "execution_count": 39,
     "metadata": {},
     "output_type": "execute_result"
    }
   ],
   "source": [
    "a[4]"
   ]
  },
  {
   "cell_type": "code",
   "execution_count": 40,
   "id": "27570477",
   "metadata": {},
   "outputs": [
    {
     "ename": "TypeError",
     "evalue": "'tuple' object does not support item assignment",
     "output_type": "error",
     "traceback": [
      "\u001b[1;31m---------------------------------------------------------------------\u001b[0m",
      "\u001b[1;31mTypeError\u001b[0m                           Traceback (most recent call last)",
      "\u001b[1;32m~\\AppData\\Local\\Temp/ipykernel_2200/299085868.py\u001b[0m in \u001b[0;36m<module>\u001b[1;34m\u001b[0m\n\u001b[0;32m      1\u001b[0m \u001b[0ma\u001b[0m\u001b[1;33m=\u001b[0m\u001b[1;33m(\u001b[0m\u001b[1;36m1\u001b[0m\u001b[1;33m,\u001b[0m \u001b[1;36m2\u001b[0m\u001b[1;33m,\u001b[0m \u001b[1;36m3\u001b[0m\u001b[1;33m,\u001b[0m \u001b[1;36m4\u001b[0m\u001b[1;33m,\u001b[0m \u001b[1;36m5\u001b[0m\u001b[1;33m)\u001b[0m\u001b[1;33m\u001b[0m\u001b[1;33m\u001b[0m\u001b[0m\n\u001b[1;32m----> 2\u001b[1;33m \u001b[0ma\u001b[0m\u001b[1;33m[\u001b[0m\u001b[1;36m0\u001b[0m\u001b[1;33m]\u001b[0m\u001b[1;33m=\u001b[0m\u001b[1;36m10\u001b[0m\u001b[1;33m\u001b[0m\u001b[1;33m\u001b[0m\u001b[0m\n\u001b[0m",
      "\u001b[1;31mTypeError\u001b[0m: 'tuple' object does not support item assignment"
     ]
    }
   ],
   "source": [
    "a=(1, 2, 3, 4, 5)\n",
    "a[0]=10"
   ]
  },
  {
   "cell_type": "code",
   "execution_count": 41,
   "id": "3e4e9dfa",
   "metadata": {},
   "outputs": [],
   "source": [
    "#"
   ]
  },
  {
   "cell_type": "code",
   "execution_count": 42,
   "id": "fdd1f67d",
   "metadata": {},
   "outputs": [],
   "source": [
    "a=1, 2, 3"
   ]
  },
  {
   "cell_type": "code",
   "execution_count": 43,
   "id": "a4477024",
   "metadata": {},
   "outputs": [
    {
     "data": {
      "text/plain": [
       "tuple"
      ]
     },
     "execution_count": 43,
     "metadata": {},
     "output_type": "execute_result"
    }
   ],
   "source": [
    "type(a)"
   ]
  },
  {
   "cell_type": "code",
   "execution_count": 44,
   "id": "b6ed8b3b",
   "metadata": {},
   "outputs": [
    {
     "name": "stdout",
     "output_type": "stream",
     "text": [
      "(1, 2, 3)\n"
     ]
    }
   ],
   "source": [
    "print(a)"
   ]
  },
  {
   "cell_type": "code",
   "execution_count": 45,
   "id": "19daffb9",
   "metadata": {},
   "outputs": [],
   "source": [
    "#"
   ]
  },
  {
   "cell_type": "code",
   "execution_count": 46,
   "id": "3145db90",
   "metadata": {},
   "outputs": [],
   "source": [
    "a=1,"
   ]
  },
  {
   "cell_type": "code",
   "execution_count": 47,
   "id": "dfb5da2e",
   "metadata": {},
   "outputs": [
    {
     "name": "stdout",
     "output_type": "stream",
     "text": [
      "(1,)\n"
     ]
    }
   ],
   "source": [
    "print(a)"
   ]
  },
  {
   "cell_type": "code",
   "execution_count": 48,
   "id": "231cf20d",
   "metadata": {},
   "outputs": [],
   "source": [
    "# 10 페이지"
   ]
  },
  {
   "cell_type": "code",
   "execution_count": 49,
   "id": "f0bf1905",
   "metadata": {},
   "outputs": [],
   "source": [
    "a=[1, 2, 3]\n",
    "b=tuple(a)"
   ]
  },
  {
   "cell_type": "code",
   "execution_count": 50,
   "id": "85c3967d",
   "metadata": {},
   "outputs": [
    {
     "name": "stdout",
     "output_type": "stream",
     "text": [
      "(1, 2, 3)\n"
     ]
    }
   ],
   "source": [
    "print(b)"
   ]
  },
  {
   "cell_type": "code",
   "execution_count": 51,
   "id": "084c210e",
   "metadata": {},
   "outputs": [],
   "source": [
    "#"
   ]
  },
  {
   "cell_type": "code",
   "execution_count": 52,
   "id": "dd62c6ed",
   "metadata": {},
   "outputs": [],
   "source": [
    "a=(1, 2, 3, 4)"
   ]
  },
  {
   "cell_type": "code",
   "execution_count": 53,
   "id": "82815687",
   "metadata": {},
   "outputs": [
    {
     "name": "stdout",
     "output_type": "stream",
     "text": [
      "(1, 2, 3, 4)\n"
     ]
    }
   ],
   "source": [
    "print(a)"
   ]
  },
  {
   "cell_type": "code",
   "execution_count": 54,
   "id": "3ede7ac3",
   "metadata": {},
   "outputs": [],
   "source": [
    "a=(1, 10, 100, 1000)"
   ]
  },
  {
   "cell_type": "code",
   "execution_count": 55,
   "id": "7de04b1b",
   "metadata": {},
   "outputs": [
    {
     "name": "stdout",
     "output_type": "stream",
     "text": [
      "(1, 10, 100, 1000)\n"
     ]
    }
   ],
   "source": [
    "print(a)"
   ]
  },
  {
   "cell_type": "code",
   "execution_count": 56,
   "id": "9e8684d0",
   "metadata": {},
   "outputs": [],
   "source": [
    "# 11 페이지"
   ]
  },
  {
   "cell_type": "code",
   "execution_count": 57,
   "id": "1fd44a95",
   "metadata": {},
   "outputs": [],
   "source": [
    "a='Welcome'       # 홑따옴표\n",
    "b=\"to\"            # 겹따옴표\n",
    "c='''Python'''    # 3개의 홑따옴표"
   ]
  },
  {
   "cell_type": "code",
   "execution_count": 58,
   "id": "0ebb08e1",
   "metadata": {},
   "outputs": [
    {
     "name": "stdout",
     "output_type": "stream",
     "text": [
      "Welcome to Python\n"
     ]
    }
   ],
   "source": [
    "print(a, b, c)"
   ]
  },
  {
   "cell_type": "code",
   "execution_count": 59,
   "id": "8202117c",
   "metadata": {},
   "outputs": [
    {
     "ename": "SyntaxError",
     "evalue": "invalid syntax (Temp/ipykernel_2200/1647636731.py, line 1)",
     "output_type": "error",
     "traceback": [
      "\u001b[1;36m  File \u001b[1;32m\"C:\\Users\\mkjang\\AppData\\Local\\Temp/ipykernel_2200/1647636731.py\"\u001b[1;36m, line \u001b[1;32m1\u001b[0m\n\u001b[1;33m    s='You're a student'\u001b[0m\n\u001b[1;37m           ^\u001b[0m\n\u001b[1;31mSyntaxError\u001b[0m\u001b[1;31m:\u001b[0m invalid syntax\n"
     ]
    }
   ],
   "source": [
    "s='You're a student'"
   ]
  },
  {
   "cell_type": "code",
   "execution_count": 60,
   "id": "9e78a38a",
   "metadata": {},
   "outputs": [
    {
     "name": "stdout",
     "output_type": "stream",
     "text": [
      "You're a student\n"
     ]
    }
   ],
   "source": [
    "s=\"You're a student\"\n",
    "print(s)"
   ]
  },
  {
   "cell_type": "code",
   "execution_count": 61,
   "id": "edff5fdc",
   "metadata": {},
   "outputs": [
    {
     "name": "stdout",
     "output_type": "stream",
     "text": [
      "Programming is \n",
      "very interesting\n"
     ]
    }
   ],
   "source": [
    "s='''Programming is \n",
    "very interesting'''\n",
    "print(s)"
   ]
  },
  {
   "cell_type": "code",
   "execution_count": 62,
   "id": "680a2a44",
   "metadata": {},
   "outputs": [],
   "source": [
    "# 12 페이지"
   ]
  },
  {
   "cell_type": "code",
   "execution_count": 63,
   "id": "72cdaa0b",
   "metadata": {},
   "outputs": [],
   "source": [
    "s='Welcome to Python'"
   ]
  },
  {
   "cell_type": "code",
   "execution_count": 64,
   "id": "21aac0f3",
   "metadata": {},
   "outputs": [
    {
     "data": {
      "text/plain": [
       "'c'"
      ]
     },
     "execution_count": 64,
     "metadata": {},
     "output_type": "execute_result"
    }
   ],
   "source": [
    "s[3]"
   ]
  },
  {
   "cell_type": "code",
   "execution_count": 65,
   "id": "4431be9c",
   "metadata": {},
   "outputs": [],
   "source": [
    "#"
   ]
  },
  {
   "cell_type": "code",
   "execution_count": 66,
   "id": "cf68616a",
   "metadata": {},
   "outputs": [],
   "source": [
    "a='Kello'"
   ]
  },
  {
   "cell_type": "code",
   "execution_count": 67,
   "id": "d2306ab9",
   "metadata": {},
   "outputs": [
    {
     "ename": "TypeError",
     "evalue": "'str' object does not support item assignment",
     "output_type": "error",
     "traceback": [
      "\u001b[1;31m---------------------------------------------------------------------\u001b[0m",
      "\u001b[1;31mTypeError\u001b[0m                           Traceback (most recent call last)",
      "\u001b[1;32m~\\AppData\\Local\\Temp/ipykernel_2200/1194718355.py\u001b[0m in \u001b[0;36m<module>\u001b[1;34m\u001b[0m\n\u001b[1;32m----> 1\u001b[1;33m \u001b[0ma\u001b[0m\u001b[1;33m[\u001b[0m\u001b[1;36m0\u001b[0m\u001b[1;33m]\u001b[0m\u001b[1;33m=\u001b[0m\u001b[1;34m'H'\u001b[0m\u001b[1;33m\u001b[0m\u001b[1;33m\u001b[0m\u001b[0m\n\u001b[0m",
      "\u001b[1;31mTypeError\u001b[0m: 'str' object does not support item assignment"
     ]
    }
   ],
   "source": [
    "a[0]='H'"
   ]
  },
  {
   "cell_type": "code",
   "execution_count": 68,
   "id": "54a60e73",
   "metadata": {},
   "outputs": [
    {
     "data": {
      "text/plain": [
       "'Kello'"
      ]
     },
     "execution_count": 68,
     "metadata": {},
     "output_type": "execute_result"
    }
   ],
   "source": [
    "a"
   ]
  },
  {
   "cell_type": "code",
   "execution_count": 69,
   "id": "60d47577",
   "metadata": {},
   "outputs": [],
   "source": [
    "a='Hello'     # re-assignment"
   ]
  },
  {
   "cell_type": "code",
   "execution_count": 70,
   "id": "4cd5ebce",
   "metadata": {},
   "outputs": [],
   "source": [
    "# 13 페이지"
   ]
  },
  {
   "cell_type": "code",
   "execution_count": 71,
   "id": "550b7519",
   "metadata": {},
   "outputs": [],
   "source": [
    "a={'name':'Hong Gil Dong',\n",
    "   'age':24,\n",
    "   'phone':'010-1234-5678',\n",
    "   'address':'Cheonan city'}"
   ]
  },
  {
   "cell_type": "code",
   "execution_count": 72,
   "id": "5cc737ee",
   "metadata": {},
   "outputs": [
    {
     "data": {
      "text/plain": [
       "{'name': 'Hong Gil Dong',\n",
       " 'age': 24,\n",
       " 'phone': '010-1234-5678',\n",
       " 'address': 'Cheonan city'}"
      ]
     },
     "execution_count": 72,
     "metadata": {},
     "output_type": "execute_result"
    }
   ],
   "source": [
    "a"
   ]
  },
  {
   "cell_type": "code",
   "execution_count": 73,
   "id": "c71298b9",
   "metadata": {},
   "outputs": [
    {
     "data": {
      "text/plain": [
       "'Hong Gil Dong'"
      ]
     },
     "execution_count": 73,
     "metadata": {},
     "output_type": "execute_result"
    }
   ],
   "source": [
    "a['name']"
   ]
  },
  {
   "cell_type": "code",
   "execution_count": 74,
   "id": "ff23b795",
   "metadata": {},
   "outputs": [],
   "source": [
    "a['age']=30"
   ]
  },
  {
   "cell_type": "code",
   "execution_count": 75,
   "id": "31084c1b",
   "metadata": {},
   "outputs": [
    {
     "name": "stdout",
     "output_type": "stream",
     "text": [
      "{'name': 'Hong Gil Dong', 'age': 30, 'phone': '010-1234-5678', 'address': 'Cheonan city'}\n"
     ]
    }
   ],
   "source": [
    "print(a)"
   ]
  },
  {
   "cell_type": "code",
   "execution_count": 76,
   "id": "bed88f66",
   "metadata": {},
   "outputs": [],
   "source": [
    "# 14 페이지"
   ]
  },
  {
   "cell_type": "code",
   "execution_count": 77,
   "id": "ed57a1b6",
   "metadata": {},
   "outputs": [
    {
     "data": {
      "text/plain": [
       "'010-1234-5678'"
      ]
     },
     "execution_count": 77,
     "metadata": {},
     "output_type": "execute_result"
    }
   ],
   "source": [
    "a['phone']"
   ]
  },
  {
   "cell_type": "code",
   "execution_count": 78,
   "id": "cb1f658c",
   "metadata": {},
   "outputs": [
    {
     "name": "stdout",
     "output_type": "stream",
     "text": [
      "{'name': 'Hong Gil Dong', 'age': 30, 'phone': '010-1234-5678', 'address': 'Seoul'}\n"
     ]
    }
   ],
   "source": [
    "a['address']='Seoul'\n",
    "print(a)"
   ]
  },
  {
   "cell_type": "code",
   "execution_count": 79,
   "id": "93fd065c",
   "metadata": {},
   "outputs": [
    {
     "name": "stdout",
     "output_type": "stream",
     "text": [
      "{'name': 'Hong Gil Dong', 'age': 31, 'phone': '010-1234-5678', 'address': 'Seoul'}\n"
     ]
    }
   ],
   "source": [
    "a['age']=a['age']+1\n",
    "print(a)"
   ]
  },
  {
   "cell_type": "code",
   "execution_count": null,
   "id": "4684bda3",
   "metadata": {},
   "outputs": [],
   "source": []
  }
 ],
 "metadata": {
  "kernelspec": {
   "display_name": "Python 3 (ipykernel)",
   "language": "python",
   "name": "python3"
  },
  "language_info": {
   "codemirror_mode": {
    "name": "ipython",
    "version": 3
   },
   "file_extension": ".py",
   "mimetype": "text/x-python",
   "name": "python",
   "nbconvert_exporter": "python",
   "pygments_lexer": "ipython3",
   "version": "3.9.7"
  }
 },
 "nbformat": 4,
 "nbformat_minor": 5
}
