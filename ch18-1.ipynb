{
 "cells": [
  {
   "cell_type": "markdown",
   "id": "ba3e4f4a",
   "metadata": {},
   "source": [
    "# 18장. 스크립트와 모듈, 그리고 매직명령어"
   ]
  },
  {
   "cell_type": "code",
   "execution_count": 1,
   "id": "71672614",
   "metadata": {},
   "outputs": [
    {
     "data": {
      "application/json": {
       "cell": {
        "!": "OSMagics",
        "HTML": "Other",
        "SVG": "Other",
        "bash": "Other",
        "capture": "ExecutionMagics",
        "cmd": "Other",
        "debug": "ExecutionMagics",
        "file": "Other",
        "html": "DisplayMagics",
        "javascript": "DisplayMagics",
        "js": "DisplayMagics",
        "latex": "DisplayMagics",
        "markdown": "DisplayMagics",
        "perl": "Other",
        "prun": "ExecutionMagics",
        "pypy": "Other",
        "python": "Other",
        "python2": "Other",
        "python3": "Other",
        "ruby": "Other",
        "script": "ScriptMagics",
        "sh": "Other",
        "svg": "DisplayMagics",
        "sx": "OSMagics",
        "system": "OSMagics",
        "time": "ExecutionMagics",
        "timeit": "ExecutionMagics",
        "writefile": "OSMagics"
       },
       "line": {
        "alias": "OSMagics",
        "alias_magic": "BasicMagics",
        "autoawait": "AsyncMagics",
        "autocall": "AutoMagics",
        "automagic": "AutoMagics",
        "autosave": "KernelMagics",
        "bookmark": "OSMagics",
        "cd": "OSMagics",
        "clear": "KernelMagics",
        "cls": "KernelMagics",
        "colors": "BasicMagics",
        "conda": "PackagingMagics",
        "config": "ConfigMagics",
        "connect_info": "KernelMagics",
        "copy": "Other",
        "ddir": "Other",
        "debug": "ExecutionMagics",
        "dhist": "OSMagics",
        "dirs": "OSMagics",
        "doctest_mode": "BasicMagics",
        "echo": "Other",
        "ed": "Other",
        "edit": "KernelMagics",
        "env": "OSMagics",
        "gui": "BasicMagics",
        "hist": "Other",
        "history": "HistoryMagics",
        "killbgscripts": "ScriptMagics",
        "ldir": "Other",
        "less": "KernelMagics",
        "load": "CodeMagics",
        "load_ext": "ExtensionMagics",
        "loadpy": "CodeMagics",
        "logoff": "LoggingMagics",
        "logon": "LoggingMagics",
        "logstart": "LoggingMagics",
        "logstate": "LoggingMagics",
        "logstop": "LoggingMagics",
        "ls": "Other",
        "lsmagic": "BasicMagics",
        "macro": "ExecutionMagics",
        "magic": "BasicMagics",
        "matplotlib": "PylabMagics",
        "mkdir": "Other",
        "more": "KernelMagics",
        "notebook": "BasicMagics",
        "page": "BasicMagics",
        "pastebin": "CodeMagics",
        "pdb": "ExecutionMagics",
        "pdef": "NamespaceMagics",
        "pdoc": "NamespaceMagics",
        "pfile": "NamespaceMagics",
        "pinfo": "NamespaceMagics",
        "pinfo2": "NamespaceMagics",
        "pip": "PackagingMagics",
        "popd": "OSMagics",
        "pprint": "BasicMagics",
        "precision": "BasicMagics",
        "prun": "ExecutionMagics",
        "psearch": "NamespaceMagics",
        "psource": "NamespaceMagics",
        "pushd": "OSMagics",
        "pwd": "OSMagics",
        "pycat": "OSMagics",
        "pylab": "PylabMagics",
        "qtconsole": "KernelMagics",
        "quickref": "BasicMagics",
        "recall": "HistoryMagics",
        "rehashx": "OSMagics",
        "reload_ext": "ExtensionMagics",
        "ren": "Other",
        "rep": "Other",
        "rerun": "HistoryMagics",
        "reset": "NamespaceMagics",
        "reset_selective": "NamespaceMagics",
        "rmdir": "Other",
        "run": "ExecutionMagics",
        "save": "CodeMagics",
        "sc": "OSMagics",
        "set_env": "OSMagics",
        "store": "StoreMagics",
        "sx": "OSMagics",
        "system": "OSMagics",
        "tb": "ExecutionMagics",
        "time": "ExecutionMagics",
        "timeit": "ExecutionMagics",
        "unalias": "OSMagics",
        "unload_ext": "ExtensionMagics",
        "who": "NamespaceMagics",
        "who_ls": "NamespaceMagics",
        "whos": "NamespaceMagics",
        "xdel": "NamespaceMagics",
        "xmode": "BasicMagics"
       }
      },
      "text/plain": [
       "Available line magics:\n",
       "%alias  %alias_magic  %autoawait  %autocall  %automagic  %autosave  %bookmark  %cd  %clear  %cls  %colors  %conda  %config  %connect_info  %copy  %ddir  %debug  %dhist  %dirs  %doctest_mode  %echo  %ed  %edit  %env  %gui  %hist  %history  %killbgscripts  %ldir  %less  %load  %load_ext  %loadpy  %logoff  %logon  %logstart  %logstate  %logstop  %ls  %lsmagic  %macro  %magic  %matplotlib  %mkdir  %more  %notebook  %page  %pastebin  %pdb  %pdef  %pdoc  %pfile  %pinfo  %pinfo2  %pip  %popd  %pprint  %precision  %prun  %psearch  %psource  %pushd  %pwd  %pycat  %pylab  %qtconsole  %quickref  %recall  %rehashx  %reload_ext  %ren  %rep  %rerun  %reset  %reset_selective  %rmdir  %run  %save  %sc  %set_env  %store  %sx  %system  %tb  %time  %timeit  %unalias  %unload_ext  %who  %who_ls  %whos  %xdel  %xmode\n",
       "\n",
       "Available cell magics:\n",
       "%%!  %%HTML  %%SVG  %%bash  %%capture  %%cmd  %%debug  %%file  %%html  %%javascript  %%js  %%latex  %%markdown  %%perl  %%prun  %%pypy  %%python  %%python2  %%python3  %%ruby  %%script  %%sh  %%svg  %%sx  %%system  %%time  %%timeit  %%writefile\n",
       "\n",
       "Automagic is ON, % prefix IS NOT needed for line magics."
      ]
     },
     "execution_count": 1,
     "metadata": {},
     "output_type": "execute_result"
    }
   ],
   "source": [
    "%lsmagic"
   ]
  },
  {
   "cell_type": "code",
   "execution_count": 2,
   "id": "59705fca",
   "metadata": {},
   "outputs": [
    {
     "data": {
      "text/plain": [
       "'C:\\\\pydev\\\\Scripts'"
      ]
     },
     "execution_count": 2,
     "metadata": {},
     "output_type": "execute_result"
    }
   ],
   "source": [
    "%pwd"
   ]
  },
  {
   "cell_type": "code",
   "execution_count": 3,
   "id": "e8c1d8f1",
   "metadata": {},
   "outputs": [
    {
     "name": "stdout",
     "output_type": "stream",
     "text": [
      " C 드라이브의 볼륨에는 이름이 없습니다.\n",
      " 볼륨 일련 번호: 1AD1-F2D2\n",
      "\n",
      " C:\\pydev\\Scripts 디렉터리\n",
      "\n",
      "2022-08-23  오후 05:18    <DIR>          .\n",
      "2022-08-23  오후 05:18    <DIR>          ..\n",
      "2022-08-23  오후 05:18    <DIR>          .ipynb_checkpoints\n",
      "2022-02-19  오후 09:52    <DIR>          __pycache__\n",
      "2022-02-23  오전 01:50           121,781 24장.폰트\n",
      "2022-02-23  오전 02:07           164,041 24장_차트.ipynb\n",
      "2022-02-23  오후 07:27           129,788 24장_폰트.ipynb\n",
      "2021-09-12  오후 10:54             1,954 activate\n",
      "2021-09-12  오후 10:54               946 activate.bat\n",
      "2021-09-12  오후 10:54            19,408 Activate.ps1\n",
      "2022-08-22  오후 08:11             1,332 ch02.ipynb\n",
      "2022-08-22  오후 08:13             4,477 ch05.ipynb\n",
      "2022-08-22  오후 08:33            12,564 ch06.ipynb\n",
      "2022-08-22  오후 08:30             8,462 ch07.ipynb\n",
      "2022-08-22  오후 08:39             7,901 ch08.ipynb\n",
      "2022-08-22  오후 08:47         8,706,394 ch09.ipynb\n",
      "2022-08-22  오후 08:53            19,493 ch10.ipynb\n",
      "2022-08-22  오후 10:29             8,574 ch11.ipynb\n",
      "2022-08-22  오후 10:29             1,896 ch11-1.ipynb\n",
      "2022-08-22  오후 09:40            10,014 ch12.ipynb\n",
      "2022-08-22  오후 10:15            15,752 ch13.ipynb\n",
      "2022-08-22  오후 10:23            17,535 ch14.ipynb\n",
      "2022-08-23  오후 04:26             9,351 ch15.ipynb\n",
      "2022-08-23  오후 04:40            11,041 ch16.ipynb\n",
      "2022-08-23  오후 05:17            14,755 ch17.ipynb\n",
      "2022-08-23  오후 05:18               750 ch18.ipynb\n",
      "2021-11-10  오후 05:25        11,372,032 chromedriver.exe\n",
      "2021-09-12  오후 10:54               368 deactivate.bat\n",
      "2021-10-27  오후 09:16           106,333 f2py.exe\n",
      "2021-10-23  오후 10:01           106,348 iptest.exe\n",
      "2021-10-23  오후 10:01           106,348 iptest3.exe\n",
      "2021-10-23  오후 10:01           106,341 ipython.exe\n",
      "2021-10-23  오후 10:01           106,341 ipython3.exe\n",
      "2021-10-23  오후 10:01           106,330 jsonschema.exe\n",
      "2021-10-23  오후 10:01           106,336 jupyter.exe\n",
      "2021-10-23  오후 10:01           106,350 jupyter-bundlerextension.exe\n",
      "2021-10-23  오후 10:01           106,335 jupyter-console.exe\n",
      "2021-10-23  오후 10:01           106,352 jupyter-dejavu.exe\n",
      "2021-10-23  오후 10:01           106,340 jupyter-kernel.exe\n",
      "2021-10-23  오후 10:01           106,378 jupyter-kernelspec.exe\n",
      "2021-10-23  오후 10:01           106,336 jupyter-migrate.exe\n",
      "2021-10-23  오후 10:01           106,338 jupyter-nbconvert.exe\n",
      "2021-10-23  오후 10:01           106,337 jupyter-nbextension.exe\n",
      "2021-10-23  오후 10:01           106,336 jupyter-notebook.exe\n",
      "2021-10-23  오후 10:01           100,195 jupyter-qtconsole.exe\n",
      "2021-10-23  오후 10:01           106,357 jupyter-run.exe\n",
      "2021-10-23  오후 10:01           106,341 jupyter-serverextension.exe\n",
      "2021-10-23  오후 10:01           106,341 jupyter-troubleshoot.exe\n",
      "2021-10-23  오후 10:01           106,369 jupyter-trust.exe\n",
      "2022-02-26  오후 04:18    <DIR>          mypackage\n",
      "2021-12-05  오후 07:44    <DIR>          myScripts\n",
      "2021-09-12  오후 10:54           106,338 pip.exe\n",
      "2021-09-12  오후 10:54           106,338 pip3.9.exe\n",
      "2021-09-12  오후 10:54           106,338 pip3.exe\n",
      "2021-10-23  오후 10:01           106,332 pygmentize.exe\n",
      "2021-09-12  오후 10:54           543,464 python.exe\n",
      "2021-09-12  오후 10:54           542,440 pythonw.exe\n",
      "2021-10-23  오후 10:01            26,854 pywin32_postinstall.py\n",
      "2021-10-23  오후 10:01             3,521 pywin32_testall.py\n",
      "2021-10-26  오후 06:26                22 sample.py\n",
      "2021-10-23  오후 10:01           106,335 send2trash.exe\n",
      "2022-02-19  오후 09:49                37 test123.py\n",
      "2021-10-24  오전 12:46            10,430 Untitled.ipynb\n",
      "2021-10-24  오전 01:18             2,608 Untitled1.ipynb\n",
      "2021-10-30  오전 12:22             4,477 Untitled10.ipynb\n",
      "2021-10-31  오후 11:34             2,929 Untitled11.ipynb\n",
      "2021-11-05  오후 09:10             1,260 Untitled12.ipynb\n",
      "2021-11-06  오후 04:44             1,996 Untitled13.ipynb\n",
      "2021-11-07  오후 01:05            11,455 Untitled14.ipynb\n",
      "2021-11-09  오후 12:36                72 Untitled15.ipynb\n",
      "2021-11-11  오후 10:32             5,208 Untitled16.ipynb\n",
      "2021-11-12  오후 07:07             5,885 Untitled17.ipynb\n",
      "2021-11-14  오전 01:25             4,009 Untitled18.ipynb\n",
      "2021-11-17  오후 10:25             3,856 Untitled19.ipynb\n",
      "2021-10-24  오전 02:32             6,044 Untitled2.ipynb\n",
      "2021-12-05  오후 11:18            12,893 Untitled20.ipynb\n",
      "2022-02-14  오후 09:38            34,012 Untitled21.ipynb\n",
      "2022-02-15  오후 09:27             4,057 Untitled22.ipynb\n",
      "2022-02-15  오후 09:52             2,048 Untitled23.ipynb\n",
      "2022-02-17  오후 07:52             7,953 Untitled24.ipynb\n",
      "2022-02-17  오후 10:27            13,918 Untitled25.ipynb\n",
      "2022-02-18  오후 07:18             3,146 Untitled26.ipynb\n",
      "2022-02-18  오후 07:17                72 Untitled27.ipynb\n",
      "2022-02-18  오후 07:21            11,031 Untitled28.ipynb\n",
      "2022-02-18  오후 07:23             3,616 Untitled29.ipynb\n",
      "2021-10-27  오전 01:18             7,375 Untitled3.ipynb\n",
      "2022-02-18  오후 07:26             2,045 Untitled30.ipynb\n",
      "2022-02-18  오후 07:27                72 Untitled31.ipynb\n",
      "2022-02-18  오후 07:31             1,726 Untitled32.ipynb\n",
      "2022-02-18  오후 07:32                72 Untitled33.ipynb\n",
      "2022-02-18  오후 07:35                72 Untitled34.ipynb\n",
      "2022-02-18  오후 07:39               870 Untitled35.ipynb\n",
      "2022-02-18  오후 07:41             5,630 Untitled36.ipynb\n",
      "2022-02-18  오후 07:46               588 Untitled37.ipynb\n",
      "2022-02-18  오후 11:54             3,752 Untitled38.ipynb\n",
      "2022-02-19  오전 12:02             2,775 Untitled39.ipynb\n",
      "2021-10-27  오전 01:23                72 Untitled4.ipynb\n",
      "2022-02-19  오전 01:02             4,691 Untitled40.ipynb\n",
      "2022-02-19  오전 01:03             1,635 Untitled41.ipynb\n",
      "2022-02-19  오전 01:56                72 Untitled42.ipynb\n",
      "2022-02-19  오전 01:58                72 Untitled43.ipynb\n",
      "2022-02-19  오후 09:51             6,590 Untitled44.ipynb\n",
      "2022-02-19  오후 09:54             1,013 Untitled45.ipynb\n",
      "2022-02-20  오전 12:00                72 Untitled46.ipynb\n",
      "2022-02-20  오전 12:03               878 Untitled47.ipynb\n",
      "2022-02-20  오전 02:01             1,855 Untitled48.ipynb\n",
      "2022-02-20  오전 02:26             2,601 Untitled49.ipynb\n",
      "2021-10-27  오후 10:17            11,014 Untitled5.ipynb\n",
      "2022-02-20  오전 02:30             1,414 Untitled50.ipynb\n",
      "2022-02-20  오전 03:10           140,310 Untitled51.ipynb\n",
      "2022-02-21  오전 12:54            50,830 Untitled52.ipynb\n",
      "2022-02-23  오전 01:06           121,145 Untitled53.ipynb\n",
      "2022-02-23  오후 06:54               588 Untitled54.ipynb\n",
      "2022-02-24  오전 02:40            48,667 Untitled55.ipynb\n",
      "2022-02-24  오후 05:36            58,835 Untitled56.ipynb\n",
      "2022-02-24  오후 05:38                72 Untitled57.ipynb\n",
      "2022-02-24  오후 05:39                72 Untitled58.ipynb\n",
      "2022-02-24  오후 05:39                72 Untitled59.ipynb\n",
      "2021-10-27  오후 11:06             1,725 Untitled6.ipynb\n",
      "2022-02-24  오후 05:42             1,087 Untitled60.ipynb\n",
      "2022-02-24  오후 05:46                72 Untitled61.ipynb\n",
      "2022-02-24  오후 05:58             1,295 Untitled62.ipynb\n",
      "2022-02-26  오후 04:34                72 Untitled63.ipynb\n",
      "2022-02-26  오후 04:37             1,506 Untitled64.ipynb\n",
      "2022-02-26  오후 08:22                72 Untitled65.ipynb\n",
      "2022-02-26  오후 08:25             1,414 Untitled66.ipynb\n",
      "2022-02-26  오후 08:51             1,575 Untitled67.ipynb\n",
      "2022-03-02  오후 09:12            45,940 Untitled68.ipynb\n",
      "2022-03-06  오전 02:02            27,643 Untitled69.ipynb\n",
      "2021-10-28  오전 12:15             2,814 Untitled7.ipynb\n",
      "2022-03-25  오전 02:12            14,079 Untitled70.ipynb\n",
      "2022-03-25  오전 12:54             4,329 Untitled71.ipynb\n",
      "2022-03-25  오전 02:35            38,743 Untitled72.ipynb\n",
      "2022-08-18  오후 01:32               588 Untitled73.ipynb\n",
      "2022-08-22  오후 03:09               588 Untitled74.ipynb\n",
      "2022-08-22  오후 03:12                72 Untitled75.ipynb\n",
      "2022-08-22  오후 03:28             4,518 Untitled76.ipynb\n",
      "2022-08-22  오후 03:47            12,934 Untitled77.ipynb\n",
      "2022-08-22  오후 03:52             6,649 Untitled78.ipynb\n",
      "2022-08-22  오후 03:58             3,253 Untitled79.ipynb\n",
      "2021-10-28  오후 11:34                72 Untitled8.ipynb\n",
      "2022-08-22  오후 05:50                72 Untitled80.ipynb\n",
      "2022-08-22  오후 08:55               588 Untitled81.ipynb\n",
      "2022-08-22  오후 09:13                72 Untitled82.ipynb\n",
      "2022-08-22  오후 09:38             8,796 Untitled83.ipynb\n",
      "2022-08-22  오후 10:15            15,752 Untitled84.ipynb\n",
      "2022-08-23  오후 04:15                72 Untitled85.ipynb\n",
      "2022-08-23  오후 04:27                72 Untitled86.ipynb\n",
      "2022-08-23  오후 05:17            14,755 Untitled87.ipynb\n",
      "2022-08-23  오후 05:17                72 Untitled88.ipynb\n",
      "2021-10-29  오후 11:59             3,326 Untitled9.ipynb\n",
      "2022-02-19  오전 12:23    <DIR>          발구지\n",
      "2022-08-23  오후 05:18               750 초18.ipynb\n",
      "             146개 파일          25,381,599 바이트\n",
      "               7개 디렉터리  152,855,912,448 바이트 남음\n"
     ]
    }
   ],
   "source": [
    "%ls"
   ]
  },
  {
   "cell_type": "code",
   "execution_count": 4,
   "id": "3cde4c1d",
   "metadata": {},
   "outputs": [
    {
     "name": "stdout",
     "output_type": "stream",
     "text": [
      "C:\\pydev\n"
     ]
    }
   ],
   "source": [
    "%cd .."
   ]
  },
  {
   "cell_type": "code",
   "execution_count": 5,
   "id": "e6e3c469",
   "metadata": {},
   "outputs": [
    {
     "name": "stdout",
     "output_type": "stream",
     "text": [
      "C:\\pydev\\Lib\n"
     ]
    }
   ],
   "source": [
    "%cd Lib"
   ]
  },
  {
   "cell_type": "code",
   "execution_count": 6,
   "id": "183059bf",
   "metadata": {},
   "outputs": [
    {
     "name": "stdout",
     "output_type": "stream",
     "text": [
      "C:\\pydev\\Scripts\n"
     ]
    }
   ],
   "source": [
    "%cd ..\\Scripts"
   ]
  },
  {
   "cell_type": "code",
   "execution_count": 7,
   "id": "4a8927e8",
   "metadata": {},
   "outputs": [
    {
     "name": "stdout",
     "output_type": "stream",
     "text": [
      "c:\\program files\\python39\n"
     ]
    }
   ],
   "source": [
    "%cd c:\\program files\\python39"
   ]
  },
  {
   "cell_type": "code",
   "execution_count": 8,
   "id": "5f0c39f3",
   "metadata": {},
   "outputs": [
    {
     "name": "stdout",
     "output_type": "stream",
     "text": [
      "c:\\pydev\\scripts\n"
     ]
    }
   ],
   "source": [
    "%cd c:\\pydev\\scripts    # "
   ]
  },
  {
   "cell_type": "code",
   "execution_count": 9,
   "id": "4e2bb123",
   "metadata": {},
   "outputs": [
    {
     "data": {
      "text/plain": [
       "'c:\\\\pydev\\\\scripts'"
      ]
     },
     "execution_count": 9,
     "metadata": {},
     "output_type": "execute_result"
    }
   ],
   "source": [
    "%pwd"
   ]
  },
  {
   "cell_type": "code",
   "execution_count": 10,
   "id": "aab0a802",
   "metadata": {},
   "outputs": [
    {
     "name": "stderr",
     "output_type": "stream",
     "text": [
      "하위 디렉터리 또는 파일 myScripts이(가) 이미 있습니다.\n"
     ]
    }
   ],
   "source": [
    "%mkdir myScripts"
   ]
  },
  {
   "cell_type": "code",
   "execution_count": 12,
   "id": "ff6b2422",
   "metadata": {},
   "outputs": [
    {
     "name": "stdout",
     "output_type": "stream",
     "text": [
      "Writing hello.py\n"
     ]
    }
   ],
   "source": [
    "%%writefile hello.py\n",
    "def hello():\n",
    "    print('Hello')"
   ]
  },
  {
   "cell_type": "code",
   "execution_count": 13,
   "id": "9f8eac84",
   "metadata": {},
   "outputs": [
    {
     "name": "stdout",
     "output_type": "stream",
     "text": [
      " C 드라이브의 볼륨에는 이름이 없습니다.\n",
      " 볼륨 일련 번호: 1AD1-F2D2\n",
      "\n",
      " c:\\pydev\\scripts 디렉터리\n",
      "\n",
      "2022-08-23  오후 05:23    <DIR>          .\n",
      "2022-08-23  오후 05:23    <DIR>          ..\n",
      "2022-08-23  오후 05:18    <DIR>          .ipynb_checkpoints\n",
      "2022-02-19  오후 09:52    <DIR>          __pycache__\n",
      "2022-02-23  오전 01:50           121,781 24장.폰트\n",
      "2022-02-23  오전 02:07           164,041 24장_차트.ipynb\n",
      "2022-02-23  오후 07:27           129,788 24장_폰트.ipynb\n",
      "2021-09-12  오후 10:54             1,954 activate\n",
      "2021-09-12  오후 10:54               946 activate.bat\n",
      "2021-09-12  오후 10:54            19,408 Activate.ps1\n",
      "2022-08-22  오후 08:11             1,332 ch02.ipynb\n",
      "2022-08-22  오후 08:13             4,477 ch05.ipynb\n",
      "2022-08-22  오후 08:33            12,564 ch06.ipynb\n",
      "2022-08-22  오후 08:30             8,462 ch07.ipynb\n",
      "2022-08-22  오후 08:39             7,901 ch08.ipynb\n",
      "2022-08-22  오후 08:47         8,706,394 ch09.ipynb\n",
      "2022-08-22  오후 08:53            19,493 ch10.ipynb\n",
      "2022-08-22  오후 10:29             8,574 ch11.ipynb\n",
      "2022-08-22  오후 10:29             1,896 ch11-1.ipynb\n",
      "2022-08-22  오후 09:40            10,014 ch12.ipynb\n",
      "2022-08-22  오후 10:15            15,752 ch13.ipynb\n",
      "2022-08-22  오후 10:23            17,535 ch14.ipynb\n",
      "2022-08-23  오후 04:26             9,351 ch15.ipynb\n",
      "2022-08-23  오후 04:40            11,041 ch16.ipynb\n",
      "2022-08-23  오후 05:17            14,755 ch17.ipynb\n",
      "2022-08-23  오후 05:21            19,574 ch18.ipynb\n",
      "2021-11-10  오후 05:25        11,372,032 chromedriver.exe\n",
      "2021-09-12  오후 10:54               368 deactivate.bat\n",
      "2021-10-27  오후 09:16           106,333 f2py.exe\n",
      "2022-08-23  오후 05:23                34 hello.py\n",
      "2021-10-23  오후 10:01           106,348 iptest.exe\n",
      "2021-10-23  오후 10:01           106,348 iptest3.exe\n",
      "2021-10-23  오후 10:01           106,341 ipython.exe\n",
      "2021-10-23  오후 10:01           106,341 ipython3.exe\n",
      "2021-10-23  오후 10:01           106,330 jsonschema.exe\n",
      "2021-10-23  오후 10:01           106,336 jupyter.exe\n",
      "2021-10-23  오후 10:01           106,350 jupyter-bundlerextension.exe\n",
      "2021-10-23  오후 10:01           106,335 jupyter-console.exe\n",
      "2021-10-23  오후 10:01           106,352 jupyter-dejavu.exe\n",
      "2021-10-23  오후 10:01           106,340 jupyter-kernel.exe\n",
      "2021-10-23  오후 10:01           106,378 jupyter-kernelspec.exe\n",
      "2021-10-23  오후 10:01           106,336 jupyter-migrate.exe\n",
      "2021-10-23  오후 10:01           106,338 jupyter-nbconvert.exe\n",
      "2021-10-23  오후 10:01           106,337 jupyter-nbextension.exe\n",
      "2021-10-23  오후 10:01           106,336 jupyter-notebook.exe\n",
      "2021-10-23  오후 10:01           100,195 jupyter-qtconsole.exe\n",
      "2021-10-23  오후 10:01           106,357 jupyter-run.exe\n",
      "2021-10-23  오후 10:01           106,341 jupyter-serverextension.exe\n",
      "2021-10-23  오후 10:01           106,341 jupyter-troubleshoot.exe\n",
      "2021-10-23  오후 10:01           106,369 jupyter-trust.exe\n",
      "2022-02-26  오후 04:18    <DIR>          mypackage\n",
      "2021-12-05  오후 07:44    <DIR>          myScripts\n",
      "2021-09-12  오후 10:54           106,338 pip.exe\n",
      "2021-09-12  오후 10:54           106,338 pip3.9.exe\n",
      "2021-09-12  오후 10:54           106,338 pip3.exe\n",
      "2021-10-23  오후 10:01           106,332 pygmentize.exe\n",
      "2021-09-12  오후 10:54           543,464 python.exe\n",
      "2021-09-12  오후 10:54           542,440 pythonw.exe\n",
      "2021-10-23  오후 10:01            26,854 pywin32_postinstall.py\n",
      "2021-10-23  오후 10:01             3,521 pywin32_testall.py\n",
      "2021-10-26  오후 06:26                22 sample.py\n",
      "2021-10-23  오후 10:01           106,335 send2trash.exe\n",
      "2022-02-19  오후 09:49                37 test123.py\n",
      "2021-10-24  오전 12:46            10,430 Untitled.ipynb\n",
      "2021-10-24  오전 01:18             2,608 Untitled1.ipynb\n",
      "2021-10-30  오전 12:22             4,477 Untitled10.ipynb\n",
      "2021-10-31  오후 11:34             2,929 Untitled11.ipynb\n",
      "2021-11-05  오후 09:10             1,260 Untitled12.ipynb\n",
      "2021-11-06  오후 04:44             1,996 Untitled13.ipynb\n",
      "2021-11-07  오후 01:05            11,455 Untitled14.ipynb\n",
      "2021-11-09  오후 12:36                72 Untitled15.ipynb\n",
      "2021-11-11  오후 10:32             5,208 Untitled16.ipynb\n",
      "2021-11-12  오후 07:07             5,885 Untitled17.ipynb\n",
      "2021-11-14  오전 01:25             4,009 Untitled18.ipynb\n",
      "2021-11-17  오후 10:25             3,856 Untitled19.ipynb\n",
      "2021-10-24  오전 02:32             6,044 Untitled2.ipynb\n",
      "2021-12-05  오후 11:18            12,893 Untitled20.ipynb\n",
      "2022-02-14  오후 09:38            34,012 Untitled21.ipynb\n",
      "2022-02-15  오후 09:27             4,057 Untitled22.ipynb\n",
      "2022-02-15  오후 09:52             2,048 Untitled23.ipynb\n",
      "2022-02-17  오후 07:52             7,953 Untitled24.ipynb\n",
      "2022-02-17  오후 10:27            13,918 Untitled25.ipynb\n",
      "2022-02-18  오후 07:18             3,146 Untitled26.ipynb\n",
      "2022-02-18  오후 07:17                72 Untitled27.ipynb\n",
      "2022-02-18  오후 07:21            11,031 Untitled28.ipynb\n",
      "2022-02-18  오후 07:23             3,616 Untitled29.ipynb\n",
      "2021-10-27  오전 01:18             7,375 Untitled3.ipynb\n",
      "2022-02-18  오후 07:26             2,045 Untitled30.ipynb\n",
      "2022-02-18  오후 07:27                72 Untitled31.ipynb\n",
      "2022-02-18  오후 07:31             1,726 Untitled32.ipynb\n",
      "2022-02-18  오후 07:32                72 Untitled33.ipynb\n",
      "2022-02-18  오후 07:35                72 Untitled34.ipynb\n",
      "2022-02-18  오후 07:39               870 Untitled35.ipynb\n",
      "2022-02-18  오후 07:41             5,630 Untitled36.ipynb\n",
      "2022-02-18  오후 07:46               588 Untitled37.ipynb\n",
      "2022-02-18  오후 11:54             3,752 Untitled38.ipynb\n",
      "2022-02-19  오전 12:02             2,775 Untitled39.ipynb\n",
      "2021-10-27  오전 01:23                72 Untitled4.ipynb\n",
      "2022-02-19  오전 01:02             4,691 Untitled40.ipynb\n",
      "2022-02-19  오전 01:03             1,635 Untitled41.ipynb\n",
      "2022-02-19  오전 01:56                72 Untitled42.ipynb\n",
      "2022-02-19  오전 01:58                72 Untitled43.ipynb\n",
      "2022-02-19  오후 09:51             6,590 Untitled44.ipynb\n",
      "2022-02-19  오후 09:54             1,013 Untitled45.ipynb\n",
      "2022-02-20  오전 12:00                72 Untitled46.ipynb\n",
      "2022-02-20  오전 12:03               878 Untitled47.ipynb\n",
      "2022-02-20  오전 02:01             1,855 Untitled48.ipynb\n",
      "2022-02-20  오전 02:26             2,601 Untitled49.ipynb\n",
      "2021-10-27  오후 10:17            11,014 Untitled5.ipynb\n",
      "2022-02-20  오전 02:30             1,414 Untitled50.ipynb\n",
      "2022-02-20  오전 03:10           140,310 Untitled51.ipynb\n",
      "2022-02-21  오전 12:54            50,830 Untitled52.ipynb\n",
      "2022-02-23  오전 01:06           121,145 Untitled53.ipynb\n",
      "2022-02-23  오후 06:54               588 Untitled54.ipynb\n",
      "2022-02-24  오전 02:40            48,667 Untitled55.ipynb\n",
      "2022-02-24  오후 05:36            58,835 Untitled56.ipynb\n",
      "2022-02-24  오후 05:38                72 Untitled57.ipynb\n",
      "2022-02-24  오후 05:39                72 Untitled58.ipynb\n",
      "2022-02-24  오후 05:39                72 Untitled59.ipynb\n",
      "2021-10-27  오후 11:06             1,725 Untitled6.ipynb\n",
      "2022-02-24  오후 05:42             1,087 Untitled60.ipynb\n",
      "2022-02-24  오후 05:46                72 Untitled61.ipynb\n",
      "2022-02-24  오후 05:58             1,295 Untitled62.ipynb\n",
      "2022-02-26  오후 04:34                72 Untitled63.ipynb\n",
      "2022-02-26  오후 04:37             1,506 Untitled64.ipynb\n",
      "2022-02-26  오후 08:22                72 Untitled65.ipynb\n",
      "2022-02-26  오후 08:25             1,414 Untitled66.ipynb\n",
      "2022-02-26  오후 08:51             1,575 Untitled67.ipynb\n",
      "2022-03-02  오후 09:12            45,940 Untitled68.ipynb\n",
      "2022-03-06  오전 02:02            27,643 Untitled69.ipynb\n",
      "2021-10-28  오전 12:15             2,814 Untitled7.ipynb\n",
      "2022-03-25  오전 02:12            14,079 Untitled70.ipynb\n",
      "2022-03-25  오전 12:54             4,329 Untitled71.ipynb\n",
      "2022-03-25  오전 02:35            38,743 Untitled72.ipynb\n",
      "2022-08-18  오후 01:32               588 Untitled73.ipynb\n",
      "2022-08-22  오후 03:09               588 Untitled74.ipynb\n",
      "2022-08-22  오후 03:12                72 Untitled75.ipynb\n",
      "2022-08-22  오후 03:28             4,518 Untitled76.ipynb\n",
      "2022-08-22  오후 03:47            12,934 Untitled77.ipynb\n",
      "2022-08-22  오후 03:52             6,649 Untitled78.ipynb\n",
      "2022-08-22  오후 03:58             3,253 Untitled79.ipynb\n",
      "2021-10-28  오후 11:34                72 Untitled8.ipynb\n",
      "2022-08-22  오후 05:50                72 Untitled80.ipynb\n",
      "2022-08-22  오후 08:55               588 Untitled81.ipynb\n",
      "2022-08-22  오후 09:13                72 Untitled82.ipynb\n",
      "2022-08-22  오후 09:38             8,796 Untitled83.ipynb\n",
      "2022-08-22  오후 10:15            15,752 Untitled84.ipynb\n",
      "2022-08-23  오후 04:15                72 Untitled85.ipynb\n",
      "2022-08-23  오후 04:27                72 Untitled86.ipynb\n",
      "2022-08-23  오후 05:17            14,755 Untitled87.ipynb\n",
      "2022-08-23  오후 05:17                72 Untitled88.ipynb\n",
      "2021-10-29  오후 11:59             3,326 Untitled9.ipynb\n",
      "2022-02-19  오전 12:23    <DIR>          발구지\n",
      "2022-08-23  오후 05:18               750 초18.ipynb\n",
      "             147개 파일          25,400,457 바이트\n",
      "               7개 디렉터리  152,853,487,616 바이트 남음\n"
     ]
    }
   ],
   "source": [
    "%ls"
   ]
  },
  {
   "cell_type": "code",
   "execution_count": 16,
   "id": "ca76907b",
   "metadata": {},
   "outputs": [],
   "source": [
    "# %load hello.py\n",
    "def hello():\n",
    "    print('Hello')\n"
   ]
  },
  {
   "cell_type": "code",
   "execution_count": null,
   "id": "cdacec41",
   "metadata": {},
   "outputs": [],
   "source": [
    "# %load hello.py\n",
    "def hello():\n",
    "    print('Hello')\n",
    "\n",
    "def hi():\n",
    "    print('Hi')"
   ]
  },
  {
   "cell_type": "code",
   "execution_count": 17,
   "id": "245c169a",
   "metadata": {},
   "outputs": [
    {
     "name": "stdout",
     "output_type": "stream",
     "text": [
      "c:\\pydev\\scripts\\myscripts\n"
     ]
    }
   ],
   "source": [
    "%cd myscripts"
   ]
  },
  {
   "cell_type": "code",
   "execution_count": null,
   "id": "06b3be27",
   "metadata": {},
   "outputs": [],
   "source": []
  },
  {
   "cell_type": "code",
   "execution_count": null,
   "id": "43111647",
   "metadata": {},
   "outputs": [],
   "source": []
  }
 ],
 "metadata": {
  "kernelspec": {
   "display_name": "Python 3 (ipykernel)",
   "language": "python",
   "name": "python3"
  },
  "language_info": {
   "codemirror_mode": {
    "name": "ipython",
    "version": 3
   },
   "file_extension": ".py",
   "mimetype": "text/x-python",
   "name": "python",
   "nbconvert_exporter": "python",
   "pygments_lexer": "ipython3",
   "version": "3.9.7"
  }
 },
 "nbformat": 4,
 "nbformat_minor": 5
}
