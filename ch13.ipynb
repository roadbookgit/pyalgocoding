{
 "cells": [
  {
   "cell_type": "markdown",
   "id": "1d47e6be",
   "metadata": {},
   "source": [
    "# 13장. 알고리즘 연습 PART 3"
   ]
  },
  {
   "cell_type": "code",
   "execution_count": 1,
   "id": "e0717246",
   "metadata": {},
   "outputs": [],
   "source": [
    "a=[6, 3, 9, 7, 1, 2, 8, 5, 4]"
   ]
  },
  {
   "cell_type": "code",
   "execution_count": 2,
   "id": "5b0b5b2b",
   "metadata": {},
   "outputs": [],
   "source": [
    "max=a[0]\n",
    "pos=0\n",
    "for k in range(1, len(a)):\n",
    "    if max<a[k]:\n",
    "        max=a[k]\n",
    "        pos=k"
   ]
  },
  {
   "cell_type": "code",
   "execution_count": 3,
   "id": "5327d768",
   "metadata": {},
   "outputs": [
    {
     "name": "stdout",
     "output_type": "stream",
     "text": [
      "9 2\n"
     ]
    }
   ],
   "source": [
    "print(max, pos)"
   ]
  },
  {
   "cell_type": "code",
   "execution_count": 4,
   "id": "8e4440ed",
   "metadata": {},
   "outputs": [
    {
     "data": {
      "text/plain": [
       "8"
      ]
     },
     "execution_count": 4,
     "metadata": {},
     "output_type": "execute_result"
    }
   ],
   "source": [
    "len(a)-1"
   ]
  },
  {
   "cell_type": "code",
   "execution_count": 5,
   "id": "aeda15a9",
   "metadata": {},
   "outputs": [
    {
     "data": {
      "text/plain": [
       "4"
      ]
     },
     "execution_count": 5,
     "metadata": {},
     "output_type": "execute_result"
    }
   ],
   "source": [
    "a[len(a)-1]"
   ]
  },
  {
   "cell_type": "code",
   "execution_count": 6,
   "id": "17b72203",
   "metadata": {},
   "outputs": [],
   "source": [
    "a[pos]=a[-1]\n",
    "a[-1]=a[pos]"
   ]
  },
  {
   "cell_type": "code",
   "execution_count": 7,
   "id": "37cf2f30",
   "metadata": {},
   "outputs": [
    {
     "name": "stdout",
     "output_type": "stream",
     "text": [
      "[6, 3, 4, 7, 1, 2, 8, 5, 4]\n"
     ]
    }
   ],
   "source": [
    "print(a)"
   ]
  },
  {
   "cell_type": "code",
   "execution_count": 8,
   "id": "75152e58",
   "metadata": {},
   "outputs": [],
   "source": [
    "# 이 셀은 필요에 따라 만들어진 셀로서, 책에는 포함되지 않습니다\n",
    "a=[6, 3, 9, 7, 1, 2, 8, 5, 4]\n",
    "max=a[0]\n",
    "pos=0\n",
    "for k in range(1, len(a)):\n",
    "    if max<a[k]:\n",
    "        max=a[k]\n",
    "        pos=k"
   ]
  },
  {
   "cell_type": "code",
   "execution_count": 9,
   "id": "476852f4",
   "metadata": {},
   "outputs": [],
   "source": [
    "t=a[pos]\n",
    "a[pos]=a[-1]\n",
    "a[-1]=t"
   ]
  },
  {
   "cell_type": "code",
   "execution_count": 10,
   "id": "226d0c06",
   "metadata": {},
   "outputs": [
    {
     "name": "stdout",
     "output_type": "stream",
     "text": [
      "[6, 3, 4, 7, 1, 2, 8, 5, 9]\n"
     ]
    }
   ],
   "source": [
    "print(a)"
   ]
  },
  {
   "cell_type": "code",
   "execution_count": 11,
   "id": "6d53b4fd",
   "metadata": {},
   "outputs": [],
   "source": [
    "a, b=10, 20\n",
    "a, b=b, a"
   ]
  },
  {
   "cell_type": "code",
   "execution_count": 12,
   "id": "cef76876",
   "metadata": {},
   "outputs": [
    {
     "name": "stdout",
     "output_type": "stream",
     "text": [
      "20 10\n"
     ]
    }
   ],
   "source": [
    "print(a, b)"
   ]
  },
  {
   "cell_type": "code",
   "execution_count": 13,
   "id": "7cef8b91",
   "metadata": {},
   "outputs": [
    {
     "name": "stdout",
     "output_type": "stream",
     "text": [
      "4 5 8 2 1 7 9 3 "
     ]
    }
   ],
   "source": [
    "# 연습문제의 코드로서 일부는 삭제됩니다 **\n",
    "a=[6, 3, 9, 7, 1, 2, 8, 5, 4]\n",
    "for k in range(-1, -len(a), -1):\n",
    "    print(a[k], end=' ')"
   ]
  },
  {
   "cell_type": "code",
   "execution_count": 14,
   "id": "c0461ebd",
   "metadata": {},
   "outputs": [
    {
     "name": "stdout",
     "output_type": "stream",
     "text": [
      "4 5 8 2 1 7 9 3 "
     ]
    }
   ],
   "source": [
    "# 연습문제의 코드로서 일부는 삭제됩니다 **\n",
    "a=[6, 3, 9, 7, 1, 2, 8, 5, 4]\n",
    "for k in range(len(a)-1, 0, -1):\n",
    "    print(a[k], end=' ')"
   ]
  },
  {
   "cell_type": "code",
   "execution_count": 15,
   "id": "8b31a6b4",
   "metadata": {},
   "outputs": [],
   "source": [
    "a=[6, 3, 9, 7, 1, 2, 8, 5, 4]"
   ]
  },
  {
   "cell_type": "code",
   "execution_count": 16,
   "id": "09246c4e",
   "metadata": {},
   "outputs": [],
   "source": [
    "max=a[0]\n",
    "pos=0\n",
    "for k in range(1, len(a)):\n",
    "    if max<a[k]:\n",
    "        max=a[k]\n",
    "        pos=k\n",
    "a[pos], a[len(a)-1] = a[len(a)-1], a[pos]"
   ]
  },
  {
   "cell_type": "code",
   "execution_count": 17,
   "id": "80483286",
   "metadata": {},
   "outputs": [
    {
     "name": "stdout",
     "output_type": "stream",
     "text": [
      "[6, 3, 4, 7, 1, 2, 8, 5, 9]\n"
     ]
    }
   ],
   "source": [
    "print(a)"
   ]
  },
  {
   "cell_type": "code",
   "execution_count": 18,
   "id": "80e4bbe2",
   "metadata": {},
   "outputs": [],
   "source": [
    "max=a[0]\n",
    "pos=0\n",
    "for k in range(1, len(a)-1):\n",
    "    if max<a[k]:\n",
    "        max=a[k]\n",
    "        pos=k\n",
    "        \n",
    "a[pos], a[len(a)-2] = a[len(a)-2], a[pos]"
   ]
  },
  {
   "cell_type": "code",
   "execution_count": 19,
   "id": "a4d032ce",
   "metadata": {},
   "outputs": [
    {
     "name": "stdout",
     "output_type": "stream",
     "text": [
      "[6, 3, 4, 7, 1, 2, 5, 8, 9]\n"
     ]
    }
   ],
   "source": [
    "print(a)"
   ]
  },
  {
   "cell_type": "code",
   "execution_count": 20,
   "id": "ec553fba",
   "metadata": {},
   "outputs": [],
   "source": [
    "for x in range(len(a), 0, -1):\n",
    "    max=a[0]\n",
    "    pos=0\n",
    "    for k in range(1, x):\n",
    "        if max<a[k]:\n",
    "            max=a[k]\n",
    "            pos=k\n",
    "            \n",
    "    a[pos], a[x-1] = a[x-1], a[pos]"
   ]
  },
  {
   "cell_type": "code",
   "execution_count": 21,
   "id": "8ff98b2f",
   "metadata": {},
   "outputs": [],
   "source": [
    "a=[6, 3, 9, 7, 1, 2, 8, 5, 4]"
   ]
  },
  {
   "cell_type": "code",
   "execution_count": 22,
   "id": "c312e85d",
   "metadata": {},
   "outputs": [],
   "source": [
    "for x in range(len(a), 0, -1):\n",
    "    max=a[0]\n",
    "    pos=0\n",
    "    for k in range(1, x):\n",
    "        if max<a[k]:\n",
    "            max=a[k]\n",
    "            pos=k\n",
    "            \n",
    "    a[pos], a[x-1] = a[x-1], a[pos]"
   ]
  },
  {
   "cell_type": "code",
   "execution_count": 23,
   "id": "5d87be50",
   "metadata": {},
   "outputs": [
    {
     "name": "stdout",
     "output_type": "stream",
     "text": [
      "[1, 2, 3, 4, 5, 6, 7, 8, 9]\n"
     ]
    }
   ],
   "source": [
    "print(a)"
   ]
  },
  {
   "cell_type": "code",
   "execution_count": 24,
   "id": "32889f5b",
   "metadata": {},
   "outputs": [],
   "source": [
    "a=[1, 2, 3, 4, 5, 6, 7]"
   ]
  },
  {
   "cell_type": "code",
   "execution_count": 25,
   "id": "de372e56",
   "metadata": {},
   "outputs": [
    {
     "name": "stdout",
     "output_type": "stream",
     "text": [
      "already sorted\n"
     ]
    }
   ],
   "source": [
    "cnt=0\n",
    "for k in range(len(a)-1):\n",
    "    if a[k]<=a[k+1]:\n",
    "        cnt=cnt+1\n",
    "        \n",
    "if cnt==len(a)-1:\n",
    "    print('already sorted')\n",
    "else:\n",
    "    print('not sorted yet')"
   ]
  },
  {
   "cell_type": "code",
   "execution_count": 26,
   "id": "0625857c",
   "metadata": {},
   "outputs": [
    {
     "name": "stdout",
     "output_type": "stream",
     "text": [
      "already sorted\n"
     ]
    }
   ],
   "source": [
    "flag=True\n",
    "for k in range(len(a)-1):\n",
    "    if a[k]>a[k+1]:\n",
    "        flag=False\n",
    "        break\n",
    "        \n",
    "if flag==True:\n",
    "    print('already sorted')\n",
    "else:\n",
    "    print('not sorted yet')    "
   ]
  },
  {
   "cell_type": "code",
   "execution_count": 27,
   "id": "062a4fa1",
   "metadata": {},
   "outputs": [],
   "source": [
    "a=[6, 3, 9, 7, 1, 2, 8, 5, 4]"
   ]
  },
  {
   "cell_type": "code",
   "execution_count": 28,
   "id": "8f84f707",
   "metadata": {},
   "outputs": [],
   "source": [
    "if a[0]>a[1]:\n",
    "    a[0], a[1]=a[1], a[0]"
   ]
  },
  {
   "cell_type": "code",
   "execution_count": 29,
   "id": "d4f5d628",
   "metadata": {},
   "outputs": [
    {
     "name": "stdout",
     "output_type": "stream",
     "text": [
      "[3, 6, 9, 7, 1, 2, 8, 5, 4]\n"
     ]
    }
   ],
   "source": [
    "print(a)"
   ]
  },
  {
   "cell_type": "code",
   "execution_count": 30,
   "id": "c6c68201",
   "metadata": {},
   "outputs": [],
   "source": [
    "a=[6, 3, 9, 7, 1, 2, 8, 5, 4]"
   ]
  },
  {
   "cell_type": "code",
   "execution_count": 31,
   "id": "487fcfef",
   "metadata": {},
   "outputs": [],
   "source": [
    "if a[0]>a[1]:\n",
    "    a[0], a[1]=a[1], a[0]\n",
    "if a[1]>a[2]:\n",
    "    a[1], a[2]=a[2], a[1]\n",
    "if a[2]>a[3]:\n",
    "    a[2], a[3]=a[3], a[2]\n",
    "if a[3]>a[4]:\n",
    "    a[3], a[4]=a[4], a[3]\n",
    "if a[4]>a[5]:\n",
    "    a[4], a[5]=a[5], a[4]\n",
    "if a[5]>a[6]:\n",
    "    a[5], a[6]=a[6], a[5]\n",
    "if a[6]>a[7]:\n",
    "    a[6], a[7]=a[7], a[6]\n",
    "if a[7]>a[8]:\n",
    "    a[7], a[8]=a[8], a[7]"
   ]
  },
  {
   "cell_type": "code",
   "execution_count": 32,
   "id": "13d648b7",
   "metadata": {},
   "outputs": [
    {
     "name": "stdout",
     "output_type": "stream",
     "text": [
      "[3, 6, 7, 1, 2, 8, 5, 4, 9]\n"
     ]
    }
   ],
   "source": [
    "print(a)"
   ]
  },
  {
   "cell_type": "code",
   "execution_count": 33,
   "id": "00694ea3",
   "metadata": {},
   "outputs": [],
   "source": [
    "a=[6, 3, 9, 7, 1, 2, 8, 5, 4]"
   ]
  },
  {
   "cell_type": "code",
   "execution_count": 34,
   "id": "91bdf01f",
   "metadata": {},
   "outputs": [],
   "source": [
    "for k in range(len(a)-1):\n",
    "    if a[k]>a[k+1]:\n",
    "        a[k], a[k+1]=a[k+1], a[k]"
   ]
  },
  {
   "cell_type": "code",
   "execution_count": 35,
   "id": "61b42938",
   "metadata": {},
   "outputs": [
    {
     "name": "stdout",
     "output_type": "stream",
     "text": [
      "[3, 6, 7, 1, 2, 8, 5, 4, 9]\n"
     ]
    }
   ],
   "source": [
    "print(a)"
   ]
  },
  {
   "cell_type": "code",
   "execution_count": 36,
   "id": "0bda97ee",
   "metadata": {},
   "outputs": [],
   "source": [
    "for k in range(len(a)-2):\n",
    "    if a[k]>a[k+1]:\n",
    "        a[k], a[k+1]=a[k+1], a[k]"
   ]
  },
  {
   "cell_type": "code",
   "execution_count": 37,
   "id": "0f0a3f09",
   "metadata": {},
   "outputs": [
    {
     "name": "stdout",
     "output_type": "stream",
     "text": [
      "[3, 6, 1, 2, 7, 5, 4, 8, 9]\n"
     ]
    }
   ],
   "source": [
    "print(a)"
   ]
  },
  {
   "cell_type": "code",
   "execution_count": 38,
   "id": "a6b61c3a",
   "metadata": {},
   "outputs": [],
   "source": [
    "for k in range(len(a)-3):\n",
    "    if a[k]>a[k+1]:\n",
    "        a[k], a[k+1]=a[k+1], a[k]"
   ]
  },
  {
   "cell_type": "code",
   "execution_count": 39,
   "id": "3fd30659",
   "metadata": {},
   "outputs": [
    {
     "name": "stdout",
     "output_type": "stream",
     "text": [
      "[3, 1, 2, 6, 5, 4, 7, 8, 9]\n"
     ]
    }
   ],
   "source": [
    "print(a)"
   ]
  },
  {
   "cell_type": "code",
   "execution_count": 40,
   "id": "6f2e8b6c",
   "metadata": {},
   "outputs": [],
   "source": [
    "a=[6, 3, 9, 7, 1, 2, 8, 5, 4]"
   ]
  },
  {
   "cell_type": "code",
   "execution_count": 41,
   "id": "79da7ffc",
   "metadata": {},
   "outputs": [
    {
     "name": "stdout",
     "output_type": "stream",
     "text": [
      "[3, 6, 7, 1, 2, 8, 5, 4, 9]\n",
      "[3, 6, 1, 2, 7, 5, 4, 8, 9]\n",
      "[3, 1, 2, 6, 5, 4, 7, 8, 9]\n",
      "[1, 2, 3, 5, 4, 6, 7, 8, 9]\n",
      "[1, 2, 3, 4, 5, 6, 7, 8, 9]\n",
      "[1, 2, 3, 4, 5, 6, 7, 8, 9]\n",
      "[1, 2, 3, 4, 5, 6, 7, 8, 9]\n",
      "[1, 2, 3, 4, 5, 6, 7, 8, 9]\n"
     ]
    }
   ],
   "source": [
    "for x in range(len(a)-1, 0, -1):\n",
    "    for k in range(x):\n",
    "        if a[k]>a[k+1]:\n",
    "            a[k], a[k+1]=a[k+1], a[k]\n",
    "    print(a)"
   ]
  },
  {
   "cell_type": "code",
   "execution_count": 42,
   "id": "db2a0046",
   "metadata": {},
   "outputs": [],
   "source": [
    "a=[6, 3, 9, 7, 1, 2, 8, 5, 4]"
   ]
  },
  {
   "cell_type": "code",
   "execution_count": 43,
   "id": "29a0e900",
   "metadata": {},
   "outputs": [
    {
     "name": "stdout",
     "output_type": "stream",
     "text": [
      "[3, 6, 7, 1, 2, 8, 5, 4, 9]\n",
      "[3, 6, 1, 2, 7, 5, 4, 8, 9]\n",
      "[3, 1, 2, 6, 5, 4, 7, 8, 9]\n",
      "[1, 2, 3, 5, 4, 6, 7, 8, 9]\n",
      "[1, 2, 3, 4, 5, 6, 7, 8, 9]\n"
     ]
    }
   ],
   "source": [
    "for x in range(len(a)-1, 0, -1):\n",
    "    flag=True\n",
    "    for k in range(x):\n",
    "        if a[k]>a[k+1]:\n",
    "            a[k], a[k+1]=a[k+1], a[k]\n",
    "            flag=False\n",
    "    if flag==True:\n",
    "        break\n",
    "    print(a)"
   ]
  },
  {
   "cell_type": "code",
   "execution_count": 44,
   "id": "a0236659",
   "metadata": {},
   "outputs": [
    {
     "data": {
      "text/plain": [
       "True"
      ]
     },
     "execution_count": 44,
     "metadata": {},
     "output_type": "execute_result"
    }
   ],
   "source": [
    "'mango'>'carrot'"
   ]
  },
  {
   "cell_type": "code",
   "execution_count": 45,
   "id": "2f0173dc",
   "metadata": {},
   "outputs": [],
   "source": [
    "a=['carrot', 'mango', 'banana', 'apple', 'cherry']"
   ]
  },
  {
   "cell_type": "code",
   "execution_count": 46,
   "id": "6002759b",
   "metadata": {},
   "outputs": [],
   "source": [
    "for x in range(len(a), 0, -1):\n",
    "    max=a[0]\n",
    "    pos=0\n",
    "    for k in range(1, x):\n",
    "        if max<a[k]:\n",
    "            max=a[k]\n",
    "            pos=k\n",
    "            \n",
    "    a[pos], a[x-1] = a[x-1], a[pos]"
   ]
  },
  {
   "cell_type": "code",
   "execution_count": 47,
   "id": "12fb0ca6",
   "metadata": {},
   "outputs": [
    {
     "name": "stdout",
     "output_type": "stream",
     "text": [
      "['apple', 'banana', 'carrot', 'cherry', 'mango']\n"
     ]
    }
   ],
   "source": [
    "print(a)"
   ]
  },
  {
   "cell_type": "code",
   "execution_count": 48,
   "id": "ec5c0673",
   "metadata": {},
   "outputs": [],
   "source": [
    "for x in range(len(a)):\n",
    "    max=a[x]\n",
    "    pos=x\n",
    "    for k in range(x, len(a)):\n",
    "        if max<a[k]:\n",
    "            max=a[k]\n",
    "            pos=k\n",
    "    a[pos], a[x]=a[x], a[pos]"
   ]
  },
  {
   "cell_type": "code",
   "execution_count": 49,
   "id": "d56740ab",
   "metadata": {},
   "outputs": [],
   "source": [
    "for x in range(len(a), 0, -1):\n",
    "    min=a[0]\n",
    "    pos=0\n",
    "    for k in range(1, x):\n",
    "        if min>a[k]:\n",
    "            min=a[k]\n",
    "            pos=k\n",
    "    a[pos], a[x-1]=a[x-1], a[pos]"
   ]
  },
  {
   "cell_type": "code",
   "execution_count": null,
   "id": "e3cba1a5",
   "metadata": {},
   "outputs": [],
   "source": []
  }
 ],
 "metadata": {
  "kernelspec": {
   "display_name": "Python 3 (ipykernel)",
   "language": "python",
   "name": "python3"
  },
  "language_info": {
   "codemirror_mode": {
    "name": "ipython",
    "version": 3
   },
   "file_extension": ".py",
   "mimetype": "text/x-python",
   "name": "python",
   "nbconvert_exporter": "python",
   "pygments_lexer": "ipython3",
   "version": "3.9.7"
  }
 },
 "nbformat": 4,
 "nbformat_minor": 5
}
