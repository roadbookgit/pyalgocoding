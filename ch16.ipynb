{
 "cells": [
  {
   "cell_type": "markdown",
   "id": "ed0537a0",
   "metadata": {},
   "source": [
    "# 16장. 함수의 인자와 반환값"
   ]
  },
  {
   "cell_type": "code",
   "execution_count": 1,
   "id": "8ca08134",
   "metadata": {},
   "outputs": [],
   "source": [
    "def f(x):\n",
    "    print('passed :', x, 'id :', id(x))"
   ]
  },
  {
   "cell_type": "code",
   "execution_count": 2,
   "id": "b19d6343",
   "metadata": {},
   "outputs": [
    {
     "name": "stdout",
     "output_type": "stream",
     "text": [
      "2497765534288\n",
      "passed : 10 id : 2497765534288\n"
     ]
    }
   ],
   "source": [
    "a=10\n",
    "print(id(a))\n",
    "f(a)"
   ]
  },
  {
   "cell_type": "code",
   "execution_count": 3,
   "id": "115917a2",
   "metadata": {},
   "outputs": [],
   "source": [
    "x=10\n",
    "\n",
    "def f():\n",
    "    y=20\n",
    "    \n",
    "def g():\n",
    "    z=30"
   ]
  },
  {
   "cell_type": "code",
   "execution_count": 4,
   "id": "f728ac3c",
   "metadata": {},
   "outputs": [],
   "source": [
    "def f(a):\n",
    "    b=20\n",
    "    print(a, b)"
   ]
  },
  {
   "cell_type": "code",
   "execution_count": 5,
   "id": "7226ccdf",
   "metadata": {},
   "outputs": [
    {
     "name": "stdout",
     "output_type": "stream",
     "text": [
      "10 20\n",
      "end of program\n"
     ]
    }
   ],
   "source": [
    "x=10\n",
    "f(x)\n",
    "print('end of program')"
   ]
  },
  {
   "cell_type": "code",
   "execution_count": 6,
   "id": "4f0ca9c0",
   "metadata": {},
   "outputs": [],
   "source": [
    "def f():\n",
    "    b=20\n",
    "    print(a, b)"
   ]
  },
  {
   "cell_type": "code",
   "execution_count": 7,
   "id": "840ac5a2",
   "metadata": {},
   "outputs": [],
   "source": [
    "a=10"
   ]
  },
  {
   "cell_type": "code",
   "execution_count": 8,
   "id": "38bb362c",
   "metadata": {},
   "outputs": [
    {
     "name": "stdout",
     "output_type": "stream",
     "text": [
      "10 20\n"
     ]
    }
   ],
   "source": [
    "f()"
   ]
  },
  {
   "cell_type": "code",
   "execution_count": 9,
   "id": "3a9a8cfe",
   "metadata": {},
   "outputs": [],
   "source": [
    "def f(a, b, c):\n",
    "    print(a, b, c)"
   ]
  },
  {
   "cell_type": "code",
   "execution_count": 10,
   "id": "180d5d42",
   "metadata": {},
   "outputs": [
    {
     "name": "stdout",
     "output_type": "stream",
     "text": [
      "1 2 3\n"
     ]
    }
   ],
   "source": [
    "f(1, 2, 3)"
   ]
  },
  {
   "cell_type": "code",
   "execution_count": 11,
   "id": "4badd075",
   "metadata": {},
   "outputs": [
    {
     "ename": "TypeError",
     "evalue": "f() missing 1 required positional argument: 'c'",
     "output_type": "error",
     "traceback": [
      "\u001b[1;31m---------------------------------------------------------------------\u001b[0m",
      "\u001b[1;31mTypeError\u001b[0m                           Traceback (most recent call last)",
      "\u001b[1;32m~\\AppData\\Local\\Temp/ipykernel_5512/778366529.py\u001b[0m in \u001b[0;36m<module>\u001b[1;34m\u001b[0m\n\u001b[1;32m----> 1\u001b[1;33m \u001b[0mf\u001b[0m\u001b[1;33m(\u001b[0m\u001b[1;36m1\u001b[0m\u001b[1;33m,\u001b[0m \u001b[1;36m2\u001b[0m\u001b[1;33m)\u001b[0m\u001b[1;33m\u001b[0m\u001b[1;33m\u001b[0m\u001b[0m\n\u001b[0m",
      "\u001b[1;31mTypeError\u001b[0m: f() missing 1 required positional argument: 'c'"
     ]
    }
   ],
   "source": [
    "f(1, 2)"
   ]
  },
  {
   "cell_type": "code",
   "execution_count": 12,
   "id": "f1834fa5",
   "metadata": {},
   "outputs": [],
   "source": [
    "def f(a, b, c=100):\n",
    "    print(a, b, c)"
   ]
  },
  {
   "cell_type": "code",
   "execution_count": 13,
   "id": "66cd269d",
   "metadata": {},
   "outputs": [
    {
     "name": "stdout",
     "output_type": "stream",
     "text": [
      "10 100 1000\n"
     ]
    }
   ],
   "source": [
    "f(10, 100, 1000)"
   ]
  },
  {
   "cell_type": "code",
   "execution_count": 14,
   "id": "fba29555",
   "metadata": {},
   "outputs": [
    {
     "name": "stdout",
     "output_type": "stream",
     "text": [
      "10 50 100\n"
     ]
    }
   ],
   "source": [
    "f(10, 50)"
   ]
  },
  {
   "cell_type": "code",
   "execution_count": 15,
   "id": "239fdc3e",
   "metadata": {},
   "outputs": [
    {
     "ename": "SyntaxError",
     "evalue": "non-default argument follows default argument (Temp/ipykernel_5512/2319153022.py, line 1)",
     "output_type": "error",
     "traceback": [
      "\u001b[1;36m  File \u001b[1;32m\"C:\\Users\\mkjang\\AppData\\Local\\Temp/ipykernel_5512/2319153022.py\"\u001b[1;36m, line \u001b[1;32m1\u001b[0m\n\u001b[1;33m    def f(a, b=100, c):\u001b[0m\n\u001b[1;37m                     ^\u001b[0m\n\u001b[1;31mSyntaxError\u001b[0m\u001b[1;31m:\u001b[0m non-default argument follows default argument\n"
     ]
    }
   ],
   "source": [
    "def f(a, b=100, c):\n",
    "    print(a, b, c)"
   ]
  },
  {
   "cell_type": "code",
   "execution_count": 16,
   "id": "4d6325ef",
   "metadata": {},
   "outputs": [],
   "source": [
    "def f(a, b=100, c=1000):\n",
    "    print(a, b, c)"
   ]
  },
  {
   "cell_type": "code",
   "execution_count": 17,
   "id": "247e4097",
   "metadata": {},
   "outputs": [
    {
     "name": "stdout",
     "output_type": "stream",
     "text": [
      "10 100 1000\n"
     ]
    }
   ],
   "source": [
    "f(10)"
   ]
  },
  {
   "cell_type": "code",
   "execution_count": 18,
   "id": "b1f18976",
   "metadata": {},
   "outputs": [
    {
     "name": "stdout",
     "output_type": "stream",
     "text": [
      "10 20 1000\n"
     ]
    }
   ],
   "source": [
    "f(10, 20)"
   ]
  },
  {
   "cell_type": "code",
   "execution_count": 19,
   "id": "e8e24ac4",
   "metadata": {},
   "outputs": [
    {
     "name": "stdout",
     "output_type": "stream",
     "text": [
      "10 20 30\n"
     ]
    }
   ],
   "source": [
    "f(10, 20, 30)"
   ]
  },
  {
   "cell_type": "code",
   "execution_count": 20,
   "id": "bd085748",
   "metadata": {},
   "outputs": [],
   "source": [
    "def f(a, b, c):\n",
    "    print(a, b, c)"
   ]
  },
  {
   "cell_type": "code",
   "execution_count": 21,
   "id": "2f760f78",
   "metadata": {},
   "outputs": [
    {
     "name": "stdout",
     "output_type": "stream",
     "text": [
      "10 100 1000\n"
     ]
    }
   ],
   "source": [
    "f(10, 100, 1000)   # positional arguments"
   ]
  },
  {
   "cell_type": "code",
   "execution_count": 22,
   "id": "9aef3440",
   "metadata": {},
   "outputs": [
    {
     "name": "stdout",
     "output_type": "stream",
     "text": [
      "10 100 1000\n"
     ]
    }
   ],
   "source": [
    "f(b=100, c=1000, a=10)   # keyword arguments"
   ]
  },
  {
   "cell_type": "code",
   "execution_count": 23,
   "id": "d3d4eeff",
   "metadata": {},
   "outputs": [],
   "source": [
    "a, b, c=10, 100, 1000"
   ]
  },
  {
   "cell_type": "code",
   "execution_count": 24,
   "id": "7573f00a",
   "metadata": {},
   "outputs": [
    {
     "name": "stdout",
     "output_type": "stream",
     "text": [
      "10 100 1000\n"
     ]
    }
   ],
   "source": [
    "print(a, b, c)"
   ]
  },
  {
   "cell_type": "code",
   "execution_count": 25,
   "id": "54a071f8",
   "metadata": {},
   "outputs": [
    {
     "name": "stdout",
     "output_type": "stream",
     "text": [
      "10-100-1000\n"
     ]
    }
   ],
   "source": [
    "print(a, b, c, sep='-')"
   ]
  },
  {
   "cell_type": "code",
   "execution_count": 26,
   "id": "0bdc41a4",
   "metadata": {},
   "outputs": [
    {
     "name": "stdout",
     "output_type": "stream",
     "text": [
      "10 100 1000:"
     ]
    }
   ],
   "source": [
    "print(a, b, c, end=':')"
   ]
  },
  {
   "cell_type": "code",
   "execution_count": 27,
   "id": "d00514dd",
   "metadata": {},
   "outputs": [],
   "source": [
    "def f(a, *b, **c):\n",
    "    print(type(a))\n",
    "    print(type(b))\n",
    "    print(type(c))"
   ]
  },
  {
   "cell_type": "code",
   "execution_count": 28,
   "id": "b6d66ac6",
   "metadata": {},
   "outputs": [
    {
     "name": "stdout",
     "output_type": "stream",
     "text": [
      "<class 'int'>\n",
      "<class 'tuple'>\n",
      "<class 'dict'>\n"
     ]
    }
   ],
   "source": [
    "f(1, 2, 3, 4, 5, 6, name='Kim', age=21)"
   ]
  },
  {
   "cell_type": "code",
   "execution_count": 29,
   "id": "2efbe038",
   "metadata": {},
   "outputs": [],
   "source": [
    "def sum(*args):\n",
    "    s=0\n",
    "    for x in args:\n",
    "        s=s+x\n",
    "    print('sum=', s)"
   ]
  },
  {
   "cell_type": "code",
   "execution_count": 30,
   "id": "25cf0abe",
   "metadata": {},
   "outputs": [
    {
     "name": "stdout",
     "output_type": "stream",
     "text": [
      "sum= 6\n"
     ]
    }
   ],
   "source": [
    "sum(1, 2, 3)"
   ]
  },
  {
   "cell_type": "code",
   "execution_count": 31,
   "id": "d76c2214",
   "metadata": {},
   "outputs": [
    {
     "name": "stdout",
     "output_type": "stream",
     "text": [
      "sum= 48\n"
     ]
    }
   ],
   "source": [
    "sum(3, 5, 6, 7, 8, 9, 10)"
   ]
  },
  {
   "cell_type": "code",
   "execution_count": 32,
   "id": "a07877de",
   "metadata": {},
   "outputs": [],
   "source": [
    "def f():\n",
    "    return"
   ]
  },
  {
   "cell_type": "code",
   "execution_count": 33,
   "id": "9be5a31b",
   "metadata": {},
   "outputs": [],
   "source": [
    "f()"
   ]
  },
  {
   "cell_type": "code",
   "execution_count": 34,
   "id": "ac368400",
   "metadata": {},
   "outputs": [],
   "source": [
    "def g():\n",
    "    return 3"
   ]
  },
  {
   "cell_type": "code",
   "execution_count": 35,
   "id": "938b5c0f",
   "metadata": {},
   "outputs": [
    {
     "name": "stdout",
     "output_type": "stream",
     "text": [
      "3\n"
     ]
    }
   ],
   "source": [
    "y=g()\n",
    "print(y)"
   ]
  },
  {
   "cell_type": "code",
   "execution_count": 36,
   "id": "29dbd57a",
   "metadata": {},
   "outputs": [],
   "source": [
    "def f(x):\n",
    "    y=x+10\n",
    "    return y"
   ]
  },
  {
   "cell_type": "code",
   "execution_count": 37,
   "id": "aeff9d40",
   "metadata": {},
   "outputs": [],
   "source": [
    "y=f(1)"
   ]
  },
  {
   "cell_type": "code",
   "execution_count": 38,
   "id": "e27e6fbe",
   "metadata": {},
   "outputs": [
    {
     "name": "stdout",
     "output_type": "stream",
     "text": [
      "11\n"
     ]
    }
   ],
   "source": [
    "print(y)"
   ]
  },
  {
   "cell_type": "code",
   "execution_count": null,
   "id": "fee67ecb",
   "metadata": {},
   "outputs": [],
   "source": []
  }
 ],
 "metadata": {
  "kernelspec": {
   "display_name": "Python 3 (ipykernel)",
   "language": "python",
   "name": "python3"
  },
  "language_info": {
   "codemirror_mode": {
    "name": "ipython",
    "version": 3
   },
   "file_extension": ".py",
   "mimetype": "text/x-python",
   "name": "python",
   "nbconvert_exporter": "python",
   "pygments_lexer": "ipython3",
   "version": "3.9.7"
  }
 },
 "nbformat": 4,
 "nbformat_minor": 5
}
