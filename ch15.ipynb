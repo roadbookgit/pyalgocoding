{
 "cells": [
  {
   "cell_type": "markdown",
   "id": "622b8fa8",
   "metadata": {},
   "source": [
    "# 15장. 함수"
   ]
  },
  {
   "cell_type": "code",
   "execution_count": 1,
   "id": "f67c5f54",
   "metadata": {},
   "outputs": [],
   "source": [
    "def myprint():\n",
    "    print('1')\n",
    "    print('2')"
   ]
  },
  {
   "cell_type": "code",
   "execution_count": 2,
   "id": "a3457083",
   "metadata": {},
   "outputs": [
    {
     "name": "stdout",
     "output_type": "stream",
     "text": [
      "1\n",
      "2\n"
     ]
    }
   ],
   "source": [
    "myprint()"
   ]
  },
  {
   "cell_type": "code",
   "execution_count": 3,
   "id": "e000c081",
   "metadata": {},
   "outputs": [
    {
     "name": "stdout",
     "output_type": "stream",
     "text": [
      "Enter an integer:24\n",
      "Enter an integer:12\n",
      "sum= 36\n"
     ]
    }
   ],
   "source": [
    "a=input('Enter an integer:')\n",
    "b=int(a)\n",
    "\n",
    "c=input('Enter an integer:')\n",
    "d=int(c)\n",
    "\n",
    "e=b+d\n",
    "print('sum=', e)"
   ]
  },
  {
   "cell_type": "code",
   "execution_count": 4,
   "id": "8fb38ea0",
   "metadata": {},
   "outputs": [],
   "source": [
    "def add():\n",
    "    a=input('Enter an integer:')\n",
    "    b=int(a)\n",
    "    \n",
    "    c=input('Enter an integer:')\n",
    "    d=int(c)\n",
    "    \n",
    "    e=b+d\n",
    "    print('sum=', e)"
   ]
  },
  {
   "cell_type": "code",
   "execution_count": 5,
   "id": "498b027e",
   "metadata": {},
   "outputs": [
    {
     "name": "stdout",
     "output_type": "stream",
     "text": [
      "Enter an integer:24\n",
      "Enter an integer:12\n",
      "sum= 36\n"
     ]
    }
   ],
   "source": [
    "add()"
   ]
  },
  {
   "cell_type": "code",
   "execution_count": 6,
   "id": "1adc457b",
   "metadata": {},
   "outputs": [
    {
     "name": "stdout",
     "output_type": "stream",
     "text": [
      "Enter an integer:36\n",
      "Enter an integer:21\n",
      "sum= 57\n"
     ]
    }
   ],
   "source": [
    "add()"
   ]
  },
  {
   "cell_type": "code",
   "execution_count": 7,
   "id": "82c29497",
   "metadata": {},
   "outputs": [],
   "source": [
    "def add(a, b):\n",
    "    print(a, b)"
   ]
  },
  {
   "cell_type": "code",
   "execution_count": 8,
   "id": "4675919a",
   "metadata": {},
   "outputs": [
    {
     "name": "stdout",
     "output_type": "stream",
     "text": [
      "2 3\n"
     ]
    }
   ],
   "source": [
    "add(2, 3)"
   ]
  },
  {
   "cell_type": "code",
   "execution_count": 9,
   "id": "d01627fe",
   "metadata": {},
   "outputs": [
    {
     "name": "stdout",
     "output_type": "stream",
     "text": [
      "10 40\n"
     ]
    }
   ],
   "source": [
    "add(10, 40)"
   ]
  },
  {
   "cell_type": "code",
   "execution_count": 10,
   "id": "0091a9d6",
   "metadata": {},
   "outputs": [],
   "source": [
    "def add(a, b):\n",
    "    c=a+b"
   ]
  },
  {
   "cell_type": "code",
   "execution_count": 11,
   "id": "af598725",
   "metadata": {},
   "outputs": [],
   "source": [
    "def add(a, b):\n",
    "    c=a+b\n",
    "    return"
   ]
  },
  {
   "cell_type": "code",
   "execution_count": 12,
   "id": "d51247c3",
   "metadata": {},
   "outputs": [],
   "source": [
    "def add(a, b):\n",
    "    c=a+b\n",
    "    return c"
   ]
  },
  {
   "cell_type": "code",
   "execution_count": 13,
   "id": "3d45e465",
   "metadata": {},
   "outputs": [
    {
     "data": {
      "text/plain": [
       "5"
      ]
     },
     "execution_count": 13,
     "metadata": {},
     "output_type": "execute_result"
    }
   ],
   "source": [
    "add(2, 3)"
   ]
  },
  {
   "cell_type": "code",
   "execution_count": 14,
   "id": "66e3b1f5",
   "metadata": {},
   "outputs": [
    {
     "data": {
      "text/plain": [
       "50"
      ]
     },
     "execution_count": 14,
     "metadata": {},
     "output_type": "execute_result"
    }
   ],
   "source": [
    "add(10, 40)"
   ]
  },
  {
   "cell_type": "code",
   "execution_count": 15,
   "id": "612fea13",
   "metadata": {},
   "outputs": [
    {
     "name": "stdout",
     "output_type": "stream",
     "text": [
      "5\n"
     ]
    }
   ],
   "source": [
    "y=add(2, 3)\n",
    "print(y)"
   ]
  },
  {
   "cell_type": "code",
   "execution_count": 16,
   "id": "d4e2ac6a",
   "metadata": {},
   "outputs": [
    {
     "data": {
      "text/plain": [
       "5"
      ]
     },
     "execution_count": 16,
     "metadata": {},
     "output_type": "execute_result"
    }
   ],
   "source": [
    "2+3"
   ]
  },
  {
   "cell_type": "code",
   "execution_count": 17,
   "id": "b843282b",
   "metadata": {},
   "outputs": [],
   "source": [
    "y=2+3"
   ]
  },
  {
   "cell_type": "code",
   "execution_count": 18,
   "id": "cc12cc49",
   "metadata": {},
   "outputs": [
    {
     "name": "stdout",
     "output_type": "stream",
     "text": [
      "5\n"
     ]
    }
   ],
   "source": [
    "print(y)"
   ]
  },
  {
   "cell_type": "code",
   "execution_count": 19,
   "id": "fc41a1cc",
   "metadata": {},
   "outputs": [],
   "source": [
    "a, b=2, 5"
   ]
  },
  {
   "cell_type": "code",
   "execution_count": 20,
   "id": "88210321",
   "metadata": {},
   "outputs": [
    {
     "name": "stdout",
     "output_type": "stream",
     "text": [
      "5\n"
     ]
    }
   ],
   "source": [
    "m=a\n",
    "if b>m:\n",
    "    m=b\n",
    "print(m)"
   ]
  },
  {
   "cell_type": "code",
   "execution_count": 21,
   "id": "9d652e9c",
   "metadata": {},
   "outputs": [],
   "source": [
    "def max(a, b):\n",
    "    m=a\n",
    "    if b>m:\n",
    "        m=b\n",
    "    return m"
   ]
  },
  {
   "cell_type": "code",
   "execution_count": 22,
   "id": "9e596266",
   "metadata": {},
   "outputs": [
    {
     "data": {
      "text/plain": [
       "5"
      ]
     },
     "execution_count": 22,
     "metadata": {},
     "output_type": "execute_result"
    }
   ],
   "source": [
    "max(2, 5)"
   ]
  },
  {
   "cell_type": "code",
   "execution_count": 23,
   "id": "7d5bfb99",
   "metadata": {},
   "outputs": [],
   "source": [
    "y=max(2, 5)"
   ]
  },
  {
   "cell_type": "code",
   "execution_count": 24,
   "id": "d39339bf",
   "metadata": {},
   "outputs": [
    {
     "name": "stdout",
     "output_type": "stream",
     "text": [
      "5\n"
     ]
    }
   ],
   "source": [
    "print(y)"
   ]
  },
  {
   "cell_type": "code",
   "execution_count": 25,
   "id": "5454aa4f",
   "metadata": {},
   "outputs": [],
   "source": [
    "def max(a):\n",
    "    for x in a:\n",
    "        print(x, end=' ')"
   ]
  },
  {
   "cell_type": "code",
   "execution_count": 26,
   "id": "9cae8f45",
   "metadata": {},
   "outputs": [
    {
     "name": "stdout",
     "output_type": "stream",
     "text": [
      "1 3 5 7 9 "
     ]
    }
   ],
   "source": [
    "max([1, 3, 5, 7, 9])"
   ]
  },
  {
   "cell_type": "code",
   "execution_count": 27,
   "id": "d2ab4ddc",
   "metadata": {},
   "outputs": [],
   "source": [
    "def max(a):\n",
    "    m=a[0]\n",
    "    for k in range(1, len(a)):\n",
    "        if m<a[k]:\n",
    "            m=a[k]\n",
    "    return m"
   ]
  },
  {
   "cell_type": "code",
   "execution_count": 28,
   "id": "9ec960fc",
   "metadata": {},
   "outputs": [
    {
     "data": {
      "text/plain": [
       "9"
      ]
     },
     "execution_count": 28,
     "metadata": {},
     "output_type": "execute_result"
    }
   ],
   "source": [
    "max([1, 3, 9, 7, 5])"
   ]
  },
  {
   "cell_type": "code",
   "execution_count": 29,
   "id": "a73aa4db",
   "metadata": {},
   "outputs": [],
   "source": [
    "def sum(a):\n",
    "    s=0\n",
    "    for x in a:\n",
    "        s=s+x\n",
    "    return s"
   ]
  },
  {
   "cell_type": "code",
   "execution_count": 30,
   "id": "3d603acc",
   "metadata": {},
   "outputs": [
    {
     "data": {
      "text/plain": [
       "17"
      ]
     },
     "execution_count": 30,
     "metadata": {},
     "output_type": "execute_result"
    }
   ],
   "source": [
    "sum([1, 3, 5, 2, 6])"
   ]
  },
  {
   "cell_type": "code",
   "execution_count": 31,
   "id": "dc8b8a6c",
   "metadata": {},
   "outputs": [
    {
     "data": {
      "text/plain": [
       "8"
      ]
     },
     "execution_count": 31,
     "metadata": {},
     "output_type": "execute_result"
    }
   ],
   "source": [
    "sum([1, 1, 1, 2, 2, 1])"
   ]
  },
  {
   "cell_type": "code",
   "execution_count": 32,
   "id": "fe3fefc4",
   "metadata": {},
   "outputs": [
    {
     "data": {
      "text/plain": [
       "17"
      ]
     },
     "execution_count": 32,
     "metadata": {},
     "output_type": "execute_result"
    }
   ],
   "source": [
    "b=[1, 4, 2, 2, 3, 4, 1]\n",
    "sum(b)"
   ]
  },
  {
   "cell_type": "code",
   "execution_count": null,
   "id": "e6108aa8",
   "metadata": {},
   "outputs": [],
   "source": []
  }
 ],
 "metadata": {
  "kernelspec": {
   "display_name": "Python 3 (ipykernel)",
   "language": "python",
   "name": "python3"
  },
  "language_info": {
   "codemirror_mode": {
    "name": "ipython",
    "version": 3
   },
   "file_extension": ".py",
   "mimetype": "text/x-python",
   "name": "python",
   "nbconvert_exporter": "python",
   "pygments_lexer": "ipython3",
   "version": "3.9.7"
  }
 },
 "nbformat": 4,
 "nbformat_minor": 5
}
