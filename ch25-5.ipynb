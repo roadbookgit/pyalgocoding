{
 "cells": [
  {
   "cell_type": "code",
   "execution_count": 1,
   "id": "bd1a25a8",
   "metadata": {},
   "outputs": [],
   "source": [
    "def f(*args):\n",
    "    print(args)"
   ]
  },
  {
   "cell_type": "code",
   "execution_count": 2,
   "id": "ecb185e7",
   "metadata": {},
   "outputs": [
    {
     "name": "stdout",
     "output_type": "stream",
     "text": [
      "(1, 2)\n"
     ]
    }
   ],
   "source": [
    "f(1, 2)"
   ]
  },
  {
   "cell_type": "code",
   "execution_count": 3,
   "id": "e567ecf6",
   "metadata": {},
   "outputs": [
    {
     "name": "stdout",
     "output_type": "stream",
     "text": [
      "(1, 2, 3, 4)\n"
     ]
    }
   ],
   "source": [
    "f(1, 2, 3, 4)"
   ]
  },
  {
   "cell_type": "code",
   "execution_count": 4,
   "id": "52e29cef",
   "metadata": {},
   "outputs": [],
   "source": [
    "def f(*args):\n",
    "    for k in range(len(args)):\n",
    "        print(args[k])"
   ]
  },
  {
   "cell_type": "code",
   "execution_count": 5,
   "id": "225ec48d",
   "metadata": {},
   "outputs": [
    {
     "name": "stdout",
     "output_type": "stream",
     "text": [
      "1\n",
      "2\n",
      "3\n",
      "4\n"
     ]
    }
   ],
   "source": [
    "f(1, 2, 3, 4)"
   ]
  },
  {
   "cell_type": "code",
   "execution_count": 6,
   "id": "e321226f",
   "metadata": {},
   "outputs": [],
   "source": [
    "def f(a, *args):\n",
    "    print(a)\n",
    "    for k in range(len(args)):\n",
    "        print(args[k])"
   ]
  },
  {
   "cell_type": "code",
   "execution_count": 7,
   "id": "cef3dc6c",
   "metadata": {},
   "outputs": [
    {
     "name": "stdout",
     "output_type": "stream",
     "text": [
      "1\n",
      "2\n",
      "3\n",
      "4\n"
     ]
    }
   ],
   "source": [
    "f(1, 2, 3, 4)"
   ]
  },
  {
   "cell_type": "code",
   "execution_count": 8,
   "id": "d818d2af",
   "metadata": {},
   "outputs": [],
   "source": [
    "def g(**kwargs):\n",
    "    print(kwargs)"
   ]
  },
  {
   "cell_type": "code",
   "execution_count": 9,
   "id": "eb6fad8a",
   "metadata": {},
   "outputs": [
    {
     "name": "stdout",
     "output_type": "stream",
     "text": [
      "{'a': 1, 'b': 2, 'c': 3}\n"
     ]
    }
   ],
   "source": [
    "g(a=1, b=2, c=3)"
   ]
  },
  {
   "cell_type": "code",
   "execution_count": 10,
   "id": "803ac794",
   "metadata": {},
   "outputs": [],
   "source": [
    "def g(**kwargs):\n",
    "    if 'a' in kwargs.keys():\n",
    "        print(kwargs['a'])\n",
    "    if 'b' in kwargs.keys():\n",
    "        print(kwargs['b'])\n",
    "    if 'c' in kwargs.keys():\n",
    "        print(kwargs['c'])"
   ]
  },
  {
   "cell_type": "code",
   "execution_count": 11,
   "id": "1e0f2ea5",
   "metadata": {},
   "outputs": [
    {
     "name": "stdout",
     "output_type": "stream",
     "text": [
      "1\n",
      "2\n",
      "3\n"
     ]
    }
   ],
   "source": [
    "g(a=1, b=2, c=3)"
   ]
  },
  {
   "cell_type": "code",
   "execution_count": 12,
   "id": "5eb33387",
   "metadata": {},
   "outputs": [],
   "source": [
    "def g(**kwargs):\n",
    "    default={'a':0, 'b':0, 'c':0}\n",
    "    if 'a' not in kwargs.keys():\n",
    "        kwargs['a']=default['a']\n",
    "    if 'b' not in kwargs.keys():\n",
    "        kwargs['b']=default['b']\n",
    "    if 'c' not in kwargs.keys():\n",
    "        kwargs['c']=default['c']\n",
    "    print(kwargs)"
   ]
  },
  {
   "cell_type": "code",
   "execution_count": 13,
   "id": "99f9634e",
   "metadata": {},
   "outputs": [
    {
     "name": "stdout",
     "output_type": "stream",
     "text": [
      "{'a': 1, 'b': 0, 'c': 0}\n"
     ]
    }
   ],
   "source": [
    "g(a=1)"
   ]
  },
  {
   "cell_type": "code",
   "execution_count": 14,
   "id": "14561492",
   "metadata": {},
   "outputs": [],
   "source": [
    "def g(*, a, **kwargs):\n",
    "    print(a)\n",
    "    print(kwargs)"
   ]
  },
  {
   "cell_type": "code",
   "execution_count": 15,
   "id": "9d942616",
   "metadata": {},
   "outputs": [
    {
     "name": "stdout",
     "output_type": "stream",
     "text": [
      "1\n",
      "{'b': 2, 'c': 3}\n"
     ]
    }
   ],
   "source": [
    "g(a=1, b=2, c=3)"
   ]
  },
  {
   "cell_type": "code",
   "execution_count": 16,
   "id": "eae56a45",
   "metadata": {},
   "outputs": [],
   "source": [
    "def g(*, a=0, **kwargs):\n",
    "    print(a)\n",
    "    print(kwargs)"
   ]
  },
  {
   "cell_type": "code",
   "execution_count": 17,
   "id": "1c9ade4e",
   "metadata": {},
   "outputs": [
    {
     "name": "stdout",
     "output_type": "stream",
     "text": [
      "0\n",
      "{'b': 2, 'c': 3}\n"
     ]
    }
   ],
   "source": [
    "g(b=2, c=3)"
   ]
  },
  {
   "cell_type": "code",
   "execution_count": 18,
   "id": "39d42500",
   "metadata": {},
   "outputs": [
    {
     "name": "stdout",
     "output_type": "stream",
     "text": [
      "1\n",
      "{'b': 2, 'c': 3}\n"
     ]
    }
   ],
   "source": [
    "g(a=1, b=2, c=3)"
   ]
  },
  {
   "cell_type": "code",
   "execution_count": null,
   "id": "b4f5cf5d",
   "metadata": {},
   "outputs": [],
   "source": []
  }
 ],
 "metadata": {
  "kernelspec": {
   "display_name": "Python 3 (ipykernel)",
   "language": "python",
   "name": "python3"
  },
  "language_info": {
   "codemirror_mode": {
    "name": "ipython",
    "version": 3
   },
   "file_extension": ".py",
   "mimetype": "text/x-python",
   "name": "python",
   "nbconvert_exporter": "python",
   "pygments_lexer": "ipython3",
   "version": "3.9.7"
  }
 },
 "nbformat": 4,
 "nbformat_minor": 5
}
