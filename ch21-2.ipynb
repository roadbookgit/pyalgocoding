{
 "cells": [
  {
   "cell_type": "code",
   "execution_count": 1,
   "id": "ff1d40c9",
   "metadata": {},
   "outputs": [],
   "source": [
    "class Point:                   # 책에 포함되는 코드는 아닙니다\n",
    "    def __init__(self, a, b):\n",
    "        self.x=a\n",
    "        self.y=b\n",
    "        \n",
    "    def get_x(self):\n",
    "        return self.x\n",
    "    \n",
    "    def get_y(self):\n",
    "        return self.y\n",
    "    \n",
    "    def show(self):\n",
    "        print('Coord :', self.x, self.y)"
   ]
  },
  {
   "cell_type": "code",
   "execution_count": 2,
   "id": "b49ccc4a",
   "metadata": {},
   "outputs": [],
   "source": [
    "class Line:\n",
    "    def __init__(self, a, b):\n",
    "        self.st=a\n",
    "        self.end=b\n",
    "        \n",
    "    def show(self):\n",
    "        self.st.show()\n",
    "        self.end.show()"
   ]
  },
  {
   "cell_type": "code",
   "execution_count": 3,
   "id": "3ab9a36f",
   "metadata": {},
   "outputs": [],
   "source": [
    "p1=Point(1, 5)\n",
    "p2=Point(10, 3)\n",
    "line=Line(p1, p2)"
   ]
  },
  {
   "cell_type": "code",
   "execution_count": 4,
   "id": "86dacb91",
   "metadata": {},
   "outputs": [
    {
     "name": "stdout",
     "output_type": "stream",
     "text": [
      "Coord : 1 5\n",
      "Coord : 10 3\n"
     ]
    }
   ],
   "source": [
    "line.show()"
   ]
  },
  {
   "cell_type": "code",
   "execution_count": 5,
   "id": "7a54508e",
   "metadata": {},
   "outputs": [],
   "source": [
    "class Engine:\n",
    "    pass\n",
    "\n",
    "class Car:\n",
    "    def __init__(self, e):\n",
    "        self.engine=e"
   ]
  },
  {
   "cell_type": "code",
   "execution_count": 6,
   "id": "b2a1c071",
   "metadata": {},
   "outputs": [],
   "source": [
    "e=Engine()\n",
    "c=Car(e)"
   ]
  },
  {
   "cell_type": "code",
   "execution_count": 7,
   "id": "2414a1e8",
   "metadata": {},
   "outputs": [],
   "source": [
    "class Engine:\n",
    "    pass\n",
    "\n",
    "class Car:\n",
    "    def __init__(self):\n",
    "        self.engine=Engine()"
   ]
  },
  {
   "cell_type": "code",
   "execution_count": 8,
   "id": "0cf81dae",
   "metadata": {},
   "outputs": [],
   "source": [
    "c=Car()"
   ]
  },
  {
   "cell_type": "code",
   "execution_count": 9,
   "id": "c919e556",
   "metadata": {},
   "outputs": [],
   "source": [
    "class Car:\n",
    "    def __init__(self):\n",
    "        self.engine=Engine()\n",
    "        \n",
    "    def get_engine(self):\n",
    "        return self.engine\n",
    "    \n",
    "    def set_engine(self, new_engine):\n",
    "        self.engine=new_engine"
   ]
  },
  {
   "cell_type": "code",
   "execution_count": 10,
   "id": "723b2425",
   "metadata": {},
   "outputs": [],
   "source": [
    "class Engine:\n",
    "    def run(self):\n",
    "        print('Engine is running')\n",
    "        \n",
    "class Car:\n",
    "    def __init__(self):\n",
    "        self.engine=Engine()\n",
    "        \n",
    "    def move(self):\n",
    "        print('Car is moving')\n",
    "        self.engine.run()"
   ]
  },
  {
   "cell_type": "code",
   "execution_count": 11,
   "id": "4a1ebc7f",
   "metadata": {},
   "outputs": [],
   "source": [
    "c=Car()"
   ]
  },
  {
   "cell_type": "code",
   "execution_count": 12,
   "id": "f230d526",
   "metadata": {},
   "outputs": [
    {
     "name": "stdout",
     "output_type": "stream",
     "text": [
      "Car is moving\n",
      "Engine is running\n"
     ]
    }
   ],
   "source": [
    "c.move()"
   ]
  },
  {
   "cell_type": "code",
   "execution_count": 13,
   "id": "748ea512",
   "metadata": {},
   "outputs": [],
   "source": [
    "class A:             #   책에 포함되는 코드는 아닙니다\n",
    "    pass"
   ]
  },
  {
   "cell_type": "code",
   "execution_count": 14,
   "id": "4592794c",
   "metadata": {},
   "outputs": [],
   "source": [
    "class B(A):\n",
    "    pass"
   ]
  },
  {
   "cell_type": "code",
   "execution_count": 15,
   "id": "3b3b4a36",
   "metadata": {},
   "outputs": [],
   "source": [
    "class A:\n",
    "    def f(self):\n",
    "        print('A.f() method is invoked')\n",
    " \n",
    "    def g(self):\n",
    "        print('A.g() method is invoked')"
   ]
  },
  {
   "cell_type": "code",
   "execution_count": 16,
   "id": "d80fc4bc",
   "metadata": {},
   "outputs": [],
   "source": [
    "class B(A):\n",
    "    pass"
   ]
  },
  {
   "cell_type": "code",
   "execution_count": 17,
   "id": "0960d49b",
   "metadata": {},
   "outputs": [],
   "source": [
    "b=B()"
   ]
  },
  {
   "cell_type": "code",
   "execution_count": 18,
   "id": "67045bba",
   "metadata": {},
   "outputs": [
    {
     "name": "stdout",
     "output_type": "stream",
     "text": [
      "A.f() method is invoked\n"
     ]
    }
   ],
   "source": [
    "b.f()"
   ]
  },
  {
   "cell_type": "code",
   "execution_count": 19,
   "id": "52e1731f",
   "metadata": {},
   "outputs": [
    {
     "name": "stdout",
     "output_type": "stream",
     "text": [
      "A.g() method is invoked\n"
     ]
    }
   ],
   "source": [
    "b.g()"
   ]
  },
  {
   "cell_type": "code",
   "execution_count": 20,
   "id": "c0a86a7e",
   "metadata": {},
   "outputs": [],
   "source": [
    "class B(A):\n",
    "    def h(self):\n",
    "        print('B.h() method is invoked')"
   ]
  },
  {
   "cell_type": "code",
   "execution_count": 21,
   "id": "f916aa06",
   "metadata": {},
   "outputs": [],
   "source": [
    "b=B()"
   ]
  },
  {
   "cell_type": "code",
   "execution_count": 22,
   "id": "0997a4a3",
   "metadata": {},
   "outputs": [
    {
     "name": "stdout",
     "output_type": "stream",
     "text": [
      "A.f() method is invoked\n"
     ]
    }
   ],
   "source": [
    "b.f()"
   ]
  },
  {
   "cell_type": "code",
   "execution_count": 23,
   "id": "68db461a",
   "metadata": {},
   "outputs": [
    {
     "name": "stdout",
     "output_type": "stream",
     "text": [
      "A.g() method is invoked\n"
     ]
    }
   ],
   "source": [
    "b.g()"
   ]
  },
  {
   "cell_type": "code",
   "execution_count": 24,
   "id": "00356956",
   "metadata": {},
   "outputs": [
    {
     "name": "stdout",
     "output_type": "stream",
     "text": [
      "B.h() method is invoked\n"
     ]
    }
   ],
   "source": [
    "b.h()"
   ]
  },
  {
   "cell_type": "code",
   "execution_count": 25,
   "id": "a1370ddc",
   "metadata": {},
   "outputs": [],
   "source": [
    "class B(A):\n",
    "    def g(self):\n",
    "        print('B.g() method is invoked')\n",
    "    \n",
    "    def h(self):\n",
    "        print('B.h() method is invoked')    "
   ]
  },
  {
   "cell_type": "code",
   "execution_count": 26,
   "id": "485244f9",
   "metadata": {},
   "outputs": [],
   "source": [
    "b=B()"
   ]
  },
  {
   "cell_type": "code",
   "execution_count": 27,
   "id": "0eef19d5",
   "metadata": {},
   "outputs": [
    {
     "name": "stdout",
     "output_type": "stream",
     "text": [
      "A.f() method is invoked\n"
     ]
    }
   ],
   "source": [
    "b.f()"
   ]
  },
  {
   "cell_type": "code",
   "execution_count": 28,
   "id": "439da879",
   "metadata": {},
   "outputs": [
    {
     "name": "stdout",
     "output_type": "stream",
     "text": [
      "B.g() method is invoked\n"
     ]
    }
   ],
   "source": [
    "b.g()"
   ]
  },
  {
   "cell_type": "code",
   "execution_count": 29,
   "id": "244251c0",
   "metadata": {},
   "outputs": [
    {
     "name": "stdout",
     "output_type": "stream",
     "text": [
      "B.h() method is invoked\n"
     ]
    }
   ],
   "source": [
    "b.h()"
   ]
  },
  {
   "cell_type": "code",
   "execution_count": 30,
   "id": "262fee11",
   "metadata": {},
   "outputs": [],
   "source": [
    "class HomeAppliance:\n",
    "    def on(self):\n",
    "        pass\n",
    "    \n",
    "    def off(self):\n",
    "        pass"
   ]
  },
  {
   "cell_type": "code",
   "execution_count": 31,
   "id": "5484eea4",
   "metadata": {},
   "outputs": [],
   "source": [
    "class Television(HomeAppliance):\n",
    "    pass"
   ]
  },
  {
   "cell_type": "code",
   "execution_count": 32,
   "id": "c1980d02",
   "metadata": {},
   "outputs": [],
   "source": [
    "class Television(HomeAppliance):\n",
    "    def on(self):\n",
    "        print('TV ON')\n",
    "        \n",
    "    def off(self):\n",
    "        print('TV OFF')"
   ]
  },
  {
   "cell_type": "code",
   "execution_count": 33,
   "id": "c58a02a2",
   "metadata": {},
   "outputs": [],
   "source": [
    "class Refrigerator(HomeAppliance):\n",
    "    def on(self):\n",
    "        print('Refrigerator ON')\n",
    "        \n",
    "    def off(self):\n",
    "        print('Refrigerator OFF')"
   ]
  },
  {
   "cell_type": "code",
   "execution_count": 34,
   "id": "9e6bf40a",
   "metadata": {},
   "outputs": [],
   "source": [
    "class A:\n",
    "    def __init__(self, a):\n",
    "        self.set_x(a)\n",
    "    \n",
    "    def set_x(self, a):\n",
    "        if 0<a<100:\n",
    "            self.x=a\n",
    "            \n",
    "    def get_x(self):\n",
    "        return self.x"
   ]
  },
  {
   "cell_type": "code",
   "execution_count": 35,
   "id": "46aa4b65",
   "metadata": {},
   "outputs": [],
   "source": [
    "class B(A):\n",
    "    def __init__(self, a, b):\n",
    "        super().__init__(a)\n",
    "        self.y=b\n",
    "        \n",
    "    def set_y(self, b):\n",
    "        self.y=b\n",
    "        \n",
    "    def get_y(self):\n",
    "        return self.y\n",
    "    \n",
    "    def show(self):\n",
    "        print(self.get_x(), self.y)"
   ]
  },
  {
   "cell_type": "code",
   "execution_count": 36,
   "id": "46d54d26",
   "metadata": {},
   "outputs": [],
   "source": [
    "b=B(10, 20)"
   ]
  },
  {
   "cell_type": "code",
   "execution_count": 37,
   "id": "656cd390",
   "metadata": {},
   "outputs": [
    {
     "name": "stdout",
     "output_type": "stream",
     "text": [
      "10 20\n"
     ]
    }
   ],
   "source": [
    "b.show()"
   ]
  },
  {
   "cell_type": "code",
   "execution_count": 38,
   "id": "07e8ded6",
   "metadata": {},
   "outputs": [],
   "source": [
    "b.set_x(40)"
   ]
  },
  {
   "cell_type": "code",
   "execution_count": 39,
   "id": "2d7c65f0",
   "metadata": {},
   "outputs": [
    {
     "name": "stdout",
     "output_type": "stream",
     "text": [
      "40 20\n"
     ]
    }
   ],
   "source": [
    "b.show()"
   ]
  },
  {
   "cell_type": "code",
   "execution_count": null,
   "id": "dd66de07",
   "metadata": {},
   "outputs": [],
   "source": [
    "def __init__(self, a, b):\n",
    "    self.x=a\n",
    "    self.y=b"
   ]
  }
 ],
 "metadata": {
  "kernelspec": {
   "display_name": "Python 3 (ipykernel)",
   "language": "python",
   "name": "python3"
  },
  "language_info": {
   "codemirror_mode": {
    "name": "ipython",
    "version": 3
   },
   "file_extension": ".py",
   "mimetype": "text/x-python",
   "name": "python",
   "nbconvert_exporter": "python",
   "pygments_lexer": "ipython3",
   "version": "3.9.7"
  }
 },
 "nbformat": 4,
 "nbformat_minor": 5
}
