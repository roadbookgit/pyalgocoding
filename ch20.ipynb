{
 "cells": [
  {
   "cell_type": "markdown",
   "id": "8e65867d",
   "metadata": {},
   "source": [
    "# 20장. 객체와 캡슐화"
   ]
  },
  {
   "cell_type": "code",
   "execution_count": 1,
   "id": "7c7c4488",
   "metadata": {},
   "outputs": [],
   "source": [
    "def f():\n",
    "    print('Hello')"
   ]
  },
  {
   "cell_type": "code",
   "execution_count": 2,
   "id": "8cc78ef4",
   "metadata": {},
   "outputs": [
    {
     "name": "stdout",
     "output_type": "stream",
     "text": [
      "Hello\n"
     ]
    }
   ],
   "source": [
    "f()"
   ]
  },
  {
   "cell_type": "code",
   "execution_count": 3,
   "id": "7d26c2d2",
   "metadata": {},
   "outputs": [],
   "source": [
    "class Something:\n",
    "    def f(self):\n",
    "        print('Hello')"
   ]
  },
  {
   "cell_type": "code",
   "execution_count": 4,
   "id": "9084c980",
   "metadata": {},
   "outputs": [
    {
     "name": "stdout",
     "output_type": "stream",
     "text": [
      "Hello\n"
     ]
    }
   ],
   "source": [
    "a=Something()\n",
    "a.f()"
   ]
  },
  {
   "cell_type": "code",
   "execution_count": 5,
   "id": "a934812b",
   "metadata": {},
   "outputs": [],
   "source": [
    "class Car:\n",
    "    def __init__(self):\n",
    "        self.state='OFF'\n",
    "        self.speed=0\n",
    "        \n",
    "    def accelerate(self, x):\n",
    "        if self.state=='ON':\n",
    "            self.speed += x\n",
    "        else:\n",
    "            print(\"Can't accelerate\")\n",
    "            \n",
    "    def on(self):\n",
    "        self.state='ON'\n",
    "        \n",
    "    def off(self):\n",
    "        self.state='OFF'\n",
    "        \n",
    "    def show(self):\n",
    "        print('speed:', self.speed)"
   ]
  },
  {
   "cell_type": "code",
   "execution_count": 6,
   "id": "650df2ac",
   "metadata": {},
   "outputs": [],
   "source": [
    "c=Car()"
   ]
  },
  {
   "cell_type": "code",
   "execution_count": 7,
   "id": "da3163fd",
   "metadata": {},
   "outputs": [
    {
     "name": "stdout",
     "output_type": "stream",
     "text": [
      "Can't accelerate\n"
     ]
    }
   ],
   "source": [
    "c.accelerate(100)"
   ]
  },
  {
   "cell_type": "code",
   "execution_count": 8,
   "id": "0a050c2b",
   "metadata": {},
   "outputs": [],
   "source": [
    "c.on()"
   ]
  },
  {
   "cell_type": "code",
   "execution_count": 9,
   "id": "38c97151",
   "metadata": {},
   "outputs": [],
   "source": [
    "c.accelerate(100)"
   ]
  },
  {
   "cell_type": "code",
   "execution_count": 10,
   "id": "077e9473",
   "metadata": {},
   "outputs": [
    {
     "name": "stdout",
     "output_type": "stream",
     "text": [
      "speed: 100\n"
     ]
    }
   ],
   "source": [
    "c.show()"
   ]
  },
  {
   "cell_type": "code",
   "execution_count": 11,
   "id": "a7659b03",
   "metadata": {},
   "outputs": [],
   "source": [
    "class Vending:\n",
    "    def __init__(self):\n",
    "        self.stock=3      # 음료 재고\n",
    "        self.price=1000   # 음료 가격\n",
    "        self.balance=0    # 잔액\n",
    "        \n",
    "    def insert(self, coin):\n",
    "        self.balance=self.balance+coin\n",
    "        self.show()\n",
    "        \n",
    "    def push(self):\n",
    "        if self.balance>=self.price:\n",
    "            if self.stock>0:\n",
    "                self.balance=self.balance-self.price\n",
    "                self.stock=self.stock-1\n",
    "                self.dispense()\n",
    "            else:\n",
    "                print('No more water. Sorry')\n",
    "        else:\n",
    "            print('Insert more coins')\n",
    "        self.show()\n",
    "        \n",
    "    def show(self):\n",
    "        print('Balance:', self.balance)\n",
    "        \n",
    "    def dispense(self):\n",
    "        print('Enjoy. Thank you')"
   ]
  },
  {
   "cell_type": "code",
   "execution_count": 12,
   "id": "d20f5bce",
   "metadata": {},
   "outputs": [],
   "source": [
    "v=Vending()"
   ]
  },
  {
   "cell_type": "code",
   "execution_count": 13,
   "id": "3ef60886",
   "metadata": {},
   "outputs": [
    {
     "name": "stdout",
     "output_type": "stream",
     "text": [
      "Balance: 500\n"
     ]
    }
   ],
   "source": [
    "v.insert(500)"
   ]
  },
  {
   "cell_type": "code",
   "execution_count": 14,
   "id": "6767c735",
   "metadata": {},
   "outputs": [
    {
     "name": "stdout",
     "output_type": "stream",
     "text": [
      "Insert more coins\n",
      "Balance: 500\n"
     ]
    }
   ],
   "source": [
    "v.push()"
   ]
  },
  {
   "cell_type": "code",
   "execution_count": 15,
   "id": "e1316a2b",
   "metadata": {},
   "outputs": [
    {
     "name": "stdout",
     "output_type": "stream",
     "text": [
      "Balance: 1500\n"
     ]
    }
   ],
   "source": [
    "v.insert(1000)"
   ]
  },
  {
   "cell_type": "code",
   "execution_count": 16,
   "id": "5622d577",
   "metadata": {},
   "outputs": [
    {
     "name": "stdout",
     "output_type": "stream",
     "text": [
      "Enjoy. Thank you\n",
      "Balance: 500\n"
     ]
    }
   ],
   "source": [
    "v.push()"
   ]
  },
  {
   "cell_type": "code",
   "execution_count": 17,
   "id": "b2ccd150",
   "metadata": {},
   "outputs": [],
   "source": [
    "v.balance=100000000"
   ]
  },
  {
   "cell_type": "code",
   "execution_count": 18,
   "id": "c5101971",
   "metadata": {},
   "outputs": [
    {
     "name": "stdout",
     "output_type": "stream",
     "text": [
      "Balance: 100000000\n"
     ]
    }
   ],
   "source": [
    "v.show()"
   ]
  },
  {
   "cell_type": "code",
   "execution_count": 19,
   "id": "b0fd3f36",
   "metadata": {},
   "outputs": [],
   "source": [
    "class Abc:\n",
    "    def __init__(self, x=0):\n",
    "        self.data=x\n",
    "        \n",
    "    def set_data(self, x):\n",
    "        self.data=x\n",
    "        \n",
    "    def get_data(self):\n",
    "        return self.data\n",
    "    \n",
    "    def show(self):\n",
    "        print('Attribute', self.data)"
   ]
  },
  {
   "cell_type": "markdown",
   "id": "94f4434b",
   "metadata": {},
   "source": [
    "def set_data(self, x):\n",
    "    if 0<x<100:\n",
    "        self.data=x"
   ]
  },
  {
   "cell_type": "code",
   "execution_count": 20,
   "id": "49021b36",
   "metadata": {},
   "outputs": [],
   "source": [
    "a=Abc()               # 책에는 포함되지 않는 코드입니다\n",
    "a.set_data(100)"
   ]
  },
  {
   "cell_type": "code",
   "execution_count": 21,
   "id": "3380742b",
   "metadata": {},
   "outputs": [
    {
     "name": "stdout",
     "output_type": "stream",
     "text": [
      "100\n"
     ]
    }
   ],
   "source": [
    "y=a.get_data()\n",
    "print(y)"
   ]
  },
  {
   "cell_type": "code",
   "execution_count": 22,
   "id": "52cc20ab",
   "metadata": {},
   "outputs": [],
   "source": [
    "a.data=1000"
   ]
  },
  {
   "cell_type": "code",
   "execution_count": 23,
   "id": "1d6d6728",
   "metadata": {},
   "outputs": [
    {
     "name": "stdout",
     "output_type": "stream",
     "text": [
      "Attribute 1000\n"
     ]
    }
   ],
   "source": [
    "a.show()"
   ]
  },
  {
   "cell_type": "code",
   "execution_count": 24,
   "id": "8a19dd11",
   "metadata": {},
   "outputs": [],
   "source": [
    "class Vending:\n",
    "    def __init__(self):\n",
    "        self.stock={'coke':10, 'sprite':5, 'water':5}\n",
    "        self.price={'coke':800, 'sprite':700, 'water':500}\n",
    "        self.balance=0    \n",
    "        \n",
    "    def insert(self, coin):\n",
    "        self.balance=self.balance+coin\n",
    "        self.show()\n",
    "        \n",
    "    def push(self, x):\n",
    "        if self.balance>=self.price[x]:\n",
    "            if self.stock[x]>0:\n",
    "                self.balance-=self.price[x]\n",
    "                self.stock[x]=self.stock[x]-1\n",
    "                self.dispense(x)\n",
    "            else:\n",
    "                print('No more', x, ' Sorry')\n",
    "        else:\n",
    "            print('Coin: not sufficient')\n",
    "        self.show()\n",
    "        \n",
    "    def show(self):\n",
    "        print('Balance:', self.balance)\n",
    "        \n",
    "    def dispense(self, x):\n",
    "        print('Enjoy', x, ' Thank you')\n",
    "        \n",
    "    def set_price(self, x, y):\n",
    "        self.price[x]=y\n",
    "        \n",
    "    def get_price(self, x):\n",
    "        return self.price[x]"
   ]
  },
  {
   "cell_type": "code",
   "execution_count": 25,
   "id": "9e44702f",
   "metadata": {},
   "outputs": [],
   "source": [
    "v=Vending()"
   ]
  },
  {
   "cell_type": "code",
   "execution_count": 26,
   "id": "3d62dde9",
   "metadata": {},
   "outputs": [
    {
     "data": {
      "text/plain": [
       "{'coke': 800, 'sprite': 700, 'water': 500}"
      ]
     },
     "execution_count": 26,
     "metadata": {},
     "output_type": "execute_result"
    }
   ],
   "source": [
    "v.price"
   ]
  },
  {
   "cell_type": "code",
   "execution_count": 27,
   "id": "be8be16e",
   "metadata": {},
   "outputs": [],
   "source": [
    "v.set_price('coke', 1000)"
   ]
  },
  {
   "cell_type": "code",
   "execution_count": 28,
   "id": "4b795ef9",
   "metadata": {},
   "outputs": [
    {
     "data": {
      "text/plain": [
       "{'coke': 1000, 'sprite': 700, 'water': 500}"
      ]
     },
     "execution_count": 28,
     "metadata": {},
     "output_type": "execute_result"
    }
   ],
   "source": [
    "v.price"
   ]
  },
  {
   "cell_type": "code",
   "execution_count": 29,
   "id": "89b65949",
   "metadata": {},
   "outputs": [],
   "source": [
    "y=v.get_price('coke')"
   ]
  },
  {
   "cell_type": "code",
   "execution_count": 30,
   "id": "7bf35c66",
   "metadata": {},
   "outputs": [
    {
     "name": "stdout",
     "output_type": "stream",
     "text": [
      "1000\n"
     ]
    }
   ],
   "source": [
    "print(y)"
   ]
  },
  {
   "cell_type": "code",
   "execution_count": 31,
   "id": "42045ad0",
   "metadata": {},
   "outputs": [],
   "source": [
    "v=Vending()"
   ]
  },
  {
   "cell_type": "code",
   "execution_count": 32,
   "id": "e08fd5f0",
   "metadata": {},
   "outputs": [
    {
     "name": "stdout",
     "output_type": "stream",
     "text": [
      "Balance: 1000\n"
     ]
    }
   ],
   "source": [
    "v.insert(1000)"
   ]
  },
  {
   "cell_type": "code",
   "execution_count": 33,
   "id": "76752d93",
   "metadata": {},
   "outputs": [
    {
     "name": "stdout",
     "output_type": "stream",
     "text": [
      "Balance: 2000\n"
     ]
    }
   ],
   "source": [
    "v.insert(1000)"
   ]
  },
  {
   "cell_type": "code",
   "execution_count": 34,
   "id": "844b0b5c",
   "metadata": {},
   "outputs": [
    {
     "name": "stdout",
     "output_type": "stream",
     "text": [
      "Enjoy sprite  Thank you\n",
      "Balance: 1300\n"
     ]
    }
   ],
   "source": [
    "v.push('sprite')"
   ]
  },
  {
   "cell_type": "code",
   "execution_count": 35,
   "id": "6f474ccd",
   "metadata": {},
   "outputs": [
    {
     "name": "stdout",
     "output_type": "stream",
     "text": [
      "Enjoy water  Thank you\n",
      "Balance: 800\n"
     ]
    }
   ],
   "source": [
    "v.push('water')"
   ]
  },
  {
   "cell_type": "code",
   "execution_count": null,
   "id": "d44b1981",
   "metadata": {},
   "outputs": [],
   "source": []
  }
 ],
 "metadata": {
  "kernelspec": {
   "display_name": "Python 3 (ipykernel)",
   "language": "python",
   "name": "python3"
  },
  "language_info": {
   "codemirror_mode": {
    "name": "ipython",
    "version": 3
   },
   "file_extension": ".py",
   "mimetype": "text/x-python",
   "name": "python",
   "nbconvert_exporter": "python",
   "pygments_lexer": "ipython3",
   "version": "3.9.7"
  }
 },
 "nbformat": 4,
 "nbformat_minor": 5
}
