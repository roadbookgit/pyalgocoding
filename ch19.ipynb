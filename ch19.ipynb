{
 "cells": [
  {
   "cell_type": "markdown",
   "id": "0ab0603c",
   "metadata": {},
   "source": [
    "# 19장. 객체(object)의 개요"
   ]
  },
  {
   "cell_type": "code",
   "execution_count": 1,
   "id": "fd8f7d70",
   "metadata": {},
   "outputs": [],
   "source": [
    "def run():\n",
    "    pass"
   ]
  },
  {
   "cell_type": "code",
   "execution_count": 2,
   "id": "21dcd386",
   "metadata": {},
   "outputs": [
    {
     "ename": "IndentationError",
     "evalue": "expected an indented block (Temp/ipykernel_8032/2619408784.py, line 1)",
     "output_type": "error",
     "traceback": [
      "\u001b[1;36m  File \u001b[1;32m\"C:\\Users\\mkjang\\AppData\\Local\\Temp/ipykernel_8032/2619408784.py\"\u001b[1;36m, line \u001b[1;32m1\u001b[0m\n\u001b[1;33m    def f():\u001b[0m\n\u001b[1;37m            ^\u001b[0m\n\u001b[1;31mIndentationError\u001b[0m\u001b[1;31m:\u001b[0m expected an indented block\n"
     ]
    }
   ],
   "source": [
    "def f():"
   ]
  },
  {
   "cell_type": "code",
   "execution_count": 3,
   "id": "64862f85",
   "metadata": {},
   "outputs": [],
   "source": [
    "def f():\n",
    "    pass"
   ]
  },
  {
   "cell_type": "code",
   "execution_count": 4,
   "id": "72232510",
   "metadata": {},
   "outputs": [],
   "source": [
    "def run():\n",
    "    print(\"I'm running\")"
   ]
  },
  {
   "cell_type": "code",
   "execution_count": 5,
   "id": "d674c39b",
   "metadata": {},
   "outputs": [],
   "source": [
    "class Car:\n",
    "    def run():\n",
    "        print(\"I'm a car. I'm running\")"
   ]
  },
  {
   "cell_type": "code",
   "execution_count": 6,
   "id": "7ef44c1e",
   "metadata": {},
   "outputs": [],
   "source": [
    "class Turtle:\n",
    "    def run():\n",
    "        print(\"I'm a turtle. I'm running~\")    "
   ]
  },
  {
   "cell_type": "code",
   "execution_count": 7,
   "id": "01d54b3f",
   "metadata": {},
   "outputs": [],
   "source": [
    "class Car:\n",
    "    def run():\n",
    "        print(\"I'm a car. I'm running\")"
   ]
  },
  {
   "cell_type": "code",
   "execution_count": 8,
   "id": "d6afb8aa",
   "metadata": {},
   "outputs": [],
   "source": [
    "c=Car()"
   ]
  },
  {
   "cell_type": "code",
   "execution_count": 9,
   "id": "cbc3af58",
   "metadata": {},
   "outputs": [
    {
     "ename": "TypeError",
     "evalue": "run() takes 0 positional arguments but 1 was given",
     "output_type": "error",
     "traceback": [
      "\u001b[1;31m---------------------------------------------------------------------\u001b[0m",
      "\u001b[1;31mTypeError\u001b[0m                           Traceback (most recent call last)",
      "\u001b[1;32m~\\AppData\\Local\\Temp/ipykernel_8032/1892319514.py\u001b[0m in \u001b[0;36m<module>\u001b[1;34m\u001b[0m\n\u001b[1;32m----> 1\u001b[1;33m \u001b[0mc\u001b[0m\u001b[1;33m.\u001b[0m\u001b[0mrun\u001b[0m\u001b[1;33m(\u001b[0m\u001b[1;33m)\u001b[0m\u001b[1;33m\u001b[0m\u001b[1;33m\u001b[0m\u001b[0m\n\u001b[0m",
      "\u001b[1;31mTypeError\u001b[0m: run() takes 0 positional arguments but 1 was given"
     ]
    }
   ],
   "source": [
    "c.run()"
   ]
  },
  {
   "cell_type": "code",
   "execution_count": 10,
   "id": "e1b4d504",
   "metadata": {},
   "outputs": [],
   "source": [
    "class Car:\n",
    "    def run(self):\n",
    "        print(\"I'm a car. I'm running\")"
   ]
  },
  {
   "cell_type": "code",
   "execution_count": 11,
   "id": "b11bd1bb",
   "metadata": {},
   "outputs": [],
   "source": [
    "c=Car()"
   ]
  },
  {
   "cell_type": "code",
   "execution_count": 12,
   "id": "c32c7433",
   "metadata": {},
   "outputs": [
    {
     "name": "stdout",
     "output_type": "stream",
     "text": [
      "I'm a car. I'm running\n"
     ]
    }
   ],
   "source": [
    "c.run()"
   ]
  },
  {
   "cell_type": "code",
   "execution_count": 13,
   "id": "0bb19511",
   "metadata": {},
   "outputs": [],
   "source": [
    "class Car:\n",
    "    def run(self):\n",
    "        print(\"I am moving at speed\", self.speed)"
   ]
  },
  {
   "cell_type": "code",
   "execution_count": 14,
   "id": "377fedee",
   "metadata": {},
   "outputs": [
    {
     "name": "stdout",
     "output_type": "stream",
     "text": [
      "['__class__', '__delattr__', '__dict__', '__dir__', '__doc__', '__eq__', '__format__', '__ge__', '__getattribute__', '__gt__', '__hash__', '__init__', '__init_subclass__', '__le__', '__lt__', '__module__', '__ne__', '__new__', '__reduce__', '__reduce_ex__', '__repr__', '__setattr__', '__sizeof__', '__str__', '__subclasshook__', '__weakref__', 'run']\n"
     ]
    }
   ],
   "source": [
    "print(dir(Car))"
   ]
  },
  {
   "cell_type": "code",
   "execution_count": 15,
   "id": "deb014c3",
   "metadata": {},
   "outputs": [],
   "source": [
    "class Car:\n",
    "    def __init__(self):\n",
    "        self.speed=0\n",
    "        print('speed is set to 0')\n",
    "        \n",
    "    def run(self):\n",
    "        print(\"I am moving at speed\", self.speed)"
   ]
  },
  {
   "cell_type": "code",
   "execution_count": 16,
   "id": "c322367c",
   "metadata": {},
   "outputs": [
    {
     "name": "stdout",
     "output_type": "stream",
     "text": [
      "speed is set to 0\n"
     ]
    }
   ],
   "source": [
    "c1=Car()"
   ]
  },
  {
   "cell_type": "code",
   "execution_count": 17,
   "id": "91a8619a",
   "metadata": {},
   "outputs": [
    {
     "data": {
      "text/plain": [
       "{'speed': 0}"
      ]
     },
     "execution_count": 17,
     "metadata": {},
     "output_type": "execute_result"
    }
   ],
   "source": [
    "c1.__dict__"
   ]
  },
  {
   "cell_type": "code",
   "execution_count": 18,
   "id": "3bc4642d",
   "metadata": {},
   "outputs": [],
   "source": [
    "class Car:\n",
    "    def __init__(self):\n",
    "        self.speed=0\n",
    "        print('speed is set to 0')\n",
    "        \n",
    "    def accelerate(self, x):\n",
    "        self.speed=x\n",
    "        \n",
    "    def run(self):\n",
    "        print(\"I am moving at speed\", self.speed)"
   ]
  },
  {
   "cell_type": "code",
   "execution_count": 19,
   "id": "11132caa",
   "metadata": {},
   "outputs": [
    {
     "name": "stdout",
     "output_type": "stream",
     "text": [
      "speed is set to 0\n"
     ]
    }
   ],
   "source": [
    "c2=Car()"
   ]
  },
  {
   "cell_type": "code",
   "execution_count": 20,
   "id": "4b9fb0ba",
   "metadata": {},
   "outputs": [],
   "source": [
    "c2.accelerate(25)"
   ]
  },
  {
   "cell_type": "code",
   "execution_count": 21,
   "id": "e66724ac",
   "metadata": {},
   "outputs": [
    {
     "name": "stdout",
     "output_type": "stream",
     "text": [
      "I am moving at speed 25\n"
     ]
    }
   ],
   "source": [
    "c2.run()"
   ]
  },
  {
   "cell_type": "code",
   "execution_count": null,
   "id": "55af26da",
   "metadata": {},
   "outputs": [],
   "source": []
  }
 ],
 "metadata": {
  "kernelspec": {
   "display_name": "Python 3 (ipykernel)",
   "language": "python",
   "name": "python3"
  },
  "language_info": {
   "codemirror_mode": {
    "name": "ipython",
    "version": 3
   },
   "file_extension": ".py",
   "mimetype": "text/x-python",
   "name": "python",
   "nbconvert_exporter": "python",
   "pygments_lexer": "ipython3",
   "version": "3.9.7"
  }
 },
 "nbformat": 4,
 "nbformat_minor": 5
}
