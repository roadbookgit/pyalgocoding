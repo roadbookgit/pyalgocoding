{
 "cells": [
  {
   "cell_type": "markdown",
   "id": "211ad94e",
   "metadata": {},
   "source": [
    "# 9장. 반복을 위한 for와 while"
   ]
  },
  {
   "cell_type": "code",
   "execution_count": 1,
   "id": "650d2a2d",
   "metadata": {},
   "outputs": [],
   "source": [
    "# 1 페이지"
   ]
  },
  {
   "cell_type": "code",
   "execution_count": 2,
   "id": "1b6b0700",
   "metadata": {},
   "outputs": [
    {
     "data": {
      "text/plain": [
       "[1, 2, 3, 4]"
      ]
     },
     "execution_count": 2,
     "metadata": {},
     "output_type": "execute_result"
    }
   ],
   "source": [
    "[1, 2, 3, 4]"
   ]
  },
  {
   "cell_type": "code",
   "execution_count": 3,
   "id": "6de98d50",
   "metadata": {},
   "outputs": [
    {
     "data": {
      "text/plain": [
       "['텐트', '버너', '가스', '물', '삼겹살', '양념장']"
      ]
     },
     "execution_count": 3,
     "metadata": {},
     "output_type": "execute_result"
    }
   ],
   "source": [
    "['텐트', '버너', '가스', '물', '삼겹살', '양념장']"
   ]
  },
  {
   "cell_type": "code",
   "execution_count": 4,
   "id": "e4fbf087",
   "metadata": {},
   "outputs": [],
   "source": [
    "# 2 페이지"
   ]
  },
  {
   "cell_type": "code",
   "execution_count": 5,
   "id": "1eb9cdda",
   "metadata": {},
   "outputs": [],
   "source": [
    "a=[1, 2, 3, 4]"
   ]
  },
  {
   "cell_type": "code",
   "execution_count": 6,
   "id": "081896d9",
   "metadata": {},
   "outputs": [
    {
     "name": "stdout",
     "output_type": "stream",
     "text": [
      "[1, 2, 3, 4]\n"
     ]
    }
   ],
   "source": [
    "print(a)"
   ]
  },
  {
   "cell_type": "code",
   "execution_count": 7,
   "id": "48fba73d",
   "metadata": {},
   "outputs": [],
   "source": [
    "# 3 페이지"
   ]
  },
  {
   "cell_type": "code",
   "execution_count": 8,
   "id": "da5757f2",
   "metadata": {},
   "outputs": [
    {
     "name": "stdout",
     "output_type": "stream",
     "text": [
      "1\n",
      "2\n",
      "3\n",
      "4\n"
     ]
    }
   ],
   "source": [
    "for x in [1, 2, 3, 4]:\n",
    "    print(x)"
   ]
  },
  {
   "cell_type": "code",
   "execution_count": 9,
   "id": "352a6d92",
   "metadata": {},
   "outputs": [],
   "source": [
    "# 4 페이지"
   ]
  },
  {
   "cell_type": "code",
   "execution_count": 10,
   "id": "5dc9953d",
   "metadata": {},
   "outputs": [
    {
     "name": "stdout",
     "output_type": "stream",
     "text": [
      "I like to play the piano\n",
      "I like to play the guitar\n",
      "I like to play the violin\n"
     ]
    }
   ],
   "source": [
    "for x in ['piano', 'guitar', 'violin']:\n",
    "    print('I like to play the', x)"
   ]
  },
  {
   "cell_type": "code",
   "execution_count": 11,
   "id": "6cfa3ae7",
   "metadata": {},
   "outputs": [],
   "source": [
    "# 5 페이지"
   ]
  },
  {
   "cell_type": "code",
   "execution_count": 12,
   "id": "ddc5d95e",
   "metadata": {},
   "outputs": [
    {
     "name": "stdout",
     "output_type": "stream",
     "text": [
      "1 2 3 4 5 "
     ]
    }
   ],
   "source": [
    "for x in [1, 2, 3, 4, 5]:\n",
    "    print(x, end=' ')"
   ]
  },
  {
   "cell_type": "code",
   "execution_count": 13,
   "id": "33fa5071",
   "metadata": {},
   "outputs": [
    {
     "name": "stdout",
     "output_type": "stream",
     "text": [
      "2 4 6 8 10 "
     ]
    }
   ],
   "source": [
    "for x in [2, 4, 6, 8, 10]:\n",
    "    print(x, end=' ')"
   ]
  },
  {
   "cell_type": "code",
   "execution_count": 14,
   "id": "035c0bcc",
   "metadata": {},
   "outputs": [
    {
     "name": "stdout",
     "output_type": "stream",
     "text": [
      "1 2 3 4 5 6 7 8 9 10 11 12 13 14 15 16 17 18 19 20 "
     ]
    }
   ],
   "source": [
    "for x in [1, 2, 3, 4, 5, 6, 7, 8, 9, 10, 11, 12, 13, 14, 15, 16, 17, 18, 19, 20]:\n",
    "    print(x, end=' ')"
   ]
  },
  {
   "cell_type": "code",
   "execution_count": 15,
   "id": "764be59b",
   "metadata": {},
   "outputs": [],
   "source": [
    "# 6 페이지"
   ]
  },
  {
   "cell_type": "code",
   "execution_count": 16,
   "id": "d973f458",
   "metadata": {},
   "outputs": [],
   "source": [
    "range?"
   ]
  },
  {
   "cell_type": "code",
   "execution_count": 17,
   "id": "56051cea",
   "metadata": {},
   "outputs": [
    {
     "name": "stdout",
     "output_type": "stream",
     "text": [
      "1 2 3 4 5 "
     ]
    }
   ],
   "source": [
    "for x in range(1, 6, 1):\n",
    "    print(x, end=' ')"
   ]
  },
  {
   "cell_type": "code",
   "execution_count": 18,
   "id": "a10f122a",
   "metadata": {},
   "outputs": [],
   "source": [
    "# 7 페이지"
   ]
  },
  {
   "cell_type": "code",
   "execution_count": 19,
   "id": "2d3a5353",
   "metadata": {},
   "outputs": [
    {
     "name": "stdout",
     "output_type": "stream",
     "text": [
      "10 9 8 7 6 5 "
     ]
    }
   ],
   "source": [
    "for x in range(10, 4, -1):\n",
    "    print(x, end=' ')"
   ]
  },
  {
   "cell_type": "code",
   "execution_count": 20,
   "id": "cbeb5178",
   "metadata": {},
   "outputs": [],
   "source": [
    "# 8 페이지"
   ]
  },
  {
   "cell_type": "code",
   "execution_count": 22,
   "id": "61ff8629",
   "metadata": {},
   "outputs": [
    {
     "name": "stdout",
     "output_type": "stream",
     "text": [
      "Enter an integer(0-100)6\n",
      "0 1 2 3 4 5 6 \n",
      "End of For-Loop\n"
     ]
    }
   ],
   "source": [
    "a=int(input('Enter an integer(0-100)'))\n",
    "\n",
    "for x in range(0, 100, 1):\n",
    "    if x>a:\n",
    "        break\n",
    "    print(x, end=' ')\n",
    "    \n",
    "print('\\nEnd of For-Loop')"
   ]
  },
  {
   "cell_type": "code",
   "execution_count": 23,
   "id": "5c1d8f7d",
   "metadata": {},
   "outputs": [],
   "source": [
    "# 10 페이지"
   ]
  },
  {
   "cell_type": "code",
   "execution_count": 25,
   "id": "4d875aa6",
   "metadata": {},
   "outputs": [
    {
     "name": "stdout",
     "output_type": "stream",
     "text": [
      "1 3 5 7 9 "
     ]
    }
   ],
   "source": [
    "for x in range(10):\n",
    "    if x%2==0:\n",
    "        continue\n",
    "    print(x, end=' ')"
   ]
  },
  {
   "cell_type": "code",
   "execution_count": 28,
   "id": "82e3e2dd",
   "metadata": {},
   "outputs": [],
   "source": [
    "while a<10:\n",
    "    print(a)"
   ]
  },
  {
   "cell_type": "code",
   "execution_count": 29,
   "id": "602d6122",
   "metadata": {},
   "outputs": [],
   "source": [
    "# 11 페이지"
   ]
  },
  {
   "cell_type": "code",
   "execution_count": null,
   "id": "7d1f3db3",
   "metadata": {},
   "outputs": [],
   "source": [
    "a=5\n",
    "while a<10:\n",
    "    print(a)"
   ]
  },
  {
   "cell_type": "code",
   "execution_count": 30,
   "id": "7bfc932a",
   "metadata": {},
   "outputs": [],
   "source": [
    "# 12 페이지"
   ]
  },
  {
   "cell_type": "code",
   "execution_count": 31,
   "id": "bc270f58",
   "metadata": {},
   "outputs": [
    {
     "name": "stdout",
     "output_type": "stream",
     "text": [
      "0 1 2 3 4 5 6 7 8 9 "
     ]
    }
   ],
   "source": [
    "for x in range(0, 10, 1):\n",
    "    print(x, end=' ')"
   ]
  },
  {
   "cell_type": "code",
   "execution_count": 32,
   "id": "55b768eb",
   "metadata": {},
   "outputs": [
    {
     "name": "stdout",
     "output_type": "stream",
     "text": [
      "0 1 2 3 4 5 6 7 8 9 "
     ]
    }
   ],
   "source": [
    "x=0\n",
    "while x<10:\n",
    "    print(x, end=' ')\n",
    "    x=x+1"
   ]
  },
  {
   "cell_type": "code",
   "execution_count": 33,
   "id": "e33f0f8b",
   "metadata": {},
   "outputs": [],
   "source": [
    "# 13 페이지"
   ]
  },
  {
   "cell_type": "code",
   "execution_count": 34,
   "id": "889405ba",
   "metadata": {},
   "outputs": [
    {
     "name": "stdout",
     "output_type": "stream",
     "text": [
      "1 10 100 1000 10000 "
     ]
    }
   ],
   "source": [
    "x=1\n",
    "while x<100000:\n",
    "    print(x, end=' ')\n",
    "    x=x*10"
   ]
  },
  {
   "cell_type": "code",
   "execution_count": 35,
   "id": "bc3c1e89",
   "metadata": {},
   "outputs": [
    {
     "name": "stdout",
     "output_type": "stream",
     "text": [
      "5 6 7 8 9 "
     ]
    }
   ],
   "source": [
    "a=5\n",
    "while True:    # infinite loop\n",
    "    print(a, end=' ')\n",
    "    a=a+1\n",
    "    \n",
    "    if a>=10:  # escape condition\n",
    "        break"
   ]
  },
  {
   "cell_type": "code",
   "execution_count": null,
   "id": "3c4a0169",
   "metadata": {},
   "outputs": [],
   "source": []
  }
 ],
 "metadata": {
  "kernelspec": {
   "display_name": "Python 3 (ipykernel)",
   "language": "python",
   "name": "python3"
  },
  "language_info": {
   "codemirror_mode": {
    "name": "ipython",
    "version": 3
   },
   "file_extension": ".py",
   "mimetype": "text/x-python",
   "name": "python",
   "nbconvert_exporter": "python",
   "pygments_lexer": "ipython3",
   "version": "3.9.7"
  }
 },
 "nbformat": 4,
 "nbformat_minor": 5
}
