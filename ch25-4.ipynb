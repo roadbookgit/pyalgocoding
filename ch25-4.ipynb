{
 "cells": [
  {
   "cell_type": "code",
   "execution_count": 1,
   "id": "552b6228",
   "metadata": {},
   "outputs": [],
   "source": [
    "%matplotlib tk\n",
    "import matplotlib.pyplot as plt"
   ]
  },
  {
   "cell_type": "code",
   "execution_count": 2,
   "id": "e7a48767",
   "metadata": {},
   "outputs": [],
   "source": [
    "fig, ax=plt.subplots()"
   ]
  },
  {
   "cell_type": "code",
   "execution_count": 3,
   "id": "038e016e",
   "metadata": {},
   "outputs": [
    {
     "data": {
      "text/plain": [
       "<BarContainer object of 4 artists>"
      ]
     },
     "execution_count": 3,
     "metadata": {},
     "output_type": "execute_result"
    }
   ],
   "source": [
    "ax.bar([1, 2, 3, 4], [10, 2, 9, 3], width=0.5)"
   ]
  },
  {
   "cell_type": "code",
   "execution_count": 5,
   "id": "2d14a4c5",
   "metadata": {},
   "outputs": [],
   "source": [
    "ax.spines['left'].set_visible(False)\n",
    "ax.spines['top'].set_visible(False)\n",
    "ax.spines['right'].set_visible(False)"
   ]
  },
  {
   "cell_type": "code",
   "execution_count": 4,
   "id": "34c3b699",
   "metadata": {},
   "outputs": [],
   "source": [
    "ax.axes.yaxis.set_visible(False)"
   ]
  },
  {
   "cell_type": "code",
   "execution_count": 6,
   "id": "d1dd9252",
   "metadata": {},
   "outputs": [
    {
     "data": {
      "text/plain": [
       "Text(4, 3.1, '3')"
      ]
     },
     "execution_count": 6,
     "metadata": {},
     "output_type": "execute_result"
    }
   ],
   "source": [
    "ax.text(0.95, 10.1, '10', \n",
    "    fontsize=12, color='red')\n",
    "ax.text(2, 2.1, '2', \n",
    "    fontsize=12, color='red')\n",
    "ax.text(3, 9.1, '9', \n",
    "    fontsize=12, color='red')\n",
    "ax.text(4, 3.1, '3', \n",
    "    fontsize=12, color='red')"
   ]
  },
  {
   "cell_type": "code",
   "execution_count": 7,
   "id": "96f11626",
   "metadata": {},
   "outputs": [],
   "source": [
    "fig, ax=plt.subplots()"
   ]
  },
  {
   "cell_type": "code",
   "execution_count": 8,
   "id": "13ac9c13",
   "metadata": {},
   "outputs": [],
   "source": [
    "x=[1, 2, 3, 4]\n",
    "y1=[10, 2, 9, 3]\n",
    "y2=[8, 2.5, 7, 5]"
   ]
  },
  {
   "cell_type": "code",
   "execution_count": 9,
   "id": "4195a0a9",
   "metadata": {},
   "outputs": [
    {
     "data": {
      "text/plain": [
       "<BarContainer object of 4 artists>"
      ]
     },
     "execution_count": 9,
     "metadata": {},
     "output_type": "execute_result"
    }
   ],
   "source": [
    "ax.bar(x, y1, width=0.5)\n",
    "ax.bar(x, y2, width=0.5)"
   ]
  },
  {
   "cell_type": "code",
   "execution_count": 10,
   "id": "0f1d1b71",
   "metadata": {},
   "outputs": [],
   "source": [
    "fig, ax=plt.subplots()"
   ]
  },
  {
   "cell_type": "code",
   "execution_count": 11,
   "id": "351aba5c",
   "metadata": {},
   "outputs": [],
   "source": [
    "x=[1, 2, 3, 4]\n",
    "y1=[10, 2, 9, 3]\n",
    "y2=[8, 2.5, 7, 5]"
   ]
  },
  {
   "cell_type": "code",
   "execution_count": 12,
   "id": "872b37c1",
   "metadata": {},
   "outputs": [
    {
     "data": {
      "text/plain": [
       "[<matplotlib.axis.XTick at 0x20053d41720>,\n",
       " <matplotlib.axis.XTick at 0x20053d416f0>,\n",
       " <matplotlib.axis.XTick at 0x20053ca64d0>,\n",
       " <matplotlib.axis.XTick at 0x20053d63700>]"
      ]
     },
     "execution_count": 12,
     "metadata": {},
     "output_type": "execute_result"
    }
   ],
   "source": [
    "x1=[a-0.2 for a in x]\n",
    "x2=[a+0.2 for a in x]\n",
    "ax.bar(x1, y1, width=0.3)\n",
    "ax.bar(x2, y2, width=0.3)\n",
    "ax.set_xticks(x)"
   ]
  },
  {
   "cell_type": "code",
   "execution_count": 13,
   "id": "6eacb245",
   "metadata": {},
   "outputs": [
    {
     "data": {
      "text/plain": [
       "[Text(1, 0, 'Monday'),\n",
       " Text(2, 0, 'Tuesday'),\n",
       " Text(3, 0, 'Wednesday'),\n",
       " Text(4, 0, 'Thirsday')]"
      ]
     },
     "execution_count": 13,
     "metadata": {},
     "output_type": "execute_result"
    }
   ],
   "source": [
    "ax.set_xticks(x)\n",
    "ax.set_xticklabels(['Monday', 'Tuesday', 'Wednesday', 'Thirsday'], \n",
    "                   rotation=30)"
   ]
  },
  {
   "cell_type": "code",
   "execution_count": null,
   "id": "8a21b46c",
   "metadata": {},
   "outputs": [],
   "source": []
  }
 ],
 "metadata": {
  "kernelspec": {
   "display_name": "Python 3 (ipykernel)",
   "language": "python",
   "name": "python3"
  },
  "language_info": {
   "codemirror_mode": {
    "name": "ipython",
    "version": 3
   },
   "file_extension": ".py",
   "mimetype": "text/x-python",
   "name": "python",
   "nbconvert_exporter": "python",
   "pygments_lexer": "ipython3",
   "version": "3.10.4"
  }
 },
 "nbformat": 4,
 "nbformat_minor": 5
}
