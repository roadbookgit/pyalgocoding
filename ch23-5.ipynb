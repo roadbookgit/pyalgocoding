{
 "cells": [
  {
   "cell_type": "code",
   "execution_count": 1,
   "id": "32a8ed31",
   "metadata": {},
   "outputs": [],
   "source": [
    "import mypackage"
   ]
  },
  {
   "cell_type": "code",
   "execution_count": 2,
   "id": "d4ae1d99",
   "metadata": {},
   "outputs": [],
   "source": [
    "mypackage?"
   ]
  },
  {
   "cell_type": "code",
   "execution_count": null,
   "id": "bcc45da0",
   "metadata": {},
   "outputs": [],
   "source": [
    "Type:        module\n",
    "String form: <module 'mypackage' from 'C:\\\\pydev\\\\Scripts\\\\mypackage\\\\__init__.py'>\n",
    "File:        c:\\pydev\\scripts\\mypackage\\__init__.py\n",
    "Docstring:   Mypackage 패키지의 docstring 입니다"
   ]
  }
 ],
 "metadata": {
  "kernelspec": {
   "display_name": "Python 3 (ipykernel)",
   "language": "python",
   "name": "python3"
  },
  "language_info": {
   "codemirror_mode": {
    "name": "ipython",
    "version": 3
   },
   "file_extension": ".py",
   "mimetype": "text/x-python",
   "name": "python",
   "nbconvert_exporter": "python",
   "pygments_lexer": "ipython3",
   "version": "3.9.7"
  }
 },
 "nbformat": 4,
 "nbformat_minor": 5
}
