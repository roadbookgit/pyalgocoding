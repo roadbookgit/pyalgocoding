{
 "cells": [
  {
   "cell_type": "code",
   "execution_count": 1,
   "id": "1a7f57ca",
   "metadata": {},
   "outputs": [
    {
     "name": "stdout",
     "output_type": "stream",
     "text": [
      "your.g() is invoked\n"
     ]
    }
   ],
   "source": [
    "import my   # 본문에 포함되는 코드는 아닙니다"
   ]
  },
  {
   "cell_type": "code",
   "execution_count": 2,
   "id": "7b8a3a85",
   "metadata": {},
   "outputs": [
    {
     "name": "stdout",
     "output_type": "stream",
     "text": [
      "['__builtins__', '__cached__', '__doc__', '__file__', '__loader__', '__name__', '__package__', '__spec__', 'f', 'main', 'your']\n"
     ]
    }
   ],
   "source": [
    "print(dir(my))"
   ]
  },
  {
   "cell_type": "code",
   "execution_count": 3,
   "id": "30654c16",
   "metadata": {},
   "outputs": [
    {
     "data": {
      "text/plain": [
       "'my'"
      ]
     },
     "execution_count": 3,
     "metadata": {},
     "output_type": "execute_result"
    }
   ],
   "source": [
    "my.__name__"
   ]
  },
  {
   "cell_type": "code",
   "execution_count": 4,
   "id": "85e04502",
   "metadata": {},
   "outputs": [
    {
     "data": {
      "text/plain": [
       "'__main__'"
      ]
     },
     "execution_count": 4,
     "metadata": {},
     "output_type": "execute_result"
    }
   ],
   "source": [
    "__name__"
   ]
  },
  {
   "cell_type": "code",
   "execution_count": 5,
   "id": "4aeac779",
   "metadata": {},
   "outputs": [
    {
     "data": {
      "text/plain": [
       "['C:\\\\pydev\\\\Scripts',\n",
       " 'C:\\\\Program Files\\\\Python39\\\\python39.zip',\n",
       " 'C:\\\\Program Files\\\\Python39\\\\DLLs',\n",
       " 'C:\\\\Program Files\\\\Python39\\\\lib',\n",
       " 'C:\\\\Program Files\\\\Python39',\n",
       " 'c:\\\\pydev',\n",
       " '',\n",
       " 'c:\\\\pydev\\\\lib\\\\site-packages',\n",
       " 'c:\\\\pydev\\\\lib\\\\site-packages\\\\win32',\n",
       " 'c:\\\\pydev\\\\lib\\\\site-packages\\\\win32\\\\lib',\n",
       " 'c:\\\\pydev\\\\lib\\\\site-packages\\\\Pythonwin',\n",
       " 'c:\\\\pydev\\\\lib\\\\site-packages\\\\IPython\\\\extensions',\n",
       " 'C:\\\\Users\\\\mkjang\\\\.ipython']"
      ]
     },
     "execution_count": 5,
     "metadata": {},
     "output_type": "execute_result"
    }
   ],
   "source": [
    "import sys\n",
    "sys.path"
   ]
  },
  {
   "cell_type": "code",
   "execution_count": null,
   "id": "b9a51d3f",
   "metadata": {},
   "outputs": [],
   "source": []
  }
 ],
 "metadata": {
  "kernelspec": {
   "display_name": "Python 3 (ipykernel)",
   "language": "python",
   "name": "python3"
  },
  "language_info": {
   "codemirror_mode": {
    "name": "ipython",
    "version": 3
   },
   "file_extension": ".py",
   "mimetype": "text/x-python",
   "name": "python",
   "nbconvert_exporter": "python",
   "pygments_lexer": "ipython3",
   "version": "3.9.7"
  }
 },
 "nbformat": 4,
 "nbformat_minor": 5
}
