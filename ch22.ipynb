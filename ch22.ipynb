{
 "cells": [
  {
   "cell_type": "markdown",
   "id": "7b9f8f8d",
   "metadata": {},
   "source": [
    "# 22장. 종합편 : 최단경로를 찾는 다익스트라 알고리즘"
   ]
  },
  {
   "cell_type": "code",
   "execution_count": 1,
   "id": "b2857b58",
   "metadata": {},
   "outputs": [],
   "source": [
    "class Node:\n",
    "    def __init__(self, x, n, d=999, v='unvisited', p=None):\n",
    "        self.idx=x\n",
    "        self.name=n\n",
    "        self.dist=d\n",
    "        self.visited=v\n",
    "        self.pre=p\n",
    "        \n",
    "    def getIdx(self):\n",
    "        return self.idex\n",
    "    \n",
    "    def getDist(self):\n",
    "        return self.dist\n",
    "    \n",
    "    def getPre(self):\n",
    "        return self.pre\n",
    "    \n",
    "    def setVisited(self, a):\n",
    "        self.visited=a\n",
    "        \n",
    "    def updateDist(self, preNode, newDist):\n",
    "        if self.dist>newDist:\n",
    "            self.dist=newDist\n",
    "            self.pre=preNode"
   ]
  },
  {
   "cell_type": "code",
   "execution_count": 2,
   "id": "444a6631",
   "metadata": {},
   "outputs": [],
   "source": [
    "n=Node(0, 'A', v='visited')"
   ]
  },
  {
   "cell_type": "code",
   "execution_count": 3,
   "id": "495d436b",
   "metadata": {},
   "outputs": [],
   "source": [
    "a=[[1, 2, 3],\n",
    "   [4, 5, 6],\n",
    "   [7, 8, 9]]"
   ]
  },
  {
   "cell_type": "code",
   "execution_count": 4,
   "id": "3e80b4c4",
   "metadata": {},
   "outputs": [
    {
     "data": {
      "text/plain": [
       "[1, 2, 3]"
      ]
     },
     "execution_count": 4,
     "metadata": {},
     "output_type": "execute_result"
    }
   ],
   "source": [
    "a[0]"
   ]
  },
  {
   "cell_type": "code",
   "execution_count": 5,
   "id": "b20af339",
   "metadata": {},
   "outputs": [
    {
     "data": {
      "text/plain": [
       "[4, 5, 6]"
      ]
     },
     "execution_count": 5,
     "metadata": {},
     "output_type": "execute_result"
    }
   ],
   "source": [
    "a[1]"
   ]
  },
  {
   "cell_type": "code",
   "execution_count": 6,
   "id": "9cc5672a",
   "metadata": {},
   "outputs": [
    {
     "data": {
      "text/plain": [
       "[7, 8, 9]"
      ]
     },
     "execution_count": 6,
     "metadata": {},
     "output_type": "execute_result"
    }
   ],
   "source": [
    "a[2]"
   ]
  },
  {
   "cell_type": "code",
   "execution_count": 7,
   "id": "6447d6e8",
   "metadata": {},
   "outputs": [
    {
     "name": "stdout",
     "output_type": "stream",
     "text": [
      "1 2 3\n"
     ]
    }
   ],
   "source": [
    "print(a[0][0], a[0][1], a[0][2])"
   ]
  },
  {
   "cell_type": "code",
   "execution_count": 8,
   "id": "5b962a3a",
   "metadata": {},
   "outputs": [
    {
     "name": "stdout",
     "output_type": "stream",
     "text": [
      "[0, 1, 3, 4]\n"
     ]
    }
   ],
   "source": [
    "class Node:\n",
    "    def __init__(self, x, n, d=999, v='unvisited', p=None):\n",
    "        self.idx = x\n",
    "        self.name = n\n",
    "        self.dist = d\n",
    "        self.visited = v\n",
    "        self.pre = p \n",
    "            \n",
    "    def getIdx(self):\n",
    "        return self.idx \n",
    "        \n",
    "    def getDist(self):\n",
    "        return self.dist \n",
    "        \n",
    "    def getPre(self):\n",
    "        return self.pre    \n",
    "        \n",
    "    def setVisited(self, a):\n",
    "        self.visited = a    \n",
    "        \n",
    "    def getVisited(self):\n",
    "        return self.visited       \n",
    "        \n",
    "    def updateDist(self, preNode, newDist):\n",
    "        if self.dist > newDist :\n",
    "            self.dist = newDist\n",
    "            self.pre = preNode\n",
    "\n",
    "class Graph:\n",
    "    def __init__(self):\n",
    "        self.nodes=[]\n",
    "        self.nodes.append(Node(0, 'A'))\n",
    "        self.nodes.append(Node(1, 'B'))\n",
    "        self.nodes.append(Node(2, 'C'))\n",
    "        self.nodes.append(Node(3, 'D'))\n",
    "        self.nodes.append(Node(4, 'E'))\n",
    "        \n",
    "        self.edges=[[0, 2, 4, 0, 0],\n",
    "                    [2, 0, 1, 2, 0],\n",
    "                    [4, 1, 0, 2, 5],\n",
    "                    [1, 2, 2, 0, 2],\n",
    "                    [0, 0, 5, 2, 0]]\n",
    "                    \n",
    "    def dijkstra(self, st, end):\n",
    "        self.cur = st\n",
    "        self.cur_node = self.findNode(self.cur)\n",
    "        self.cur_node.updateDist(None, 0)\n",
    "        \n",
    "        while(True):\n",
    "            cur_dist = self.cur_node.getDist()\n",
    "            \n",
    "            for k in range(len(self.nodes)):\n",
    "                if self.edges[self.cur][k] != 0 :\n",
    "                    neighbor = self.findNode(k)\n",
    "                    if neighbor.getVisited() == 'unvisited':\n",
    "                        neighbor.updateDist(self.cur_node, \n",
    "                                cur_dist+self.edges[self.cur][k])\n",
    "                    \n",
    "            self.cur_node.setVisited('visited')\n",
    "            \n",
    "            if self.findNode(end).getVisited() == 'visited':\n",
    "                break\n",
    "                \n",
    "            self.cur_node = self.findNext()\n",
    "            self.cur = self.cur_node.getIdx()\n",
    "        \n",
    "        node = self.findNode(end)      \n",
    "        path = [end]\n",
    "        while(True):\n",
    "            node = node.getPre()\n",
    "            if (node == None):\n",
    "                break\n",
    "            path.append(node.getIdx())\n",
    "            \n",
    "        path.reverse()\n",
    "        print(path)\n",
    "           \n",
    "    def findNode(self, no):\n",
    "        for n in self.nodes:\n",
    "            if n.getIdx() == no :\n",
    "                return n\n",
    "    \n",
    "    def findNext(self):\n",
    "        m = 999\n",
    "        for n in self.nodes :\n",
    "            if n.getVisited() == 'unvisited' :\n",
    "                d = n.getDist()\n",
    "                if d < m :\n",
    "                    m = d\n",
    "                    node = n\n",
    "        return node\n",
    "        \n",
    "def main():\n",
    "    g = Graph()\n",
    "    g.dijkstra(0, 4)\n",
    "    \n",
    "main()"
   ]
  },
  {
   "cell_type": "code",
   "execution_count": null,
   "id": "4d8672b9",
   "metadata": {},
   "outputs": [],
   "source": []
  }
 ],
 "metadata": {
  "kernelspec": {
   "display_name": "Python 3 (ipykernel)",
   "language": "python",
   "name": "python3"
  },
  "language_info": {
   "codemirror_mode": {
    "name": "ipython",
    "version": 3
   },
   "file_extension": ".py",
   "mimetype": "text/x-python",
   "name": "python",
   "nbconvert_exporter": "python",
   "pygments_lexer": "ipython3",
   "version": "3.9.7"
  }
 },
 "nbformat": 4,
 "nbformat_minor": 5
}
