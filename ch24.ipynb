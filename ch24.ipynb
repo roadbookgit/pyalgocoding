{
 "cells": [
  {
   "cell_type": "markdown",
   "id": "e321c841",
   "metadata": {},
   "source": [
    "# 24장. 파이썬 라이브러리:Turtle"
   ]
  },
  {
   "cell_type": "code",
   "execution_count": 1,
   "id": "647c80c3",
   "metadata": {},
   "outputs": [],
   "source": [
    "import turtle"
   ]
  },
  {
   "cell_type": "code",
   "execution_count": 2,
   "id": "1eedc0f1",
   "metadata": {},
   "outputs": [],
   "source": [
    "t=turtle.Turtle()"
   ]
  },
  {
   "cell_type": "code",
   "execution_count": 3,
   "id": "28b39569",
   "metadata": {},
   "outputs": [],
   "source": [
    "t.forward(100)"
   ]
  },
  {
   "cell_type": "code",
   "execution_count": 4,
   "id": "81f2785e",
   "metadata": {},
   "outputs": [
    {
     "data": {
      "text/plain": [
       "(100.00,0.00)"
      ]
     },
     "execution_count": 4,
     "metadata": {},
     "output_type": "execute_result"
    }
   ],
   "source": [
    "t.pos()"
   ]
  },
  {
   "cell_type": "code",
   "execution_count": 5,
   "id": "418b1a69",
   "metadata": {},
   "outputs": [],
   "source": [
    "turtle.colormode(255)\n",
    "t.color(100, 50, 80)"
   ]
  },
  {
   "cell_type": "code",
   "execution_count": 6,
   "id": "4328ddc5",
   "metadata": {},
   "outputs": [],
   "source": [
    "t.forward(100)\n",
    "t.left(90)\n",
    "t.forward(100)\n",
    "t.left(90)\n",
    "t.forward(100)\n",
    "t.left(90)\n",
    "t.forward(100)\n",
    "t.left(90)"
   ]
  },
  {
   "cell_type": "code",
   "execution_count": 7,
   "id": "a6c794cb",
   "metadata": {},
   "outputs": [],
   "source": [
    "for k in range(4):\n",
    "    t.forward(100)\n",
    "    t.left(90)"
   ]
  },
  {
   "cell_type": "code",
   "execution_count": 8,
   "id": "fd28e355",
   "metadata": {},
   "outputs": [],
   "source": [
    "def drawRect(tur, x, y, angle, leng):\n",
    "    tur.up()\n",
    "    tur.home()\n",
    "    tur.goto(x, y)\n",
    "    tur.left(angle)\n",
    "    tur.down()\n",
    "    \n",
    "    for k in range(4):\n",
    "        t.forward(leng)\n",
    "        t.left(90)"
   ]
  },
  {
   "cell_type": "code",
   "execution_count": 9,
   "id": "36789d15",
   "metadata": {},
   "outputs": [],
   "source": [
    "drawRect(t, 100, 50, 35, 80)"
   ]
  },
  {
   "cell_type": "code",
   "execution_count": 10,
   "id": "d99ccbd6",
   "metadata": {},
   "outputs": [],
   "source": [
    "import turtle\n",
    "\n",
    "class Drawing:\n",
    "    def __init__(self, color):\n",
    "        self.tur=turtle.Turtle()\n",
    "        self.color=color\n",
    "        self.tur.color(self.color)\n",
    "        \n",
    "    def move(self, x, y):\n",
    "        self.tur.up()\n",
    "        self.tur.home()\n",
    "        self.tur.goto(x, y)\n",
    "        self.tur.down()\n",
    "        \n",
    "    def drawRect(self, x, y, angle, leng):\n",
    "        self.move(x, y)\n",
    "        self.tur.left(angle)\n",
    "        \n",
    "        for k in range(4):\n",
    "            self.tur.forward(leng)\n",
    "            self.tur.left(90)"
   ]
  },
  {
   "cell_type": "code",
   "execution_count": 11,
   "id": "84f99e96",
   "metadata": {},
   "outputs": [],
   "source": [
    "t=Drawing('red')\n",
    "t.drawRect(100, 50, 30, 100)\n",
    "t.drawRect(-100, 100, 60, 50)"
   ]
  },
  {
   "cell_type": "code",
   "execution_count": 12,
   "id": "d9a9ff5f",
   "metadata": {},
   "outputs": [],
   "source": [
    "import  turtle\n",
    "\n",
    "class MyTurtle(turtle.Turtle):\n",
    "    def __init__(self, col):\n",
    "        super().__init__()\n",
    "        self.color(col)\n",
    "        \n",
    "    def move(self, x, y):\n",
    "        self.up()\n",
    "        self.home()\n",
    "        self.goto(x, y)\n",
    "        self.down()\n",
    "        \n",
    "    def drawRect(self, x, y, angle, leng):\n",
    "        self.move(x, y)\n",
    "        self.left(angle)\n",
    "        \n",
    "        for k in range(4):\n",
    "            self.forward(leng)\n",
    "            self.left(90)"
   ]
  },
  {
   "cell_type": "code",
   "execution_count": 13,
   "id": "703c16ff",
   "metadata": {},
   "outputs": [],
   "source": [
    "t=MyTurtle('green')\n",
    "t.drawRect(100, 50, 45, 100)\n",
    "t.drawRect(100, 50, 60, 100)"
   ]
  },
  {
   "cell_type": "code",
   "execution_count": null,
   "id": "61de3152",
   "metadata": {},
   "outputs": [],
   "source": []
  }
 ],
 "metadata": {
  "kernelspec": {
   "display_name": "Python 3 (ipykernel)",
   "language": "python",
   "name": "python3"
  },
  "language_info": {
   "codemirror_mode": {
    "name": "ipython",
    "version": 3
   },
   "file_extension": ".py",
   "mimetype": "text/x-python",
   "name": "python",
   "nbconvert_exporter": "python",
   "pygments_lexer": "ipython3",
   "version": "3.9.7"
  }
 },
 "nbformat": 4,
 "nbformat_minor": 5
}
