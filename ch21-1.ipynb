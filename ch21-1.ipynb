{
 "cells": [
  {
   "cell_type": "markdown",
   "id": "13e2055b",
   "metadata": {},
   "source": [
    "# 21장. 객체들 간의 관계: 컴포지션과 상속"
   ]
  },
  {
   "cell_type": "code",
   "execution_count": 1,
   "id": "24f1bdd7",
   "metadata": {},
   "outputs": [],
   "source": [
    "class Point:\n",
    "    def __init__(self, a, b):\n",
    "        self.x=a\n",
    "        self.y=b\n",
    "        \n",
    "    def get_x(self):\n",
    "        return self.x\n",
    "    \n",
    "    def get_y(self):\n",
    "        return self.y\n",
    "    \n",
    "    def show(self):\n",
    "        print('Coord :', self.x, self.y)"
   ]
  },
  {
   "cell_type": "code",
   "execution_count": 2,
   "id": "dc09930e",
   "metadata": {},
   "outputs": [
    {
     "name": "stdout",
     "output_type": "stream",
     "text": [
      "Coord : 10 20\n"
     ]
    }
   ],
   "source": [
    "p1=Point(10, 20)\n",
    "p1.show()"
   ]
  },
  {
   "cell_type": "code",
   "execution_count": 3,
   "id": "cad34544",
   "metadata": {},
   "outputs": [],
   "source": [
    "import math\n",
    "def distance(pt1, pt2):\n",
    "    x1=pt1.get_x()\n",
    "    y1=pt1.get_y()\n",
    "    x2=pt2.get_x()\n",
    "    y2=pt2.get_y()\n",
    "    \n",
    "    d=math.sqrt((x2-x1)**2+(y2-y1)**2)\n",
    "    return d"
   ]
  },
  {
   "cell_type": "code",
   "execution_count": 4,
   "id": "e0ff0e67",
   "metadata": {},
   "outputs": [
    {
     "name": "stdout",
     "output_type": "stream",
     "text": [
      "2.23606797749979\n"
     ]
    }
   ],
   "source": [
    "p1=Point(2, 3)\n",
    "p2=Point(4, 2)\n",
    "dist=distance(p1, p2)\n",
    "print(dist)"
   ]
  },
  {
   "cell_type": "code",
   "execution_count": 9,
   "id": "21149f53",
   "metadata": {},
   "outputs": [],
   "source": [
    "class Geometry:    # 책에 포함되는 코드는 아닙니다. \n",
    "    \n",
    "    def distance(self, pt1, pt2):\n",
    "        x1=pt1.get_x()\n",
    "        y1=pt1.get_y()\n",
    "        x2=pt2.get_x()\n",
    "        y2=pt2.get_y()\n",
    "\n",
    "        d=math.sqrt((x2-x1)**2+(y2-y1)**2)\n",
    "        return d"
   ]
  },
  {
   "cell_type": "markdown",
   "id": "7ac025fa",
   "metadata": {},
   "source": [
    "class Geometry:\n",
    "    \n",
    "    def distance(self, pt1, pt2):\n",
    "        # .... (코드는 생략)\n",
    "        "
   ]
  },
  {
   "cell_type": "code",
   "execution_count": 6,
   "id": "2786827f",
   "metadata": {},
   "outputs": [
    {
     "name": "stdout",
     "output_type": "stream",
     "text": [
      "2.23606797749979\n"
     ]
    }
   ],
   "source": [
    "p1=Point(2, 3)\n",
    "p2=Point(4, 2)\n",
    "\n",
    "g=Geometry()\n",
    "print(g.distance(p1, p2))"
   ]
  },
  {
   "cell_type": "code",
   "execution_count": 7,
   "id": "528d37ba",
   "metadata": {},
   "outputs": [],
   "source": [
    "class Geometry:   \n",
    "    \n",
    "    def distance(pt1, pt2):\n",
    "        x1=pt1.get_x()\n",
    "        y1=pt1.get_y()\n",
    "        x2=pt2.get_x()\n",
    "        y2=pt2.get_y()\n",
    "\n",
    "        d=math.sqrt((x2-x1)**2+(y2-y1)**2)\n",
    "        return d"
   ]
  },
  {
   "cell_type": "code",
   "execution_count": 8,
   "id": "01699e40",
   "metadata": {},
   "outputs": [
    {
     "name": "stdout",
     "output_type": "stream",
     "text": [
      "2.23606797749979\n"
     ]
    }
   ],
   "source": [
    "p1=Point(2, 3)\n",
    "p2=Point(4, 2)\n",
    "\n",
    "dist=Geometry.distance(p1, p2)\n",
    "print(dist)"
   ]
  },
  {
   "cell_type": "code",
   "execution_count": null,
   "id": "d495a92c",
   "metadata": {},
   "outputs": [],
   "source": [
    "class Geometry:   \n",
    "    @staticmethod\n",
    "    def distance(pt1, pt2):\n",
    "        # .... (코드는 생략)"
   ]
  },
  {
   "cell_type": "code",
   "execution_count": 10,
   "id": "bcfdaac6",
   "metadata": {},
   "outputs": [
    {
     "name": "stdout",
     "output_type": "stream",
     "text": [
      "2.23606797749979\n"
     ]
    }
   ],
   "source": [
    "p1=Point(2, 3)\n",
    "p2=Point(4, 2)\n",
    "\n",
    "g=Geometry()\n",
    "dist=g.distance(p1, p2)\n",
    "print(dist)"
   ]
  },
  {
   "cell_type": "code",
   "execution_count": 11,
   "id": "9cfb8722",
   "metadata": {},
   "outputs": [],
   "source": [
    "class A:\n",
    "    def __init__(self, a, b):\n",
    "        self.x=a\n",
    "        self.y=b\n",
    "    \n",
    "    @classmethod\n",
    "    def f(cls, c, d):\n",
    "        a=2*c\n",
    "        b=2*d\n",
    "        return cls(a, b)\n",
    "    \n",
    "    def show(self):\n",
    "        print(self.x, self.y)"
   ]
  },
  {
   "cell_type": "code",
   "execution_count": 12,
   "id": "0962196f",
   "metadata": {},
   "outputs": [],
   "source": [
    "x=A.f(1, 2)"
   ]
  },
  {
   "cell_type": "code",
   "execution_count": 13,
   "id": "a6c1f51a",
   "metadata": {},
   "outputs": [
    {
     "data": {
      "text/plain": [
       "__main__.A"
      ]
     },
     "execution_count": 13,
     "metadata": {},
     "output_type": "execute_result"
    }
   ],
   "source": [
    "type(x)"
   ]
  },
  {
   "cell_type": "code",
   "execution_count": 14,
   "id": "6806eaac",
   "metadata": {},
   "outputs": [
    {
     "name": "stdout",
     "output_type": "stream",
     "text": [
      "2 4\n"
     ]
    }
   ],
   "source": [
    "x.show()"
   ]
  },
  {
   "cell_type": "code",
   "execution_count": 15,
   "id": "d81a5061",
   "metadata": {},
   "outputs": [],
   "source": [
    "class Point:\n",
    "    no=0      # class variable\n",
    "    \n",
    "    def __init__(self, a, b):\n",
    "        self.id=Point.no\n",
    "        self.x=a\n",
    "        self.y=b\n",
    "        Point.no=Point.no+1\n",
    "        \n",
    "    def show(self):\n",
    "        print('P[', self.id, ']', self.x, self.y)"
   ]
  },
  {
   "cell_type": "code",
   "execution_count": 16,
   "id": "a8d54426",
   "metadata": {},
   "outputs": [],
   "source": [
    "p1=Point(10, 20)"
   ]
  },
  {
   "cell_type": "code",
   "execution_count": 17,
   "id": "c1ba1167",
   "metadata": {},
   "outputs": [
    {
     "name": "stdout",
     "output_type": "stream",
     "text": [
      "P[ 0 ] 10 20\n"
     ]
    }
   ],
   "source": [
    "p1.show()"
   ]
  },
  {
   "cell_type": "code",
   "execution_count": 18,
   "id": "1305c38d",
   "metadata": {},
   "outputs": [],
   "source": [
    "p2=Point(20, 40)"
   ]
  },
  {
   "cell_type": "code",
   "execution_count": 19,
   "id": "bc410f77",
   "metadata": {},
   "outputs": [
    {
     "name": "stdout",
     "output_type": "stream",
     "text": [
      "P[ 1 ] 20 40\n"
     ]
    }
   ],
   "source": [
    "p2.show()"
   ]
  },
  {
   "cell_type": "code",
   "execution_count": 20,
   "id": "5a0c8610",
   "metadata": {},
   "outputs": [],
   "source": [
    "def f():\n",
    "    print('Hello')"
   ]
  },
  {
   "cell_type": "code",
   "execution_count": 21,
   "id": "4d791610",
   "metadata": {},
   "outputs": [],
   "source": [
    "g=f"
   ]
  },
  {
   "cell_type": "code",
   "execution_count": 22,
   "id": "85f39ee4",
   "metadata": {},
   "outputs": [
    {
     "name": "stdout",
     "output_type": "stream",
     "text": [
      "1575144566848 1575144566848\n"
     ]
    }
   ],
   "source": [
    "print(id(f), id(g))"
   ]
  },
  {
   "cell_type": "code",
   "execution_count": 23,
   "id": "daa7505b",
   "metadata": {},
   "outputs": [
    {
     "name": "stdout",
     "output_type": "stream",
     "text": [
      "Hello\n"
     ]
    }
   ],
   "source": [
    "g()"
   ]
  },
  {
   "cell_type": "code",
   "execution_count": 24,
   "id": "3ea565ea",
   "metadata": {},
   "outputs": [],
   "source": [
    "def h(a):\n",
    "    a()"
   ]
  },
  {
   "cell_type": "code",
   "execution_count": 25,
   "id": "9ee11a47",
   "metadata": {},
   "outputs": [
    {
     "name": "stdout",
     "output_type": "stream",
     "text": [
      "Hello\n"
     ]
    }
   ],
   "source": [
    "h(f)"
   ]
  },
  {
   "cell_type": "code",
   "execution_count": 26,
   "id": "8a56509d",
   "metadata": {},
   "outputs": [],
   "source": [
    "def f(x):\n",
    "    print(x)"
   ]
  },
  {
   "cell_type": "code",
   "execution_count": 27,
   "id": "6470d8fc",
   "metadata": {},
   "outputs": [],
   "source": [
    "def h(a, x):\n",
    "    a(x)"
   ]
  },
  {
   "cell_type": "code",
   "execution_count": 28,
   "id": "f3e29377",
   "metadata": {},
   "outputs": [
    {
     "name": "stdout",
     "output_type": "stream",
     "text": [
      "Hi\n"
     ]
    }
   ],
   "source": [
    "h(f, 'Hi')"
   ]
  },
  {
   "cell_type": "code",
   "execution_count": 29,
   "id": "45a67f62",
   "metadata": {},
   "outputs": [],
   "source": [
    "def f():\n",
    "    def g():\n",
    "        print('GGGG')\n",
    "    return g"
   ]
  },
  {
   "cell_type": "code",
   "execution_count": 30,
   "id": "6c173bdc",
   "metadata": {},
   "outputs": [],
   "source": [
    "h=f()"
   ]
  },
  {
   "cell_type": "code",
   "execution_count": 31,
   "id": "3b62146f",
   "metadata": {},
   "outputs": [
    {
     "name": "stdout",
     "output_type": "stream",
     "text": [
      "GGGG\n"
     ]
    }
   ],
   "source": [
    "h()"
   ]
  },
  {
   "cell_type": "code",
   "execution_count": 32,
   "id": "c4808ffc",
   "metadata": {},
   "outputs": [],
   "source": [
    "def f():\n",
    "    print('GGGG')"
   ]
  },
  {
   "cell_type": "code",
   "execution_count": 33,
   "id": "e1feb91f",
   "metadata": {},
   "outputs": [],
   "source": [
    "def g():\n",
    "    print('FFFF')\n",
    "    f()\n",
    "    print('HHHH')"
   ]
  },
  {
   "cell_type": "code",
   "execution_count": 34,
   "id": "dd7da3a8",
   "metadata": {},
   "outputs": [
    {
     "name": "stdout",
     "output_type": "stream",
     "text": [
      "FFFF\n",
      "GGGG\n",
      "HHHH\n"
     ]
    }
   ],
   "source": [
    "g()"
   ]
  },
  {
   "cell_type": "code",
   "execution_count": 35,
   "id": "5a31ba23",
   "metadata": {},
   "outputs": [],
   "source": [
    "def f():\n",
    "    print('GGGG')"
   ]
  },
  {
   "cell_type": "code",
   "execution_count": 36,
   "id": "6901969c",
   "metadata": {},
   "outputs": [],
   "source": [
    "def wrap(func):\n",
    "    def g():\n",
    "        print('FFFF')\n",
    "        func()\n",
    "        print('HHHH')\n",
    "    return g"
   ]
  },
  {
   "cell_type": "code",
   "execution_count": 37,
   "id": "c2678e0f",
   "metadata": {},
   "outputs": [],
   "source": [
    "h=wrap(f)"
   ]
  },
  {
   "cell_type": "code",
   "execution_count": 38,
   "id": "ee07be1b",
   "metadata": {},
   "outputs": [
    {
     "name": "stdout",
     "output_type": "stream",
     "text": [
      "FFFF\n",
      "GGGG\n",
      "HHHH\n"
     ]
    }
   ],
   "source": [
    "h()"
   ]
  },
  {
   "cell_type": "code",
   "execution_count": 39,
   "id": "41237e1b",
   "metadata": {},
   "outputs": [],
   "source": [
    "f=wrap(f)"
   ]
  },
  {
   "cell_type": "code",
   "execution_count": 40,
   "id": "71317c42",
   "metadata": {},
   "outputs": [
    {
     "name": "stdout",
     "output_type": "stream",
     "text": [
      "FFFF\n",
      "GGGG\n",
      "HHHH\n"
     ]
    }
   ],
   "source": [
    "f()"
   ]
  },
  {
   "cell_type": "code",
   "execution_count": 41,
   "id": "1d0284d5",
   "metadata": {},
   "outputs": [],
   "source": [
    "@wrap\n",
    "def f():\n",
    "    print('GGGG')"
   ]
  },
  {
   "cell_type": "code",
   "execution_count": 42,
   "id": "05185c99",
   "metadata": {},
   "outputs": [
    {
     "name": "stdout",
     "output_type": "stream",
     "text": [
      "FFFF\n",
      "GGGG\n",
      "HHHH\n"
     ]
    }
   ],
   "source": [
    "f()"
   ]
  },
  {
   "cell_type": "code",
   "execution_count": 43,
   "id": "8d4ffbce",
   "metadata": {},
   "outputs": [],
   "source": [
    "def wrap(func):\n",
    "    def g(a):\n",
    "        print('FFFF')\n",
    "        func(a)\n",
    "        print('HHHH')\n",
    "    return g"
   ]
  },
  {
   "cell_type": "code",
   "execution_count": 44,
   "id": "a3367f8a",
   "metadata": {},
   "outputs": [],
   "source": [
    "@wrap\n",
    "def f(x):\n",
    "    print(x)"
   ]
  },
  {
   "cell_type": "code",
   "execution_count": 45,
   "id": "4788dc38",
   "metadata": {},
   "outputs": [
    {
     "name": "stdout",
     "output_type": "stream",
     "text": [
      "FFFF\n",
      "AAAA\n",
      "HHHH\n"
     ]
    }
   ],
   "source": [
    "f('AAAA')"
   ]
  },
  {
   "cell_type": "code",
   "execution_count": null,
   "id": "402b0588",
   "metadata": {},
   "outputs": [],
   "source": []
  }
 ],
 "metadata": {
  "kernelspec": {
   "display_name": "Python 3 (ipykernel)",
   "language": "python",
   "name": "python3"
  },
  "language_info": {
   "codemirror_mode": {
    "name": "ipython",
    "version": 3
   },
   "file_extension": ".py",
   "mimetype": "text/x-python",
   "name": "python",
   "nbconvert_exporter": "python",
   "pygments_lexer": "ipython3",
   "version": "3.9.7"
  }
 },
 "nbformat": 4,
 "nbformat_minor": 5
}
