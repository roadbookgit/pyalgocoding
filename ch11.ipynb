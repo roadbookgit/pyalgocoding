{
 "cells": [
  {
   "cell_type": "markdown",
   "id": "46a96fa6",
   "metadata": {},
   "source": [
    "# 11장. 알고리즘 연습 PART 1"
   ]
  },
  {
   "cell_type": "code",
   "execution_count": 1,
   "id": "2bf527d4",
   "metadata": {},
   "outputs": [
    {
     "name": "stdout",
     "output_type": "stream",
     "text": [
      "max= 10\n"
     ]
    }
   ],
   "source": [
    "a=10\n",
    "b=6\n",
    "if a>b:\n",
    "    print('max=', a)\n",
    "else:\n",
    "    print('max=', b)"
   ]
  },
  {
   "cell_type": "code",
   "execution_count": 2,
   "id": "dc0b6867",
   "metadata": {},
   "outputs": [
    {
     "name": "stdout",
     "output_type": "stream",
     "text": [
      "max= 10\n"
     ]
    }
   ],
   "source": [
    "a=10\n",
    "b=6\n",
    "if a>b:\n",
    "    max=a\n",
    "else:\n",
    "    max=b\n",
    "print('max=', max)"
   ]
  },
  {
   "cell_type": "code",
   "execution_count": 3,
   "id": "9b762193",
   "metadata": {},
   "outputs": [],
   "source": [
    "a=10; b=5; c=14"
   ]
  },
  {
   "cell_type": "code",
   "execution_count": 4,
   "id": "26852f5d",
   "metadata": {},
   "outputs": [
    {
     "name": "stdout",
     "output_type": "stream",
     "text": [
      "max= 14\n"
     ]
    }
   ],
   "source": [
    "if a>b:\n",
    "    if a>c:\n",
    "        max=a\n",
    "    else:\n",
    "        max=c\n",
    "else:\n",
    "    if b>c:\n",
    "        max=b\n",
    "    else:\n",
    "        max=c\n",
    "print('max=', max)"
   ]
  },
  {
   "cell_type": "code",
   "execution_count": 5,
   "id": "f202f6c0",
   "metadata": {},
   "outputs": [
    {
     "name": "stdout",
     "output_type": "stream",
     "text": [
      "max= 42\n"
     ]
    }
   ],
   "source": [
    "a=30; b=15; c=42; d=19\n",
    "\n",
    "max=a\n",
    "if max<b:\n",
    "    max=b\n",
    "if max<c:\n",
    "    max=c\n",
    "if max<d:\n",
    "    max=d\n",
    "print('max=', max)"
   ]
  },
  {
   "cell_type": "code",
   "execution_count": 6,
   "id": "9c46b330",
   "metadata": {},
   "outputs": [
    {
     "name": "stdout",
     "output_type": "stream",
     "text": [
      "max= 55\n"
     ]
    }
   ],
   "source": [
    "a=30; b=15; c=42; d=19; e=55\n",
    "\n",
    "max=a\n",
    "if max<b:\n",
    "    max=b\n",
    "if max<c:\n",
    "    max=c\n",
    "if max<d:\n",
    "    max=d\n",
    "if max<e:\n",
    "    max=e\n",
    "print('max=', max)"
   ]
  },
  {
   "cell_type": "code",
   "execution_count": 7,
   "id": "3e161548",
   "metadata": {},
   "outputs": [
    {
     "name": "stdout",
     "output_type": "stream",
     "text": [
      "max= 55\n"
     ]
    }
   ],
   "source": [
    "a=[30, 15, 42, 19, 55]\n",
    "\n",
    "max=a[0]\n",
    "if max<a[1]:\n",
    "    max=a[1]\n",
    "if max<a[2]:\n",
    "    max=a[2]\n",
    "if max<a[3]:\n",
    "    max=a[3]\n",
    "if max<a[4]:\n",
    "    max=a[4]\n",
    "print('max=', max)"
   ]
  },
  {
   "cell_type": "code",
   "execution_count": 8,
   "id": "8328f082",
   "metadata": {},
   "outputs": [
    {
     "name": "stdout",
     "output_type": "stream",
     "text": [
      "max= 55\n"
     ]
    }
   ],
   "source": [
    "a=[30, 15, 42, 19, 55]\n",
    "\n",
    "max=a[0]\n",
    "for k in range(1, 5):\n",
    "    if max<a[k]:\n",
    "        max=a[k]\n",
    "print('max=', max)"
   ]
  },
  {
   "cell_type": "code",
   "execution_count": 9,
   "id": "b9950cf6",
   "metadata": {},
   "outputs": [
    {
     "name": "stdout",
     "output_type": "stream",
     "text": [
      "max= 55\n"
     ]
    }
   ],
   "source": [
    "a=[30, 15, 42, 19, 55]\n",
    "\n",
    "max=a[0]\n",
    "for k in range(1, len(a)):\n",
    "    if max<a[k]:\n",
    "        max=a[k]\n",
    "print('max=', max)"
   ]
  },
  {
   "cell_type": "code",
   "execution_count": 10,
   "id": "0ba23067",
   "metadata": {},
   "outputs": [],
   "source": [
    "a=[5, 25, 10, 7, 15, 90, 34, 78, 82, 77, 42]"
   ]
  },
  {
   "cell_type": "code",
   "execution_count": 11,
   "id": "b869e54f",
   "metadata": {},
   "outputs": [
    {
     "name": "stdout",
     "output_type": "stream",
     "text": [
      "max= 90\n"
     ]
    }
   ],
   "source": [
    "max=a[0]\n",
    "for k in range(1, len(a)):\n",
    "    if max<a[k]:\n",
    "        max=a[k]\n",
    "print('max=', max)"
   ]
  },
  {
   "cell_type": "code",
   "execution_count": 12,
   "id": "ca51ba80",
   "metadata": {},
   "outputs": [],
   "source": [
    "del(max)"
   ]
  },
  {
   "cell_type": "code",
   "execution_count": 13,
   "id": "9fc61ce4",
   "metadata": {},
   "outputs": [
    {
     "data": {
      "text/plain": [
       "90"
      ]
     },
     "execution_count": 13,
     "metadata": {},
     "output_type": "execute_result"
    }
   ],
   "source": [
    "a=[5, 25, 10, 7, 15, 90, 34, 78, 82, 77, 42]\n",
    "max(a)"
   ]
  },
  {
   "cell_type": "code",
   "execution_count": 14,
   "id": "e9e42aff",
   "metadata": {},
   "outputs": [
    {
     "name": "stdout",
     "output_type": "stream",
     "text": [
      "min= 5\n"
     ]
    }
   ],
   "source": [
    "a=[5, 25, 10, 7, 15, 90, 34, 78, 82, 77, 42]\n",
    "\n",
    "min=a[0]\n",
    "for k in range(1, len(a)):\n",
    "    if min>a[k]:\n",
    "        min=a[k]\n",
    "print('min=', min)"
   ]
  },
  {
   "cell_type": "code",
   "execution_count": 15,
   "id": "aa71d3fa",
   "metadata": {},
   "outputs": [
    {
     "name": "stdout",
     "output_type": "stream",
     "text": [
      "max= 90\n"
     ]
    }
   ],
   "source": [
    "a=[5, 25, 10, 7, 15, 90, 34, 78, 82, 77, 42]\n",
    "\n",
    "max=a[0]\n",
    "for k in range(1, len(a)):\n",
    "    if max<a[k]:\n",
    "        max=a[k]\n",
    "print('max=', max)"
   ]
  },
  {
   "cell_type": "code",
   "execution_count": 16,
   "id": "09b5b0e7",
   "metadata": {},
   "outputs": [
    {
     "name": "stdout",
     "output_type": "stream",
     "text": [
      "max= 90 pos= 5\n"
     ]
    }
   ],
   "source": [
    "a=[5, 25, 10, 7, 15, 90, 34, 78, 82, 77, 42]\n",
    "\n",
    "max=a[0]\n",
    "pos=0\n",
    "for k in range(1, len(a)):\n",
    "    if max<a[k]:\n",
    "        max=a[k]\n",
    "        pos=k\n",
    "print('max=', max, 'pos=', pos)"
   ]
  },
  {
   "cell_type": "code",
   "execution_count": 17,
   "id": "c54ccf6c",
   "metadata": {},
   "outputs": [],
   "source": [
    "a=[-5, -9, -3, -11, 8, 5, 4, -7]"
   ]
  },
  {
   "cell_type": "code",
   "execution_count": 18,
   "id": "b5a0de5c",
   "metadata": {},
   "outputs": [
    {
     "name": "stdout",
     "output_type": "stream",
     "text": [
      "max= -3\n"
     ]
    }
   ],
   "source": [
    "max=-999\n",
    "for k in range(1, len(a)):\n",
    "    if a[k]<0:\n",
    "        if max<a[k]:\n",
    "            max=a[k]\n",
    "print('max=', max)"
   ]
  },
  {
   "cell_type": "code",
   "execution_count": 19,
   "id": "60a3b983",
   "metadata": {},
   "outputs": [],
   "source": [
    "a=[10, -5, 9, -3, -11, 8, 5, 4, 7, -7]"
   ]
  },
  {
   "cell_type": "code",
   "execution_count": 20,
   "id": "6d7b2b02",
   "metadata": {},
   "outputs": [
    {
     "name": "stdout",
     "output_type": "stream",
     "text": [
      "The first negative number : -5\n"
     ]
    }
   ],
   "source": [
    "first = None\n",
    "\n",
    "for k in range(len(a)):\n",
    "    if a[k]<0:\n",
    "        first=a[k]\n",
    "        break\n",
    "print('The first negative number :', first)"
   ]
  },
  {
   "cell_type": "code",
   "execution_count": 21,
   "id": "654a89e5",
   "metadata": {},
   "outputs": [
    {
     "name": "stdout",
     "output_type": "stream",
     "text": [
      "max= -3\n"
     ]
    }
   ],
   "source": [
    "if first==None:\n",
    "    print('The list has no negative item')\n",
    "else:\n",
    "    max=first\n",
    "    for k in range(1, len(a)):\n",
    "        if a[k]<0:\n",
    "            if max<a[k]:\n",
    "                max=a[k]\n",
    "    print('max=', max)    "
   ]
  },
  {
   "cell_type": "code",
   "execution_count": null,
   "id": "2315671f",
   "metadata": {},
   "outputs": [],
   "source": []
  }
 ],
 "metadata": {
  "kernelspec": {
   "display_name": "Python 3 (ipykernel)",
   "language": "python",
   "name": "python3"
  },
  "language_info": {
   "codemirror_mode": {
    "name": "ipython",
    "version": 3
   },
   "file_extension": ".py",
   "mimetype": "text/x-python",
   "name": "python",
   "nbconvert_exporter": "python",
   "pygments_lexer": "ipython3",
   "version": "3.9.7"
  }
 },
 "nbformat": 4,
 "nbformat_minor": 5
}
