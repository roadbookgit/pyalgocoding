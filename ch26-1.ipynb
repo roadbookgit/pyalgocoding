{
 "cells": [
  {
   "cell_type": "markdown",
   "id": "cf3cb04d",
   "metadata": {},
   "source": [
    "# 26장. 파이썬 라이브러리:Pandas"
   ]
  },
  {
   "cell_type": "code",
   "execution_count": 1,
   "id": "910c52ff",
   "metadata": {},
   "outputs": [],
   "source": [
    "import pandas as pd    # 책에 포함되는 코드는 아닙니다"
   ]
  },
  {
   "cell_type": "code",
   "execution_count": 2,
   "id": "a7f83ace",
   "metadata": {},
   "outputs": [],
   "source": [
    "a=25"
   ]
  },
  {
   "cell_type": "code",
   "execution_count": 3,
   "id": "ee3e84a6",
   "metadata": {},
   "outputs": [
    {
     "name": "stdout",
     "output_type": "stream",
     "text": [
      "25\n"
     ]
    }
   ],
   "source": [
    "print(a)"
   ]
  },
  {
   "cell_type": "code",
   "execution_count": 4,
   "id": "7b6b5b6a",
   "metadata": {},
   "outputs": [],
   "source": [
    "a=a+10"
   ]
  },
  {
   "cell_type": "code",
   "execution_count": 5,
   "id": "e4a12e78",
   "metadata": {},
   "outputs": [],
   "source": [
    "del(a)"
   ]
  },
  {
   "cell_type": "code",
   "execution_count": 6,
   "id": "050f9140",
   "metadata": {},
   "outputs": [
    {
     "ename": "NameError",
     "evalue": "name 'a' is not defined",
     "output_type": "error",
     "traceback": [
      "\u001b[1;31m---------------------------------------------------------------------\u001b[0m",
      "\u001b[1;31mNameError\u001b[0m                           Traceback (most recent call last)",
      "\u001b[1;32m~\\AppData\\Local\\Temp/ipykernel_8536/2167009006.py\u001b[0m in \u001b[0;36m<module>\u001b[1;34m\u001b[0m\n\u001b[1;32m----> 1\u001b[1;33m \u001b[0ma\u001b[0m\u001b[1;33m\u001b[0m\u001b[1;33m\u001b[0m\u001b[0m\n\u001b[0m",
      "\u001b[1;31mNameError\u001b[0m: name 'a' is not defined"
     ]
    }
   ],
   "source": [
    "a"
   ]
  },
  {
   "cell_type": "code",
   "execution_count": 7,
   "id": "9f960b7a",
   "metadata": {},
   "outputs": [],
   "source": [
    "score=[90, 85, 95]"
   ]
  },
  {
   "cell_type": "code",
   "execution_count": 8,
   "id": "dcd8a856",
   "metadata": {},
   "outputs": [],
   "source": [
    "score={'국어':90, '영어':85, '수학':95}"
   ]
  },
  {
   "cell_type": "code",
   "execution_count": 9,
   "id": "8bab676d",
   "metadata": {},
   "outputs": [],
   "source": [
    "score=pd.Series(data=[90, 85, 95],\n",
    "                index=['국어', '영어', '수학'])"
   ]
  },
  {
   "cell_type": "code",
   "execution_count": 10,
   "id": "de5caa81",
   "metadata": {},
   "outputs": [
    {
     "name": "stdout",
     "output_type": "stream",
     "text": [
      "국어    90\n",
      "영어    85\n",
      "수학    95\n",
      "dtype: int64\n"
     ]
    }
   ],
   "source": [
    "print(score)"
   ]
  },
  {
   "cell_type": "code",
   "execution_count": 11,
   "id": "0e9fb16e",
   "metadata": {},
   "outputs": [
    {
     "data": {
      "text/plain": [
       "95"
      ]
     },
     "execution_count": 11,
     "metadata": {},
     "output_type": "execute_result"
    }
   ],
   "source": [
    "score['수학']"
   ]
  },
  {
   "cell_type": "code",
   "execution_count": 12,
   "id": "40e0dd67",
   "metadata": {},
   "outputs": [],
   "source": [
    "d=[4, 5, 9, 7, 6]\n",
    "s1=pd.Series(d, index=['a', 'b', 'c', 'd', 'e'])"
   ]
  },
  {
   "cell_type": "code",
   "execution_count": 13,
   "id": "09bdbeb8",
   "metadata": {},
   "outputs": [
    {
     "name": "stdout",
     "output_type": "stream",
     "text": [
      "a    4\n",
      "b    5\n",
      "c    9\n",
      "d    7\n",
      "e    6\n",
      "dtype: int64\n"
     ]
    }
   ],
   "source": [
    "print(s1)"
   ]
  },
  {
   "cell_type": "code",
   "execution_count": 14,
   "id": "8c5a3192",
   "metadata": {},
   "outputs": [],
   "source": [
    "d={'a':4, 'b':5, 'c':9, 'd':7, 'e':6}\n",
    "s2=pd.Series(d)"
   ]
  },
  {
   "cell_type": "code",
   "execution_count": 15,
   "id": "8a783c25",
   "metadata": {},
   "outputs": [],
   "source": [
    "d=[4, 5, 9, 7, 6]\n",
    "s1=pd.Series(d)"
   ]
  },
  {
   "cell_type": "code",
   "execution_count": 16,
   "id": "b4742031",
   "metadata": {},
   "outputs": [
    {
     "name": "stdout",
     "output_type": "stream",
     "text": [
      "0    4\n",
      "1    5\n",
      "2    9\n",
      "3    7\n",
      "4    6\n",
      "dtype: int64\n"
     ]
    }
   ],
   "source": [
    "print(s1)"
   ]
  },
  {
   "cell_type": "code",
   "execution_count": 17,
   "id": "5742879b",
   "metadata": {},
   "outputs": [
    {
     "name": "stdout",
     "output_type": "stream",
     "text": [
      "4 9\n"
     ]
    }
   ],
   "source": [
    "print(s2['a'], s2['c'])"
   ]
  },
  {
   "cell_type": "code",
   "execution_count": 18,
   "id": "f7620320",
   "metadata": {},
   "outputs": [],
   "source": [
    "s2['c']=100"
   ]
  },
  {
   "cell_type": "code",
   "execution_count": 19,
   "id": "c3845282",
   "metadata": {},
   "outputs": [
    {
     "name": "stdout",
     "output_type": "stream",
     "text": [
      "a      4\n",
      "b      5\n",
      "c    100\n",
      "d      7\n",
      "e      6\n",
      "dtype: int64\n"
     ]
    }
   ],
   "source": [
    "print(s2)"
   ]
  },
  {
   "cell_type": "code",
   "execution_count": 20,
   "id": "851ef768",
   "metadata": {},
   "outputs": [
    {
     "data": {
      "text/plain": [
       "a      4\n",
       "c    100\n",
       "d      7\n",
       "dtype: int64"
      ]
     },
     "execution_count": 20,
     "metadata": {},
     "output_type": "execute_result"
    }
   ],
   "source": [
    "s2[['a', 'c', 'd']]"
   ]
  },
  {
   "cell_type": "code",
   "execution_count": 21,
   "id": "073db512",
   "metadata": {},
   "outputs": [
    {
     "data": {
      "text/plain": [
       "b      5\n",
       "c    100\n",
       "d      7\n",
       "dtype: int64"
      ]
     },
     "execution_count": 21,
     "metadata": {},
     "output_type": "execute_result"
    }
   ],
   "source": [
    "s2['b':'d']"
   ]
  },
  {
   "cell_type": "code",
   "execution_count": 22,
   "id": "7c078fa1",
   "metadata": {},
   "outputs": [
    {
     "data": {
      "text/plain": [
       "4"
      ]
     },
     "execution_count": 22,
     "metadata": {},
     "output_type": "execute_result"
    }
   ],
   "source": [
    "s2.loc['a']"
   ]
  },
  {
   "cell_type": "code",
   "execution_count": 23,
   "id": "54098cfe",
   "metadata": {},
   "outputs": [
    {
     "data": {
      "text/plain": [
       "4"
      ]
     },
     "execution_count": 23,
     "metadata": {},
     "output_type": "execute_result"
    }
   ],
   "source": [
    "s1.loc[0]"
   ]
  },
  {
   "cell_type": "code",
   "execution_count": 24,
   "id": "2b089316",
   "metadata": {},
   "outputs": [],
   "source": [
    "s2.loc['a']=10"
   ]
  },
  {
   "cell_type": "code",
   "execution_count": 25,
   "id": "e61f4b37",
   "metadata": {},
   "outputs": [
    {
     "data": {
      "text/plain": [
       "a     10\n",
       "b      5\n",
       "c    100\n",
       "d      7\n",
       "e      6\n",
       "dtype: int64"
      ]
     },
     "execution_count": 25,
     "metadata": {},
     "output_type": "execute_result"
    }
   ],
   "source": [
    "s2"
   ]
  },
  {
   "cell_type": "code",
   "execution_count": 26,
   "id": "1a5c07a7",
   "metadata": {},
   "outputs": [
    {
     "data": {
      "text/plain": [
       "10"
      ]
     },
     "execution_count": 26,
     "metadata": {},
     "output_type": "execute_result"
    }
   ],
   "source": [
    "s2.iloc[0]"
   ]
  },
  {
   "cell_type": "code",
   "execution_count": 27,
   "id": "a1f8628d",
   "metadata": {},
   "outputs": [
    {
     "data": {
      "text/plain": [
       "7"
      ]
     },
     "execution_count": 27,
     "metadata": {},
     "output_type": "execute_result"
    }
   ],
   "source": [
    "s2.iloc[3]"
   ]
  },
  {
   "cell_type": "code",
   "execution_count": 28,
   "id": "fc68487a",
   "metadata": {},
   "outputs": [
    {
     "data": {
      "text/plain": [
       "Index(['a', 'b', 'c', 'd', 'e'], dtype='object')"
      ]
     },
     "execution_count": 28,
     "metadata": {},
     "output_type": "execute_result"
    }
   ],
   "source": [
    "s2.index"
   ]
  },
  {
   "cell_type": "code",
   "execution_count": 29,
   "id": "adb1909c",
   "metadata": {},
   "outputs": [],
   "source": [
    "d={'a':4, 'b':5}\n",
    "s2=pd.Series(d)"
   ]
  },
  {
   "cell_type": "code",
   "execution_count": 30,
   "id": "6eccc5b9",
   "metadata": {},
   "outputs": [],
   "source": [
    "s2['z']=100"
   ]
  },
  {
   "cell_type": "code",
   "execution_count": 31,
   "id": "ee03041b",
   "metadata": {},
   "outputs": [
    {
     "data": {
      "text/plain": [
       "a      4\n",
       "b      5\n",
       "z    100\n",
       "dtype: int64"
      ]
     },
     "execution_count": 31,
     "metadata": {},
     "output_type": "execute_result"
    }
   ],
   "source": [
    "s2"
   ]
  },
  {
   "cell_type": "code",
   "execution_count": 32,
   "id": "9895005d",
   "metadata": {},
   "outputs": [
    {
     "data": {
      "text/plain": [
       "a      4\n",
       "b      5\n",
       "z    100\n",
       "dtype: int64"
      ]
     },
     "execution_count": 32,
     "metadata": {},
     "output_type": "execute_result"
    }
   ],
   "source": [
    "s2"
   ]
  },
  {
   "cell_type": "code",
   "execution_count": 33,
   "id": "c37e8040",
   "metadata": {},
   "outputs": [
    {
     "data": {
      "text/plain": [
       "a      4\n",
       "z    100\n",
       "dtype: int64"
      ]
     },
     "execution_count": 33,
     "metadata": {},
     "output_type": "execute_result"
    }
   ],
   "source": [
    "s2.drop('b')"
   ]
  },
  {
   "cell_type": "code",
   "execution_count": 34,
   "id": "c8a37517",
   "metadata": {},
   "outputs": [
    {
     "name": "stdout",
     "output_type": "stream",
     "text": [
      "a      4\n",
      "b      5\n",
      "z    100\n",
      "dtype: int64\n"
     ]
    }
   ],
   "source": [
    "print(s2)"
   ]
  },
  {
   "cell_type": "code",
   "execution_count": 35,
   "id": "3f12c4bc",
   "metadata": {},
   "outputs": [],
   "source": [
    "s3=s2.drop('b')"
   ]
  },
  {
   "cell_type": "code",
   "execution_count": 36,
   "id": "5d9e81bf",
   "metadata": {},
   "outputs": [
    {
     "name": "stdout",
     "output_type": "stream",
     "text": [
      "a      4\n",
      "z    100\n",
      "dtype: int64\n"
     ]
    }
   ],
   "source": [
    "print(s3)"
   ]
  },
  {
   "cell_type": "code",
   "execution_count": 37,
   "id": "f0c5430b",
   "metadata": {},
   "outputs": [
    {
     "data": {
      "text/plain": [
       "a      4\n",
       "b      5\n",
       "z    100\n",
       "dtype: int64"
      ]
     },
     "execution_count": 37,
     "metadata": {},
     "output_type": "execute_result"
    }
   ],
   "source": [
    "s2"
   ]
  },
  {
   "cell_type": "code",
   "execution_count": 38,
   "id": "1aee9d38",
   "metadata": {},
   "outputs": [],
   "source": [
    "s2.drop('b', inplace=True)"
   ]
  },
  {
   "cell_type": "code",
   "execution_count": 39,
   "id": "da02da96",
   "metadata": {},
   "outputs": [
    {
     "data": {
      "text/plain": [
       "a      4\n",
       "z    100\n",
       "dtype: int64"
      ]
     },
     "execution_count": 39,
     "metadata": {},
     "output_type": "execute_result"
    }
   ],
   "source": [
    "s2"
   ]
  },
  {
   "cell_type": "code",
   "execution_count": 40,
   "id": "c396683c",
   "metadata": {},
   "outputs": [],
   "source": [
    "score=pd.Series([90, 85, 93, 91, 80, 75, 100, 81, 74],\n",
    "               index=['a','b','c','d','e','f','g','h','i'])"
   ]
  },
  {
   "cell_type": "code",
   "execution_count": 41,
   "id": "daed2083",
   "metadata": {},
   "outputs": [
    {
     "data": {
      "text/plain": [
       "a     90\n",
       "b     85\n",
       "c     93\n",
       "d     91\n",
       "e     80\n",
       "f     75\n",
       "g    100\n",
       "h     81\n",
       "i     74\n",
       "dtype: int64"
      ]
     },
     "execution_count": 41,
     "metadata": {},
     "output_type": "execute_result"
    }
   ],
   "source": [
    "score"
   ]
  },
  {
   "cell_type": "code",
   "execution_count": 42,
   "id": "9f596107",
   "metadata": {},
   "outputs": [
    {
     "data": {
      "text/plain": [
       "9"
      ]
     },
     "execution_count": 42,
     "metadata": {},
     "output_type": "execute_result"
    }
   ],
   "source": [
    "score.size"
   ]
  },
  {
   "cell_type": "code",
   "execution_count": 43,
   "id": "1c61ae0e",
   "metadata": {},
   "outputs": [
    {
     "data": {
      "text/plain": [
       "769"
      ]
     },
     "execution_count": 43,
     "metadata": {},
     "output_type": "execute_result"
    }
   ],
   "source": [
    "score.sum()"
   ]
  },
  {
   "cell_type": "code",
   "execution_count": 44,
   "id": "1bcd5da5",
   "metadata": {},
   "outputs": [
    {
     "data": {
      "text/plain": [
       "85.44444444444444"
      ]
     },
     "execution_count": 44,
     "metadata": {},
     "output_type": "execute_result"
    }
   ],
   "source": [
    "score.mean()"
   ]
  },
  {
   "cell_type": "code",
   "execution_count": 45,
   "id": "985294c8",
   "metadata": {},
   "outputs": [],
   "source": [
    "s=score.sum()"
   ]
  },
  {
   "cell_type": "code",
   "execution_count": 46,
   "id": "f5e2ef00",
   "metadata": {},
   "outputs": [
    {
     "name": "stdout",
     "output_type": "stream",
     "text": [
      "769\n"
     ]
    }
   ],
   "source": [
    "print(s)"
   ]
  },
  {
   "cell_type": "code",
   "execution_count": 47,
   "id": "39d19dce",
   "metadata": {},
   "outputs": [
    {
     "name": "stdout",
     "output_type": "stream",
     "text": [
      "max: 100 min: 74\n"
     ]
    }
   ],
   "source": [
    "m1=score.max()\n",
    "m2=score.min()\n",
    "print('max:', m1, 'min:', m2)"
   ]
  },
  {
   "cell_type": "code",
   "execution_count": 48,
   "id": "7e25f73c",
   "metadata": {},
   "outputs": [
    {
     "name": "stdout",
     "output_type": "stream",
     "text": [
      "76.27777777777777 8.733715004382601\n"
     ]
    }
   ],
   "source": [
    "var=score.var()\n",
    "dev=score.std()\n",
    "print(var, dev)"
   ]
  },
  {
   "cell_type": "code",
   "execution_count": 49,
   "id": "cb68ecb7",
   "metadata": {},
   "outputs": [
    {
     "data": {
      "text/plain": [
       "Index(['a', 'b', 'c', 'd', 'e', 'f', 'g', 'h', 'i'], dtype='object')"
      ]
     },
     "execution_count": 49,
     "metadata": {},
     "output_type": "execute_result"
    }
   ],
   "source": [
    "score.index"
   ]
  },
  {
   "cell_type": "code",
   "execution_count": 50,
   "id": "7e1a807a",
   "metadata": {},
   "outputs": [
    {
     "data": {
      "text/plain": [
       "array([ 90,  85,  93,  91,  80,  75, 100,  81,  74], dtype=int64)"
      ]
     },
     "execution_count": 50,
     "metadata": {},
     "output_type": "execute_result"
    }
   ],
   "source": [
    "score.values"
   ]
  },
  {
   "cell_type": "code",
   "execution_count": 51,
   "id": "33bd8d0f",
   "metadata": {},
   "outputs": [
    {
     "data": {
      "text/plain": [
       "g    100\n",
       "c     93\n",
       "d     91\n",
       "a     90\n",
       "b     85\n",
       "h     81\n",
       "e     80\n",
       "f     75\n",
       "i     74\n",
       "dtype: int64"
      ]
     },
     "execution_count": 51,
     "metadata": {},
     "output_type": "execute_result"
    }
   ],
   "source": [
    "score.sort_values(ascending=False)"
   ]
  },
  {
   "cell_type": "code",
   "execution_count": 52,
   "id": "f605d683",
   "metadata": {},
   "outputs": [
    {
     "data": {
      "text/plain": [
       "0    100\n",
       "1     93\n",
       "2     91\n",
       "3     90\n",
       "4     85\n",
       "5     81\n",
       "6     80\n",
       "7     75\n",
       "8     74\n",
       "dtype: int64"
      ]
     },
     "execution_count": 52,
     "metadata": {},
     "output_type": "execute_result"
    }
   ],
   "source": [
    "score.sort_values(ascending=False, ignore_index=True)"
   ]
  },
  {
   "cell_type": "code",
   "execution_count": 53,
   "id": "18d2e924",
   "metadata": {},
   "outputs": [
    {
     "data": {
      "text/plain": [
       "a      NaN\n",
       "b      NaN\n",
       "c     93.0\n",
       "d     91.0\n",
       "e      NaN\n",
       "f      NaN\n",
       "g    100.0\n",
       "h      NaN\n",
       "i      NaN\n",
       "dtype: float64"
      ]
     },
     "execution_count": 53,
     "metadata": {},
     "output_type": "execute_result"
    }
   ],
   "source": [
    "score.where(score>90)"
   ]
  },
  {
   "cell_type": "code",
   "execution_count": 54,
   "id": "d9c7dc52",
   "metadata": {},
   "outputs": [
    {
     "data": {
      "text/plain": [
       "3"
      ]
     },
     "execution_count": 54,
     "metadata": {},
     "output_type": "execute_result"
    }
   ],
   "source": [
    "score.where(score>90).count()"
   ]
  },
  {
   "cell_type": "code",
   "execution_count": 55,
   "id": "49524c2c",
   "metadata": {},
   "outputs": [
    {
     "data": {
      "text/plain": [
       "a    Failed\n",
       "b    Failed\n",
       "c        93\n",
       "d        91\n",
       "e    Failed\n",
       "f    Failed\n",
       "g       100\n",
       "h    Failed\n",
       "i    Failed\n",
       "dtype: object"
      ]
     },
     "execution_count": 55,
     "metadata": {},
     "output_type": "execute_result"
    }
   ],
   "source": [
    "score.where(score>90, 'Failed')"
   ]
  },
  {
   "cell_type": "code",
   "execution_count": 56,
   "id": "8a583e70",
   "metadata": {},
   "outputs": [],
   "source": [
    "sc1=score.where(score>90).dropna()"
   ]
  },
  {
   "cell_type": "code",
   "execution_count": 57,
   "id": "1bf636d0",
   "metadata": {},
   "outputs": [
    {
     "data": {
      "text/plain": [
       "c     93.0\n",
       "d     91.0\n",
       "g    100.0\n",
       "dtype: float64"
      ]
     },
     "execution_count": 57,
     "metadata": {},
     "output_type": "execute_result"
    }
   ],
   "source": [
    "sc1"
   ]
  },
  {
   "cell_type": "code",
   "execution_count": 58,
   "id": "26c06556",
   "metadata": {},
   "outputs": [],
   "source": [
    "sc1=score.where(score>90)"
   ]
  },
  {
   "cell_type": "code",
   "execution_count": 59,
   "id": "30ecf4d5",
   "metadata": {},
   "outputs": [],
   "source": [
    "sc2=sc1.dropna()"
   ]
  },
  {
   "cell_type": "code",
   "execution_count": 60,
   "id": "1752b1b8",
   "metadata": {},
   "outputs": [
    {
     "data": {
      "text/plain": [
       "c     93.0\n",
       "d     91.0\n",
       "g    100.0\n",
       "dtype: float64"
      ]
     },
     "execution_count": 60,
     "metadata": {},
     "output_type": "execute_result"
    }
   ],
   "source": [
    "sc2"
   ]
  },
  {
   "cell_type": "code",
   "execution_count": 61,
   "id": "b9b89e38",
   "metadata": {},
   "outputs": [
    {
     "data": {
      "text/plain": [
       "a    Failed\n",
       "b    Failed\n",
       "c        93\n",
       "d        91\n",
       "e    Failed\n",
       "f    Failed\n",
       "g       100\n",
       "h    Failed\n",
       "i    Failed\n",
       "dtype: object"
      ]
     },
     "execution_count": 61,
     "metadata": {},
     "output_type": "execute_result"
    }
   ],
   "source": [
    "score.mask(score<=90, other='Failed')"
   ]
  },
  {
   "cell_type": "code",
   "execution_count": 62,
   "id": "59ae9a1f",
   "metadata": {},
   "outputs": [
    {
     "data": {
      "text/plain": [
       "a     True\n",
       "b     True\n",
       "c    False\n",
       "d    False\n",
       "e     True\n",
       "f     True\n",
       "g    False\n",
       "h     True\n",
       "i     True\n",
       "dtype: bool"
      ]
     },
     "execution_count": 62,
     "metadata": {},
     "output_type": "execute_result"
    }
   ],
   "source": [
    "score<=90"
   ]
  },
  {
   "cell_type": "code",
   "execution_count": 63,
   "id": "190187c5",
   "metadata": {},
   "outputs": [
    {
     "data": {
      "text/plain": [
       "a    100\n",
       "b     95\n",
       "c    103\n",
       "d    101\n",
       "e     90\n",
       "f     85\n",
       "g    110\n",
       "h     91\n",
       "i     84\n",
       "dtype: int64"
      ]
     },
     "execution_count": 63,
     "metadata": {},
     "output_type": "execute_result"
    }
   ],
   "source": [
    "score+10"
   ]
  },
  {
   "cell_type": "code",
   "execution_count": 64,
   "id": "4633feaf",
   "metadata": {},
   "outputs": [],
   "source": [
    "score=pd.Series([10, 20, 30], index=['a','b','c'])"
   ]
  },
  {
   "cell_type": "code",
   "execution_count": 65,
   "id": "f711c74a",
   "metadata": {},
   "outputs": [],
   "source": [
    "def f(x):\n",
    "    print(x)"
   ]
  },
  {
   "cell_type": "code",
   "execution_count": 66,
   "id": "978d55f4",
   "metadata": {},
   "outputs": [
    {
     "name": "stdout",
     "output_type": "stream",
     "text": [
      "10\n",
      "20\n",
      "30\n"
     ]
    },
    {
     "data": {
      "text/plain": [
       "a    None\n",
       "b    None\n",
       "c    None\n",
       "dtype: object"
      ]
     },
     "execution_count": 66,
     "metadata": {},
     "output_type": "execute_result"
    }
   ],
   "source": [
    "score.apply(f)"
   ]
  },
  {
   "cell_type": "code",
   "execution_count": 67,
   "id": "db98a574",
   "metadata": {},
   "outputs": [],
   "source": [
    "def f(x):\n",
    "    return x*2"
   ]
  },
  {
   "cell_type": "code",
   "execution_count": 68,
   "id": "4d221951",
   "metadata": {},
   "outputs": [
    {
     "data": {
      "text/plain": [
       "a    20\n",
       "b    40\n",
       "c    60\n",
       "dtype: int64"
      ]
     },
     "execution_count": 68,
     "metadata": {},
     "output_type": "execute_result"
    }
   ],
   "source": [
    "score.apply(f)"
   ]
  },
  {
   "cell_type": "code",
   "execution_count": 69,
   "id": "5c3b473b",
   "metadata": {},
   "outputs": [],
   "source": [
    "def f(x, a):\n",
    "    print(x, a)"
   ]
  },
  {
   "cell_type": "code",
   "execution_count": 70,
   "id": "a19d9ffb",
   "metadata": {},
   "outputs": [
    {
     "name": "stdout",
     "output_type": "stream",
     "text": [
      "10 3\n",
      "20 3\n",
      "30 3\n"
     ]
    },
    {
     "data": {
      "text/plain": [
       "a    None\n",
       "b    None\n",
       "c    None\n",
       "dtype: object"
      ]
     },
     "execution_count": 70,
     "metadata": {},
     "output_type": "execute_result"
    }
   ],
   "source": [
    "score.apply(f, args=(3,))"
   ]
  },
  {
   "cell_type": "code",
   "execution_count": 71,
   "id": "eae33fcc",
   "metadata": {},
   "outputs": [],
   "source": [
    "def f(x, a, b):\n",
    "    return x*a+b"
   ]
  },
  {
   "cell_type": "code",
   "execution_count": 72,
   "id": "65647940",
   "metadata": {},
   "outputs": [
    {
     "data": {
      "text/plain": [
       "a     80\n",
       "b    110\n",
       "c    140\n",
       "dtype: int64"
      ]
     },
     "execution_count": 72,
     "metadata": {},
     "output_type": "execute_result"
    }
   ],
   "source": [
    "score.apply(f, args=(3, 50))"
   ]
  },
  {
   "cell_type": "code",
   "execution_count": 73,
   "id": "609d1b06",
   "metadata": {},
   "outputs": [],
   "source": [
    "a=[1, 5, 2, 4, 3]"
   ]
  },
  {
   "cell_type": "code",
   "execution_count": 74,
   "id": "905354a5",
   "metadata": {},
   "outputs": [],
   "source": [
    "def f(x):\n",
    "    return x+5"
   ]
  },
  {
   "cell_type": "code",
   "execution_count": 75,
   "id": "2981567b",
   "metadata": {},
   "outputs": [
    {
     "data": {
      "text/plain": [
       "<map at 0x1ab15440700>"
      ]
     },
     "execution_count": 75,
     "metadata": {},
     "output_type": "execute_result"
    }
   ],
   "source": [
    "map(f, a)"
   ]
  },
  {
   "cell_type": "code",
   "execution_count": 76,
   "id": "3c346c77",
   "metadata": {},
   "outputs": [],
   "source": [
    "b=list(map(f, a))"
   ]
  },
  {
   "cell_type": "code",
   "execution_count": 77,
   "id": "ff71a263",
   "metadata": {},
   "outputs": [
    {
     "name": "stdout",
     "output_type": "stream",
     "text": [
      "[6, 10, 7, 9, 8]\n"
     ]
    }
   ],
   "source": [
    "print(b)"
   ]
  },
  {
   "cell_type": "code",
   "execution_count": 78,
   "id": "c6bcca7b",
   "metadata": {},
   "outputs": [],
   "source": [
    "s=pd.Series([4, 3, 6, 8, 7])"
   ]
  },
  {
   "cell_type": "code",
   "execution_count": 79,
   "id": "b6aeeb00",
   "metadata": {},
   "outputs": [
    {
     "data": {
      "text/plain": [
       "5.6"
      ]
     },
     "execution_count": 79,
     "metadata": {},
     "output_type": "execute_result"
    }
   ],
   "source": [
    "s.mean()"
   ]
  },
  {
   "cell_type": "code",
   "execution_count": 80,
   "id": "572316b4",
   "metadata": {},
   "outputs": [
    {
     "data": {
      "text/plain": [
       "5.6"
      ]
     },
     "execution_count": 80,
     "metadata": {},
     "output_type": "execute_result"
    }
   ],
   "source": [
    "s.aggregate('mean')"
   ]
  },
  {
   "cell_type": "code",
   "execution_count": 81,
   "id": "5bd07d71",
   "metadata": {},
   "outputs": [
    {
     "data": {
      "text/plain": [
       "sum     28.0\n",
       "mean     5.6\n",
       "min      3.0\n",
       "max      8.0\n",
       "dtype: float64"
      ]
     },
     "execution_count": 81,
     "metadata": {},
     "output_type": "execute_result"
    }
   ],
   "source": [
    "s.aggregate(['sum', 'mean', 'min', 'max'])"
   ]
  },
  {
   "cell_type": "code",
   "execution_count": 82,
   "id": "f398dc21",
   "metadata": {},
   "outputs": [],
   "source": [
    "a=pd.Series([3, 4, 2, 5])\n",
    "b=pd.Series([10, 20, 15, 18, 32])"
   ]
  },
  {
   "cell_type": "code",
   "execution_count": 83,
   "id": "f7cc59e8",
   "metadata": {},
   "outputs": [],
   "source": [
    "c=a+b"
   ]
  },
  {
   "cell_type": "code",
   "execution_count": 84,
   "id": "acb3463c",
   "metadata": {},
   "outputs": [
    {
     "data": {
      "text/plain": [
       "0    13.0\n",
       "1    24.0\n",
       "2    17.0\n",
       "3    23.0\n",
       "4     NaN\n",
       "dtype: float64"
      ]
     },
     "execution_count": 84,
     "metadata": {},
     "output_type": "execute_result"
    }
   ],
   "source": [
    "c"
   ]
  },
  {
   "cell_type": "code",
   "execution_count": 85,
   "id": "216afd2a",
   "metadata": {},
   "outputs": [],
   "source": [
    "c=a.add(b, fill_value=0)"
   ]
  },
  {
   "cell_type": "code",
   "execution_count": 86,
   "id": "5ad9b081",
   "metadata": {},
   "outputs": [
    {
     "data": {
      "text/plain": [
       "0    13.0\n",
       "1    24.0\n",
       "2    17.0\n",
       "3    23.0\n",
       "4    32.0\n",
       "dtype: float64"
      ]
     },
     "execution_count": 86,
     "metadata": {},
     "output_type": "execute_result"
    }
   ],
   "source": [
    "c"
   ]
  },
  {
   "cell_type": "code",
   "execution_count": null,
   "id": "4ba54132",
   "metadata": {},
   "outputs": [],
   "source": []
  }
 ],
 "metadata": {
  "kernelspec": {
   "display_name": "Python 3 (ipykernel)",
   "language": "python",
   "name": "python3"
  },
  "language_info": {
   "codemirror_mode": {
    "name": "ipython",
    "version": 3
   },
   "file_extension": ".py",
   "mimetype": "text/x-python",
   "name": "python",
   "nbconvert_exporter": "python",
   "pygments_lexer": "ipython3",
   "version": "3.9.7"
  }
 },
 "nbformat": 4,
 "nbformat_minor": 5
}
