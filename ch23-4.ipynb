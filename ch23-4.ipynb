{
 "cells": [
  {
   "cell_type": "code",
   "execution_count": 1,
   "id": "e5bcf66a",
   "metadata": {},
   "outputs": [
    {
     "data": {
      "text/plain": [
       "'C:\\\\pydev\\\\Scripts'"
      ]
     },
     "execution_count": 1,
     "metadata": {},
     "output_type": "execute_result"
    }
   ],
   "source": [
    "%pwd"
   ]
  },
  {
   "cell_type": "code",
   "execution_count": 2,
   "id": "1bb86693",
   "metadata": {},
   "outputs": [
    {
     "name": "stdout",
     "output_type": "stream",
     "text": [
      "C:\\pydev\\Scripts\\mypackage\n"
     ]
    }
   ],
   "source": [
    "%cd mypackage"
   ]
  },
  {
   "cell_type": "code",
   "execution_count": 3,
   "id": "ddbede3e",
   "metadata": {},
   "outputs": [],
   "source": [
    "import a"
   ]
  },
  {
   "cell_type": "code",
   "execution_count": 4,
   "id": "bbd0b3fd",
   "metadata": {},
   "outputs": [],
   "source": [
    "a?"
   ]
  },
  {
   "cell_type": "code",
   "execution_count": null,
   "id": "8d88741c",
   "metadata": {},
   "outputs": [],
   "source": [
    "Type:        module\n",
    "String form: <module 'a' from 'C:\\\\pydev\\\\Scripts\\\\mypackage\\\\a.py'>\n",
    "File:        c:\\pydev\\scripts\\mypackage\\a.py\n",
    "Docstring:   a.py의 docstring 입니다"
   ]
  },
  {
   "cell_type": "code",
   "execution_count": null,
   "id": "d168307d",
   "metadata": {},
   "outputs": [],
   "source": []
  }
 ],
 "metadata": {
  "kernelspec": {
   "display_name": "Python 3 (ipykernel)",
   "language": "python",
   "name": "python3"
  },
  "language_info": {
   "codemirror_mode": {
    "name": "ipython",
    "version": 3
   },
   "file_extension": ".py",
   "mimetype": "text/x-python",
   "name": "python",
   "nbconvert_exporter": "python",
   "pygments_lexer": "ipython3",
   "version": "3.9.7"
  }
 },
 "nbformat": 4,
 "nbformat_minor": 5
}
