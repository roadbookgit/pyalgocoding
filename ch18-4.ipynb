{
 "cells": [
  {
   "cell_type": "code",
   "execution_count": 1,
   "id": "887126b6",
   "metadata": {},
   "outputs": [],
   "source": [
    "import hello as h"
   ]
  },
  {
   "cell_type": "code",
   "execution_count": 2,
   "id": "6b5fc3eb",
   "metadata": {},
   "outputs": [
    {
     "name": "stdout",
     "output_type": "stream",
     "text": [
      "Hi\n"
     ]
    }
   ],
   "source": [
    "h.hi()"
   ]
  },
  {
   "cell_type": "code",
   "execution_count": 3,
   "id": "bcac37fa",
   "metadata": {},
   "outputs": [],
   "source": [
    "from hello import hi"
   ]
  },
  {
   "cell_type": "code",
   "execution_count": 4,
   "id": "68def832",
   "metadata": {},
   "outputs": [
    {
     "name": "stdout",
     "output_type": "stream",
     "text": [
      "['In', 'Out', '_', '__', '___', '__builtin__', '__builtins__', '__doc__', '__loader__', '__name__', '__package__', '__spec__', '_dh', '_i', '_i1', '_i2', '_i3', '_i4', '_ih', '_ii', '_iii', '_oh', 'exit', 'get_ipython', 'h', 'hi', 'quit']\n"
     ]
    }
   ],
   "source": [
    "print(dir())"
   ]
  },
  {
   "cell_type": "code",
   "execution_count": 5,
   "id": "80b6d0ed",
   "metadata": {},
   "outputs": [
    {
     "name": "stdout",
     "output_type": "stream",
     "text": [
      "Hi\n"
     ]
    }
   ],
   "source": [
    "hi()"
   ]
  },
  {
   "cell_type": "code",
   "execution_count": 6,
   "id": "1142c0ad",
   "metadata": {},
   "outputs": [],
   "source": [
    "from hello import hello, hi"
   ]
  },
  {
   "cell_type": "code",
   "execution_count": 7,
   "id": "23f74ec8",
   "metadata": {},
   "outputs": [],
   "source": [
    "import math as m"
   ]
  },
  {
   "cell_type": "code",
   "execution_count": 8,
   "id": "c328a4a6",
   "metadata": {},
   "outputs": [
    {
     "name": "stdout",
     "output_type": "stream",
     "text": [
      "['__doc__', '__loader__', '__name__', '__package__', '__spec__', 'acos', 'acosh', 'asin', 'asinh', 'atan', 'atan2', 'atanh', 'ceil', 'comb', 'copysign', 'cos', 'cosh', 'degrees', 'dist', 'e', 'erf', 'erfc', 'exp', 'expm1', 'fabs', 'factorial', 'floor', 'fmod', 'frexp', 'fsum', 'gamma', 'gcd', 'hypot', 'inf', 'isclose', 'isfinite', 'isinf', 'isnan', 'isqrt', 'lcm', 'ldexp', 'lgamma', 'log', 'log10', 'log1p', 'log2', 'modf', 'nan', 'nextafter', 'perm', 'pi', 'pow', 'prod', 'radians', 'remainder', 'sin', 'sinh', 'sqrt', 'tan', 'tanh', 'tau', 'trunc', 'ulp']\n"
     ]
    }
   ],
   "source": [
    "print(dir(m))"
   ]
  },
  {
   "cell_type": "code",
   "execution_count": 9,
   "id": "e64b8dd2",
   "metadata": {},
   "outputs": [],
   "source": [
    "m.ceil?"
   ]
  },
  {
   "cell_type": "code",
   "execution_count": 10,
   "id": "1e0306d0",
   "metadata": {},
   "outputs": [
    {
     "data": {
      "text/plain": [
       "4"
      ]
     },
     "execution_count": 10,
     "metadata": {},
     "output_type": "execute_result"
    }
   ],
   "source": [
    "m.ceil(3.8)"
   ]
  },
  {
   "cell_type": "code",
   "execution_count": 11,
   "id": "f940074e",
   "metadata": {},
   "outputs": [
    {
     "name": "stdout",
     "output_type": "stream",
     "text": [
      "pi= 3.141592653589793 e= 2.718281828459045\n"
     ]
    }
   ],
   "source": [
    "print('pi=', m.pi, 'e=', m.e)"
   ]
  },
  {
   "cell_type": "code",
   "execution_count": 12,
   "id": "99d7b3f9",
   "metadata": {},
   "outputs": [
    {
     "name": "stdout",
     "output_type": "stream",
     "text": [
      "Requirement already satisfied: matplotlib in c:\\pydev\\lib\\site-packages (3.4.3)\n",
      "Requirement already satisfied: kiwisolver>=1.0.1 in c:\\pydev\\lib\\site-packages (from matplotlib) (1.3.2)\n",
      "Requirement already satisfied: pillow>=6.2.0 in c:\\pydev\\lib\\site-packages (from matplotlib) (8.4.0)\n",
      "Requirement already satisfied: numpy>=1.16 in c:\\pydev\\lib\\site-packages (from matplotlib) (1.21.3)\n",
      "Requirement already satisfied: cycler>=0.10 in c:\\pydev\\lib\\site-packages (from matplotlib) (0.10.0)\n",
      "Requirement already satisfied: python-dateutil>=2.7 in c:\\pydev\\lib\\site-packages (from matplotlib) (2.8.2)\n",
      "Requirement already satisfied: pyparsing>=2.2.1 in c:\\pydev\\lib\\site-packages (from matplotlib) (2.4.7)\n",
      "Requirement already satisfied: six in c:\\pydev\\lib\\site-packages (from cycler>=0.10->matplotlib) (1.16.0)\n"
     ]
    },
    {
     "name": "stderr",
     "output_type": "stream",
     "text": [
      "WARNING: You are using pip version 21.2.3; however, version 22.2.2 is available.\n",
      "You should consider upgrading via the 'c:\\pydev\\Scripts\\python.exe -m pip install --upgrade pip' command.\n"
     ]
    }
   ],
   "source": [
    "!pip install matplotlib"
   ]
  },
  {
   "cell_type": "code",
   "execution_count": 13,
   "id": "7ed99d08",
   "metadata": {},
   "outputs": [
    {
     "name": "stdout",
     "output_type": "stream",
     "text": [
      "Overwriting my.py\n"
     ]
    }
   ],
   "source": [
    "%%writefile my.py\n",
    "\n",
    "print('Hello')\n",
    "print('Hi')\n",
    "print('Good day')"
   ]
  },
  {
   "cell_type": "code",
   "execution_count": 14,
   "id": "a34d4c3e",
   "metadata": {},
   "outputs": [
    {
     "name": "stdout",
     "output_type": "stream",
     "text": [
      "Hello\n",
      "Hi\n",
      "Good day\n"
     ]
    }
   ],
   "source": [
    "%run my.py"
   ]
  },
  {
   "cell_type": "code",
   "execution_count": 15,
   "id": "8bcd92b2",
   "metadata": {},
   "outputs": [
    {
     "name": "stdout",
     "output_type": "stream",
     "text": [
      "Hello\n",
      "Hi\n",
      "Good day\n"
     ]
    }
   ],
   "source": [
    "import my"
   ]
  },
  {
   "cell_type": "code",
   "execution_count": null,
   "id": "81ec7f63",
   "metadata": {},
   "outputs": [],
   "source": []
  }
 ],
 "metadata": {
  "kernelspec": {
   "display_name": "Python 3 (ipykernel)",
   "language": "python",
   "name": "python3"
  },
  "language_info": {
   "codemirror_mode": {
    "name": "ipython",
    "version": 3
   },
   "file_extension": ".py",
   "mimetype": "text/x-python",
   "name": "python",
   "nbconvert_exporter": "python",
   "pygments_lexer": "ipython3",
   "version": "3.9.7"
  }
 },
 "nbformat": 4,
 "nbformat_minor": 5
}
