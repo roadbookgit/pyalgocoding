{
 "cells": [
  {
   "cell_type": "markdown",
   "id": "7a4318de",
   "metadata": {},
   "source": [
    "# 소스코드 - 14장. 알고리즘 연습 PART 4"
   ]
  },
  {
   "cell_type": "code",
   "execution_count": 1,
   "id": "cd64c1ff",
   "metadata": {},
   "outputs": [],
   "source": [
    "# 1 페이지"
   ]
  },
  {
   "cell_type": "code",
   "execution_count": 2,
   "id": "027ef272",
   "metadata": {},
   "outputs": [],
   "source": [
    "a=[5, 3, 6, 8, 9, 1, 2, 7, 4]"
   ]
  },
  {
   "cell_type": "code",
   "execution_count": 3,
   "id": "a9871842",
   "metadata": {},
   "outputs": [
    {
     "data": {
      "text/plain": [
       "9"
      ]
     },
     "execution_count": 3,
     "metadata": {},
     "output_type": "execute_result"
    }
   ],
   "source": [
    "max(a)"
   ]
  },
  {
   "cell_type": "code",
   "execution_count": 4,
   "id": "c5240415",
   "metadata": {},
   "outputs": [
    {
     "name": "stdout",
     "output_type": "stream",
     "text": [
      "9\n"
     ]
    }
   ],
   "source": [
    "m=max(a)\n",
    "print(m)"
   ]
  },
  {
   "cell_type": "code",
   "execution_count": 5,
   "id": "9484b90f",
   "metadata": {},
   "outputs": [],
   "source": [
    "# 2 페이지"
   ]
  },
  {
   "cell_type": "code",
   "execution_count": 6,
   "id": "5e06e167",
   "metadata": {},
   "outputs": [
    {
     "data": {
      "text/plain": [
       "4"
      ]
     },
     "execution_count": 6,
     "metadata": {},
     "output_type": "execute_result"
    }
   ],
   "source": [
    "list.index(a, m)"
   ]
  },
  {
   "cell_type": "code",
   "execution_count": 8,
   "id": "c8b1d8fe",
   "metadata": {},
   "outputs": [
    {
     "name": "stdout",
     "output_type": "stream",
     "text": [
      "4\n"
     ]
    }
   ],
   "source": [
    "pos=list.index(a, m)\n",
    "print(pos)"
   ]
  },
  {
   "cell_type": "code",
   "execution_count": 9,
   "id": "a6be9b7f",
   "metadata": {},
   "outputs": [],
   "source": [
    "# "
   ]
  },
  {
   "cell_type": "code",
   "execution_count": 10,
   "id": "32b7cb63",
   "metadata": {},
   "outputs": [],
   "source": [
    "n=min(a)"
   ]
  },
  {
   "cell_type": "code",
   "execution_count": 11,
   "id": "82577e3a",
   "metadata": {},
   "outputs": [],
   "source": [
    "a[pos]=n"
   ]
  },
  {
   "cell_type": "code",
   "execution_count": 12,
   "id": "e9b6267a",
   "metadata": {},
   "outputs": [
    {
     "name": "stdout",
     "output_type": "stream",
     "text": [
      "[5, 3, 6, 8, 1, 1, 2, 7, 4]\n"
     ]
    }
   ],
   "source": [
    "print(a)"
   ]
  },
  {
   "cell_type": "code",
   "execution_count": 13,
   "id": "1042bfd3",
   "metadata": {},
   "outputs": [],
   "source": [
    "#"
   ]
  },
  {
   "cell_type": "code",
   "execution_count": 14,
   "id": "fdd41d98",
   "metadata": {},
   "outputs": [],
   "source": [
    "m2=max(a)"
   ]
  },
  {
   "cell_type": "code",
   "execution_count": 15,
   "id": "32af6d21",
   "metadata": {},
   "outputs": [
    {
     "name": "stdout",
     "output_type": "stream",
     "text": [
      "8\n"
     ]
    }
   ],
   "source": [
    "print(m2)"
   ]
  },
  {
   "cell_type": "code",
   "execution_count": 16,
   "id": "cd82ddfd",
   "metadata": {},
   "outputs": [],
   "source": [
    "# 3 페이지"
   ]
  },
  {
   "cell_type": "code",
   "execution_count": 17,
   "id": "3e18037d",
   "metadata": {},
   "outputs": [],
   "source": [
    "a=[5, 3, 6, 8, 9, 1, 2, 7, 4]"
   ]
  },
  {
   "cell_type": "code",
   "execution_count": 19,
   "id": "194b7907",
   "metadata": {},
   "outputs": [
    {
     "name": "stdout",
     "output_type": "stream",
     "text": [
      "9 8\n"
     ]
    }
   ],
   "source": [
    "m=a[0]\n",
    "pos=0\n",
    "for k in range(1, len(a)):\n",
    "    if a[k]>m:\n",
    "        m=a[k]\n",
    "        pos=k\n",
    "\n",
    "a[pos]=-999 # sufficiently small number\n",
    "\n",
    "m2=a[0]\n",
    "for k in range(1, len(a)):\n",
    "    if a[k]>m2:\n",
    "        m2=a[k]\n",
    "        \n",
    "print(m, m2)"
   ]
  },
  {
   "cell_type": "code",
   "execution_count": 20,
   "id": "9a844682",
   "metadata": {},
   "outputs": [],
   "source": [
    "# 4 페이지  "
   ]
  },
  {
   "cell_type": "code",
   "execution_count": 2,
   "id": "01949273",
   "metadata": {},
   "outputs": [],
   "source": [
    "a=10"
   ]
  },
  {
   "cell_type": "code",
   "execution_count": 3,
   "id": "517a3f4e",
   "metadata": {},
   "outputs": [
    {
     "data": {
      "text/plain": [
       "2466830838352"
      ]
     },
     "execution_count": 3,
     "metadata": {},
     "output_type": "execute_result"
    }
   ],
   "source": [
    "id(a)"
   ]
  },
  {
   "cell_type": "code",
   "execution_count": 4,
   "id": "b910f8b7",
   "metadata": {},
   "outputs": [],
   "source": [
    "b=a"
   ]
  },
  {
   "cell_type": "code",
   "execution_count": 5,
   "id": "9671967b",
   "metadata": {},
   "outputs": [
    {
     "data": {
      "text/plain": [
       "2466830838352"
      ]
     },
     "execution_count": 5,
     "metadata": {},
     "output_type": "execute_result"
    }
   ],
   "source": [
    "id(b)"
   ]
  },
  {
   "cell_type": "code",
   "execution_count": 6,
   "id": "6fc10e89",
   "metadata": {},
   "outputs": [],
   "source": [
    "# 5 페이지"
   ]
  },
  {
   "cell_type": "code",
   "execution_count": 7,
   "id": "5e20c2ff",
   "metadata": {},
   "outputs": [],
   "source": [
    "a=[1, 2, 3, 4]"
   ]
  },
  {
   "cell_type": "code",
   "execution_count": 8,
   "id": "17831920",
   "metadata": {},
   "outputs": [],
   "source": [
    "b=a"
   ]
  },
  {
   "cell_type": "code",
   "execution_count": 9,
   "id": "c87ecd43",
   "metadata": {},
   "outputs": [
    {
     "name": "stdout",
     "output_type": "stream",
     "text": [
      "2466910006400 2466910006400\n"
     ]
    }
   ],
   "source": [
    "print(id(a), id(b))"
   ]
  },
  {
   "cell_type": "code",
   "execution_count": 10,
   "id": "58207df1",
   "metadata": {},
   "outputs": [],
   "source": [
    "b[0]=100"
   ]
  },
  {
   "cell_type": "code",
   "execution_count": 11,
   "id": "e8747b2e",
   "metadata": {},
   "outputs": [
    {
     "name": "stdout",
     "output_type": "stream",
     "text": [
      "[100, 2, 3, 4]\n"
     ]
    }
   ],
   "source": [
    "print(a)"
   ]
  },
  {
   "cell_type": "code",
   "execution_count": 12,
   "id": "b6dc014e",
   "metadata": {},
   "outputs": [
    {
     "name": "stdout",
     "output_type": "stream",
     "text": [
      "[100, 2, 3, 4]\n"
     ]
    }
   ],
   "source": [
    "print(b)"
   ]
  },
  {
   "cell_type": "code",
   "execution_count": 13,
   "id": "59124948",
   "metadata": {},
   "outputs": [],
   "source": [
    "# 6 페이지"
   ]
  },
  {
   "cell_type": "code",
   "execution_count": 14,
   "id": "e3cacce7",
   "metadata": {},
   "outputs": [],
   "source": [
    "a=[1, 2, 3, 4]\n",
    "b=[]\n",
    "for x in a:\n",
    "    b.append(x)"
   ]
  },
  {
   "cell_type": "code",
   "execution_count": 15,
   "id": "d7b773f1",
   "metadata": {},
   "outputs": [],
   "source": [
    "b[0]=100"
   ]
  },
  {
   "cell_type": "code",
   "execution_count": 16,
   "id": "40ec21c7",
   "metadata": {},
   "outputs": [
    {
     "name": "stdout",
     "output_type": "stream",
     "text": [
      "[1, 2, 3, 4]\n"
     ]
    }
   ],
   "source": [
    "print(a)"
   ]
  },
  {
   "cell_type": "code",
   "execution_count": 17,
   "id": "df05ede8",
   "metadata": {},
   "outputs": [
    {
     "name": "stdout",
     "output_type": "stream",
     "text": [
      "[100, 2, 3, 4]\n"
     ]
    }
   ],
   "source": [
    "print(b)"
   ]
  },
  {
   "cell_type": "code",
   "execution_count": 18,
   "id": "c6592f85",
   "metadata": {},
   "outputs": [],
   "source": [
    "# 7 페이지"
   ]
  },
  {
   "cell_type": "code",
   "execution_count": 19,
   "id": "9c723451",
   "metadata": {},
   "outputs": [],
   "source": [
    "a=[1, 2, 3, 4]"
   ]
  },
  {
   "cell_type": "code",
   "execution_count": 20,
   "id": "641d5dc6",
   "metadata": {},
   "outputs": [],
   "source": [
    "b=list.copy(a)"
   ]
  },
  {
   "cell_type": "code",
   "execution_count": 21,
   "id": "24a69afa",
   "metadata": {},
   "outputs": [
    {
     "name": "stdout",
     "output_type": "stream",
     "text": [
      "[1, 2, 3, 4]\n"
     ]
    }
   ],
   "source": [
    "print(b)"
   ]
  },
  {
   "cell_type": "code",
   "execution_count": 22,
   "id": "5f9c36fc",
   "metadata": {},
   "outputs": [],
   "source": [
    "#"
   ]
  },
  {
   "cell_type": "code",
   "execution_count": 23,
   "id": "e618b098",
   "metadata": {},
   "outputs": [],
   "source": [
    "import copy"
   ]
  },
  {
   "cell_type": "code",
   "execution_count": 24,
   "id": "5aeadb08",
   "metadata": {},
   "outputs": [],
   "source": [
    "a=[1, 2, 3, [4, 5, 6]]"
   ]
  },
  {
   "cell_type": "code",
   "execution_count": 25,
   "id": "e0194165",
   "metadata": {},
   "outputs": [],
   "source": [
    "b=copy.deepcopy(a)"
   ]
  },
  {
   "cell_type": "code",
   "execution_count": 26,
   "id": "b7fb0501",
   "metadata": {},
   "outputs": [
    {
     "name": "stdout",
     "output_type": "stream",
     "text": [
      "[1, 2, 3, [4, 5, 6]]\n"
     ]
    }
   ],
   "source": [
    "print(b)"
   ]
  },
  {
   "cell_type": "code",
   "execution_count": 27,
   "id": "7766aaeb",
   "metadata": {},
   "outputs": [],
   "source": [
    "b[3][0]=100"
   ]
  },
  {
   "cell_type": "code",
   "execution_count": 28,
   "id": "178e68d1",
   "metadata": {},
   "outputs": [
    {
     "name": "stdout",
     "output_type": "stream",
     "text": [
      "[1, 2, 3, [100, 5, 6]]\n"
     ]
    }
   ],
   "source": [
    "print(b)"
   ]
  },
  {
   "cell_type": "code",
   "execution_count": 29,
   "id": "a0cc876f",
   "metadata": {},
   "outputs": [
    {
     "name": "stdout",
     "output_type": "stream",
     "text": [
      "[1, 2, 3, [4, 5, 6]]\n"
     ]
    }
   ],
   "source": [
    "print(a)"
   ]
  },
  {
   "cell_type": "code",
   "execution_count": 30,
   "id": "d489f636",
   "metadata": {},
   "outputs": [],
   "source": [
    "# 8 페이지"
   ]
  },
  {
   "cell_type": "code",
   "execution_count": 31,
   "id": "24b8ef41",
   "metadata": {},
   "outputs": [],
   "source": [
    "a=[6, 3, 2, 1, 7, 8, 4, 5, 9]"
   ]
  },
  {
   "cell_type": "code",
   "execution_count": 32,
   "id": "c392ff11",
   "metadata": {},
   "outputs": [],
   "source": [
    "b=sorted(a)"
   ]
  },
  {
   "cell_type": "code",
   "execution_count": 33,
   "id": "138d5838",
   "metadata": {},
   "outputs": [
    {
     "name": "stdout",
     "output_type": "stream",
     "text": [
      "[1, 2, 3, 4, 5, 6, 7, 8, 9]\n"
     ]
    }
   ],
   "source": [
    "print(b)"
   ]
  },
  {
   "cell_type": "code",
   "execution_count": 34,
   "id": "837bd8a2",
   "metadata": {},
   "outputs": [],
   "source": [
    "#"
   ]
  },
  {
   "cell_type": "code",
   "execution_count": 35,
   "id": "d8385bd5",
   "metadata": {},
   "outputs": [],
   "source": [
    "a=[6, 3, 2, 1, 7, 8, 4, 5, 9]"
   ]
  },
  {
   "cell_type": "code",
   "execution_count": 36,
   "id": "2429295d",
   "metadata": {},
   "outputs": [],
   "source": [
    "list.sort(a)"
   ]
  },
  {
   "cell_type": "code",
   "execution_count": 37,
   "id": "a4b9602e",
   "metadata": {},
   "outputs": [
    {
     "name": "stdout",
     "output_type": "stream",
     "text": [
      "[1, 2, 3, 4, 5, 6, 7, 8, 9]\n"
     ]
    }
   ],
   "source": [
    "print(a)"
   ]
  },
  {
   "cell_type": "code",
   "execution_count": 38,
   "id": "68f51d2f",
   "metadata": {},
   "outputs": [
    {
     "name": "stdout",
     "output_type": "stream",
     "text": [
      "8\n"
     ]
    }
   ],
   "source": [
    "print(a[-2])"
   ]
  },
  {
   "cell_type": "code",
   "execution_count": 39,
   "id": "2d154efa",
   "metadata": {},
   "outputs": [],
   "source": [
    "# 9 페이지"
   ]
  },
  {
   "cell_type": "code",
   "execution_count": 42,
   "id": "833228fc",
   "metadata": {},
   "outputs": [
    {
     "name": "stdout",
     "output_type": "stream",
     "text": [
      "The 2nd largest number is  8\n"
     ]
    }
   ],
   "source": [
    "a=[5, 3, 6, 8, 9, 1, 2, 7, 4]\n",
    "\n",
    "for y in range(len(a), 0, -1):\n",
    "    m=a[0]\n",
    "    pos=0\n",
    "    for x in range(1, y):\n",
    "        if a[x]>m:\n",
    "            m=a[x]\n",
    "            pos=x\n",
    "    t=a[pos]\n",
    "    a[pos]=a[y-1]\n",
    "    a[y-1]=t\n",
    "    \n",
    "print('The 2nd largest number is ', a[-2])"
   ]
  },
  {
   "cell_type": "code",
   "execution_count": 43,
   "id": "9979a522",
   "metadata": {},
   "outputs": [],
   "source": [
    "#"
   ]
  },
  {
   "cell_type": "code",
   "execution_count": 44,
   "id": "19aeec74",
   "metadata": {},
   "outputs": [],
   "source": [
    "a=[5, 3, 6, 8, 9, 1, 2, 7, 4]"
   ]
  },
  {
   "cell_type": "code",
   "execution_count": 45,
   "id": "674de54b",
   "metadata": {},
   "outputs": [
    {
     "name": "stdout",
     "output_type": "stream",
     "text": [
      "4\n"
     ]
    }
   ],
   "source": [
    "cnt=0\n",
    "for x in a:\n",
    "    if x>a[0]:\n",
    "        cnt=cnt+1\n",
    "print(cnt)"
   ]
  },
  {
   "cell_type": "code",
   "execution_count": 46,
   "id": "492366f3",
   "metadata": {},
   "outputs": [],
   "source": [
    "#"
   ]
  },
  {
   "cell_type": "code",
   "execution_count": 47,
   "id": "a67485e4",
   "metadata": {},
   "outputs": [],
   "source": [
    "a=[5, 3, 6, 8, 9, 1, 2, 7, 4]"
   ]
  },
  {
   "cell_type": "code",
   "execution_count": 48,
   "id": "59d82bf8",
   "metadata": {},
   "outputs": [
    {
     "name": "stdout",
     "output_type": "stream",
     "text": [
      "6\n"
     ]
    }
   ],
   "source": [
    "cnt=0\n",
    "for x in a:\n",
    "    if x>a[1]:\n",
    "        cnt=cnt+1\n",
    "print(cnt)"
   ]
  },
  {
   "cell_type": "code",
   "execution_count": 49,
   "id": "d9b93822",
   "metadata": {},
   "outputs": [],
   "source": [
    "# 10 페이지"
   ]
  },
  {
   "cell_type": "code",
   "execution_count": 50,
   "id": "8efb8b03",
   "metadata": {},
   "outputs": [],
   "source": [
    "a=[5, 3, 6, 8, 9, 1, 2, 7, 4]"
   ]
  },
  {
   "cell_type": "code",
   "execution_count": 51,
   "id": "07610ebe",
   "metadata": {},
   "outputs": [
    {
     "name": "stdout",
     "output_type": "stream",
     "text": [
      "The 2nd largest : 8\n"
     ]
    }
   ],
   "source": [
    "for k in range(len(a)):\n",
    "    cnt=0\n",
    "    for x in a:\n",
    "        if x>a[k]:\n",
    "            cnt=cnt+1\n",
    "    m2=None\n",
    "    if cnt==1:\n",
    "        m2=a[k]\n",
    "        break\n",
    "        \n",
    "print('The 2nd largest :', m2)"
   ]
  },
  {
   "cell_type": "code",
   "execution_count": 52,
   "id": "174ca509",
   "metadata": {},
   "outputs": [],
   "source": [
    "# 11 페이지"
   ]
  },
  {
   "cell_type": "code",
   "execution_count": 53,
   "id": "ef257e39",
   "metadata": {},
   "outputs": [],
   "source": [
    "a={1, 2, 3, 9, 9, 9}"
   ]
  },
  {
   "cell_type": "code",
   "execution_count": 54,
   "id": "1eef6599",
   "metadata": {},
   "outputs": [
    {
     "data": {
      "text/plain": [
       "{1, 2, 3, 9}"
      ]
     },
     "execution_count": 54,
     "metadata": {},
     "output_type": "execute_result"
    }
   ],
   "source": [
    "a"
   ]
  },
  {
   "cell_type": "code",
   "execution_count": 55,
   "id": "fbb556c1",
   "metadata": {},
   "outputs": [],
   "source": [
    "#"
   ]
  },
  {
   "cell_type": "code",
   "execution_count": 56,
   "id": "afafdec3",
   "metadata": {},
   "outputs": [
    {
     "name": "stdout",
     "output_type": "stream",
     "text": [
      "1 2 3 9 "
     ]
    }
   ],
   "source": [
    "a={1, 2, 3, 9}\n",
    "for x in a:\n",
    "    print(x, end=' ')"
   ]
  },
  {
   "cell_type": "code",
   "execution_count": 57,
   "id": "56230d5e",
   "metadata": {},
   "outputs": [],
   "source": [
    "#"
   ]
  },
  {
   "cell_type": "code",
   "execution_count": 58,
   "id": "528f3b8e",
   "metadata": {},
   "outputs": [],
   "source": [
    "a={1, 2, 3, 9}"
   ]
  },
  {
   "cell_type": "code",
   "execution_count": 59,
   "id": "9f3f1673",
   "metadata": {},
   "outputs": [
    {
     "ename": "TypeError",
     "evalue": "'set' object is not subscriptable",
     "output_type": "error",
     "traceback": [
      "\u001b[1;31m---------------------------------------------------------------------\u001b[0m",
      "\u001b[1;31mTypeError\u001b[0m                           Traceback (most recent call last)",
      "\u001b[1;32m~\\AppData\\Local\\Temp/ipykernel_3404/3848010232.py\u001b[0m in \u001b[0;36m<module>\u001b[1;34m\u001b[0m\n\u001b[1;32m----> 1\u001b[1;33m \u001b[0mprint\u001b[0m\u001b[1;33m(\u001b[0m\u001b[0ma\u001b[0m\u001b[1;33m[\u001b[0m\u001b[1;36m0\u001b[0m\u001b[1;33m]\u001b[0m\u001b[1;33m)\u001b[0m\u001b[1;33m\u001b[0m\u001b[1;33m\u001b[0m\u001b[0m\n\u001b[0m",
      "\u001b[1;31mTypeError\u001b[0m: 'set' object is not subscriptable"
     ]
    }
   ],
   "source": [
    "print(a[0])"
   ]
  },
  {
   "cell_type": "code",
   "execution_count": 60,
   "id": "d6e968bf",
   "metadata": {},
   "outputs": [],
   "source": [
    "# 12 페이지"
   ]
  },
  {
   "cell_type": "code",
   "execution_count": 61,
   "id": "48d1b946",
   "metadata": {},
   "outputs": [
    {
     "data": {
      "text/plain": [
       "{1, 2, 3, 4, 5, 6}"
      ]
     },
     "execution_count": 61,
     "metadata": {},
     "output_type": "execute_result"
    }
   ],
   "source": [
    "set.union({1, 2, 3}, {4, 5, 6})"
   ]
  },
  {
   "cell_type": "code",
   "execution_count": 62,
   "id": "209f2455",
   "metadata": {},
   "outputs": [
    {
     "data": {
      "text/plain": [
       "{3, 4}"
      ]
     },
     "execution_count": 62,
     "metadata": {},
     "output_type": "execute_result"
    }
   ],
   "source": [
    "set.intersection({1, 2, 3, 4}, {3, 4, 5})"
   ]
  },
  {
   "cell_type": "code",
   "execution_count": 63,
   "id": "8d04a2ea",
   "metadata": {},
   "outputs": [
    {
     "data": {
      "text/plain": [
       "{1, 2}"
      ]
     },
     "execution_count": 63,
     "metadata": {},
     "output_type": "execute_result"
    }
   ],
   "source": [
    "set.difference({1, 2, 3, 4}, {3, 4, 5})"
   ]
  },
  {
   "cell_type": "code",
   "execution_count": 64,
   "id": "e2c8c2fb",
   "metadata": {},
   "outputs": [],
   "source": [
    "#"
   ]
  },
  {
   "cell_type": "code",
   "execution_count": 65,
   "id": "bd6b7900",
   "metadata": {},
   "outputs": [],
   "source": [
    "a={1, 2, 3, 4, 5}"
   ]
  },
  {
   "cell_type": "code",
   "execution_count": 66,
   "id": "0b9703b1",
   "metadata": {},
   "outputs": [],
   "source": [
    "b=list(a)"
   ]
  },
  {
   "cell_type": "code",
   "execution_count": 67,
   "id": "8b83502b",
   "metadata": {},
   "outputs": [
    {
     "name": "stdout",
     "output_type": "stream",
     "text": [
      "[1, 2, 3, 4, 5]\n"
     ]
    }
   ],
   "source": [
    "print(b)"
   ]
  },
  {
   "cell_type": "code",
   "execution_count": 68,
   "id": "da26cadc",
   "metadata": {},
   "outputs": [],
   "source": [
    "#"
   ]
  },
  {
   "cell_type": "code",
   "execution_count": 69,
   "id": "c5012e68",
   "metadata": {},
   "outputs": [],
   "source": [
    "a=[5, 3, 6, 8, 9, 1, 2, 7, 4]"
   ]
  },
  {
   "cell_type": "code",
   "execution_count": 71,
   "id": "702f2b3e",
   "metadata": {},
   "outputs": [
    {
     "name": "stdout",
     "output_type": "stream",
     "text": [
      "The 2nd largest : 8\n"
     ]
    }
   ],
   "source": [
    "m=max(a)\n",
    "m2=a[0]\n",
    "for x in a:\n",
    "    if m2<x<m:\n",
    "        m2=x\n",
    "        \n",
    "print('The 2nd largest :', m2)"
   ]
  },
  {
   "cell_type": "code",
   "execution_count": null,
   "id": "a40b54cf",
   "metadata": {},
   "outputs": [],
   "source": []
  }
 ],
 "metadata": {
  "kernelspec": {
   "display_name": "Python 3 (ipykernel)",
   "language": "python",
   "name": "python3"
  },
  "language_info": {
   "codemirror_mode": {
    "name": "ipython",
    "version": 3
   },
   "file_extension": ".py",
   "mimetype": "text/x-python",
   "name": "python",
   "nbconvert_exporter": "python",
   "pygments_lexer": "ipython3",
   "version": "3.9.7"
  }
 },
 "nbformat": 4,
 "nbformat_minor": 5
}
