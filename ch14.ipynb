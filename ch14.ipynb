{
 "cells": [
  {
   "cell_type": "markdown",
   "id": "7a4318de",
   "metadata": {},
   "source": [
    "# 14장. 알고리즘 연습 PART 4"
   ]
  },
  {
   "cell_type": "code",
   "execution_count": 1,
   "id": "027ef272",
   "metadata": {},
   "outputs": [],
   "source": [
    "a=[5, 3, 6, 8, 9, 1, 2, 7, 4]"
   ]
  },
  {
   "cell_type": "code",
   "execution_count": 2,
   "id": "a9871842",
   "metadata": {},
   "outputs": [
    {
     "data": {
      "text/plain": [
       "9"
      ]
     },
     "execution_count": 2,
     "metadata": {},
     "output_type": "execute_result"
    }
   ],
   "source": [
    "max(a)"
   ]
  },
  {
   "cell_type": "code",
   "execution_count": 3,
   "id": "c5240415",
   "metadata": {},
   "outputs": [
    {
     "name": "stdout",
     "output_type": "stream",
     "text": [
      "9\n"
     ]
    }
   ],
   "source": [
    "m=max(a)\n",
    "print(m)"
   ]
  },
  {
   "cell_type": "code",
   "execution_count": 4,
   "id": "5e06e167",
   "metadata": {},
   "outputs": [
    {
     "data": {
      "text/plain": [
       "4"
      ]
     },
     "execution_count": 4,
     "metadata": {},
     "output_type": "execute_result"
    }
   ],
   "source": [
    "list.index(a, m)"
   ]
  },
  {
   "cell_type": "code",
   "execution_count": 5,
   "id": "c8b1d8fe",
   "metadata": {},
   "outputs": [
    {
     "name": "stdout",
     "output_type": "stream",
     "text": [
      "4\n"
     ]
    }
   ],
   "source": [
    "pos=list.index(a, m)\n",
    "print(pos)"
   ]
  },
  {
   "cell_type": "code",
   "execution_count": 6,
   "id": "32b7cb63",
   "metadata": {},
   "outputs": [],
   "source": [
    "n=min(a)"
   ]
  },
  {
   "cell_type": "code",
   "execution_count": 7,
   "id": "82577e3a",
   "metadata": {},
   "outputs": [],
   "source": [
    "a[pos]=n"
   ]
  },
  {
   "cell_type": "code",
   "execution_count": 8,
   "id": "e9b6267a",
   "metadata": {},
   "outputs": [
    {
     "name": "stdout",
     "output_type": "stream",
     "text": [
      "[5, 3, 6, 8, 1, 1, 2, 7, 4]\n"
     ]
    }
   ],
   "source": [
    "print(a)"
   ]
  },
  {
   "cell_type": "code",
   "execution_count": 9,
   "id": "fdd41d98",
   "metadata": {},
   "outputs": [],
   "source": [
    "m2=max(a)"
   ]
  },
  {
   "cell_type": "code",
   "execution_count": 10,
   "id": "32af6d21",
   "metadata": {},
   "outputs": [
    {
     "name": "stdout",
     "output_type": "stream",
     "text": [
      "8\n"
     ]
    }
   ],
   "source": [
    "print(m2)"
   ]
  },
  {
   "cell_type": "code",
   "execution_count": 11,
   "id": "3e18037d",
   "metadata": {},
   "outputs": [],
   "source": [
    "a=[5, 3, 6, 8, 9, 1, 2, 7, 4]"
   ]
  },
  {
   "cell_type": "code",
   "execution_count": 12,
   "id": "194b7907",
   "metadata": {},
   "outputs": [
    {
     "name": "stdout",
     "output_type": "stream",
     "text": [
      "9 8\n"
     ]
    }
   ],
   "source": [
    "m=a[0]\n",
    "pos=0\n",
    "for k in range(1, len(a)):\n",
    "    if a[k]>m:\n",
    "        m=a[k]\n",
    "        pos=k\n",
    "\n",
    "a[pos]=-999 # sufficiently small number\n",
    "\n",
    "m2=a[0]\n",
    "for k in range(1, len(a)):\n",
    "    if a[k]>m2:\n",
    "        m2=a[k]\n",
    "        \n",
    "print(m, m2)"
   ]
  },
  {
   "cell_type": "code",
   "execution_count": 13,
   "id": "01949273",
   "metadata": {},
   "outputs": [],
   "source": [
    "a=10"
   ]
  },
  {
   "cell_type": "code",
   "execution_count": 14,
   "id": "517a3f4e",
   "metadata": {},
   "outputs": [
    {
     "data": {
      "text/plain": [
       "2183162260048"
      ]
     },
     "execution_count": 14,
     "metadata": {},
     "output_type": "execute_result"
    }
   ],
   "source": [
    "id(a)"
   ]
  },
  {
   "cell_type": "code",
   "execution_count": 15,
   "id": "b910f8b7",
   "metadata": {},
   "outputs": [],
   "source": [
    "b=a"
   ]
  },
  {
   "cell_type": "code",
   "execution_count": 16,
   "id": "9671967b",
   "metadata": {},
   "outputs": [
    {
     "data": {
      "text/plain": [
       "2183162260048"
      ]
     },
     "execution_count": 16,
     "metadata": {},
     "output_type": "execute_result"
    }
   ],
   "source": [
    "id(b)"
   ]
  },
  {
   "cell_type": "code",
   "execution_count": 17,
   "id": "5bf23499",
   "metadata": {},
   "outputs": [],
   "source": [
    "b=20"
   ]
  },
  {
   "cell_type": "code",
   "execution_count": 18,
   "id": "d3eefbc1",
   "metadata": {},
   "outputs": [
    {
     "data": {
      "text/plain": [
       "2183162260368"
      ]
     },
     "execution_count": 18,
     "metadata": {},
     "output_type": "execute_result"
    }
   ],
   "source": [
    "id(b)"
   ]
  },
  {
   "cell_type": "code",
   "execution_count": 19,
   "id": "5e20c2ff",
   "metadata": {},
   "outputs": [],
   "source": [
    "a=[1, 2, 3, 4]"
   ]
  },
  {
   "cell_type": "code",
   "execution_count": 20,
   "id": "17831920",
   "metadata": {},
   "outputs": [],
   "source": [
    "b=a"
   ]
  },
  {
   "cell_type": "code",
   "execution_count": 21,
   "id": "c87ecd43",
   "metadata": {},
   "outputs": [
    {
     "name": "stdout",
     "output_type": "stream",
     "text": [
      "2183238731008 2183238731008\n"
     ]
    }
   ],
   "source": [
    "print(id(a), id(b))"
   ]
  },
  {
   "cell_type": "code",
   "execution_count": 22,
   "id": "58207df1",
   "metadata": {},
   "outputs": [],
   "source": [
    "b[0]=100"
   ]
  },
  {
   "cell_type": "code",
   "execution_count": 23,
   "id": "e8747b2e",
   "metadata": {},
   "outputs": [
    {
     "name": "stdout",
     "output_type": "stream",
     "text": [
      "[100, 2, 3, 4]\n"
     ]
    }
   ],
   "source": [
    "print(a)"
   ]
  },
  {
   "cell_type": "code",
   "execution_count": 24,
   "id": "b6dc014e",
   "metadata": {},
   "outputs": [
    {
     "name": "stdout",
     "output_type": "stream",
     "text": [
      "[100, 2, 3, 4]\n"
     ]
    }
   ],
   "source": [
    "print(b)"
   ]
  },
  {
   "cell_type": "code",
   "execution_count": 25,
   "id": "e3cacce7",
   "metadata": {},
   "outputs": [],
   "source": [
    "a=[1, 2, 3, 4]\n",
    "b=[]\n",
    "for x in a:\n",
    "    b.append(x)"
   ]
  },
  {
   "cell_type": "code",
   "execution_count": 26,
   "id": "d7b773f1",
   "metadata": {},
   "outputs": [],
   "source": [
    "b[0]=100"
   ]
  },
  {
   "cell_type": "code",
   "execution_count": 27,
   "id": "40ec21c7",
   "metadata": {},
   "outputs": [
    {
     "name": "stdout",
     "output_type": "stream",
     "text": [
      "[1, 2, 3, 4]\n"
     ]
    }
   ],
   "source": [
    "print(a)"
   ]
  },
  {
   "cell_type": "code",
   "execution_count": 28,
   "id": "df05ede8",
   "metadata": {},
   "outputs": [
    {
     "name": "stdout",
     "output_type": "stream",
     "text": [
      "[100, 2, 3, 4]\n"
     ]
    }
   ],
   "source": [
    "print(b)"
   ]
  },
  {
   "cell_type": "code",
   "execution_count": 29,
   "id": "9c723451",
   "metadata": {},
   "outputs": [],
   "source": [
    "a=[1, 2, 3, 4]"
   ]
  },
  {
   "cell_type": "code",
   "execution_count": 30,
   "id": "641d5dc6",
   "metadata": {},
   "outputs": [],
   "source": [
    "b=list.copy(a)"
   ]
  },
  {
   "cell_type": "code",
   "execution_count": 31,
   "id": "24a69afa",
   "metadata": {},
   "outputs": [
    {
     "name": "stdout",
     "output_type": "stream",
     "text": [
      "[1, 2, 3, 4]\n"
     ]
    }
   ],
   "source": [
    "print(b)"
   ]
  },
  {
   "cell_type": "code",
   "execution_count": 32,
   "id": "e618b098",
   "metadata": {},
   "outputs": [],
   "source": [
    "import copy"
   ]
  },
  {
   "cell_type": "code",
   "execution_count": 33,
   "id": "5aeadb08",
   "metadata": {},
   "outputs": [],
   "source": [
    "a=[1, 2, 3, [4, 5, 6]]"
   ]
  },
  {
   "cell_type": "code",
   "execution_count": 34,
   "id": "e0194165",
   "metadata": {},
   "outputs": [],
   "source": [
    "b=copy.deepcopy(a)"
   ]
  },
  {
   "cell_type": "code",
   "execution_count": 35,
   "id": "b7fb0501",
   "metadata": {},
   "outputs": [
    {
     "name": "stdout",
     "output_type": "stream",
     "text": [
      "[1, 2, 3, [4, 5, 6]]\n"
     ]
    }
   ],
   "source": [
    "print(b)"
   ]
  },
  {
   "cell_type": "code",
   "execution_count": 36,
   "id": "7766aaeb",
   "metadata": {},
   "outputs": [],
   "source": [
    "b[3][0]=100"
   ]
  },
  {
   "cell_type": "code",
   "execution_count": 37,
   "id": "178e68d1",
   "metadata": {},
   "outputs": [
    {
     "name": "stdout",
     "output_type": "stream",
     "text": [
      "[1, 2, 3, [100, 5, 6]]\n"
     ]
    }
   ],
   "source": [
    "print(b)"
   ]
  },
  {
   "cell_type": "code",
   "execution_count": 38,
   "id": "a0cc876f",
   "metadata": {},
   "outputs": [
    {
     "name": "stdout",
     "output_type": "stream",
     "text": [
      "[1, 2, 3, [4, 5, 6]]\n"
     ]
    }
   ],
   "source": [
    "print(a)"
   ]
  },
  {
   "cell_type": "code",
   "execution_count": 39,
   "id": "24b8ef41",
   "metadata": {},
   "outputs": [],
   "source": [
    "a=[6, 3, 2, 1, 7, 8, 4, 5, 9]"
   ]
  },
  {
   "cell_type": "code",
   "execution_count": 40,
   "id": "c392ff11",
   "metadata": {},
   "outputs": [],
   "source": [
    "b=sorted(a)"
   ]
  },
  {
   "cell_type": "code",
   "execution_count": 41,
   "id": "138d5838",
   "metadata": {},
   "outputs": [
    {
     "name": "stdout",
     "output_type": "stream",
     "text": [
      "[1, 2, 3, 4, 5, 6, 7, 8, 9]\n"
     ]
    }
   ],
   "source": [
    "print(b)"
   ]
  },
  {
   "cell_type": "code",
   "execution_count": 42,
   "id": "d8385bd5",
   "metadata": {},
   "outputs": [],
   "source": [
    "a=[6, 3, 2, 1, 7, 8, 4, 5, 9]"
   ]
  },
  {
   "cell_type": "code",
   "execution_count": 43,
   "id": "2429295d",
   "metadata": {},
   "outputs": [],
   "source": [
    "list.sort(a)"
   ]
  },
  {
   "cell_type": "code",
   "execution_count": 44,
   "id": "a4b9602e",
   "metadata": {},
   "outputs": [
    {
     "name": "stdout",
     "output_type": "stream",
     "text": [
      "[1, 2, 3, 4, 5, 6, 7, 8, 9]\n"
     ]
    }
   ],
   "source": [
    "print(a)"
   ]
  },
  {
   "cell_type": "code",
   "execution_count": 45,
   "id": "68f51d2f",
   "metadata": {},
   "outputs": [
    {
     "name": "stdout",
     "output_type": "stream",
     "text": [
      "8\n"
     ]
    }
   ],
   "source": [
    "print(a[-2])"
   ]
  },
  {
   "cell_type": "code",
   "execution_count": 46,
   "id": "833228fc",
   "metadata": {},
   "outputs": [
    {
     "name": "stdout",
     "output_type": "stream",
     "text": [
      "The 2nd largest number is  8\n"
     ]
    }
   ],
   "source": [
    "a=[5, 3, 6, 8, 9, 1, 2, 7, 4]\n",
    "\n",
    "for y in range(len(a), 0, -1):\n",
    "    m=a[0]\n",
    "    pos=0\n",
    "    for x in range(1, y):\n",
    "        if a[x]>m:\n",
    "            m=a[x]\n",
    "            pos=x\n",
    "    t=a[pos]\n",
    "    a[pos]=a[y-1]\n",
    "    a[y-1]=t\n",
    "    \n",
    "print('The 2nd largest number is ', a[-2])"
   ]
  },
  {
   "cell_type": "code",
   "execution_count": 47,
   "id": "19aeec74",
   "metadata": {},
   "outputs": [],
   "source": [
    "a=[5, 3, 6, 8, 9, 1, 2, 7, 4]"
   ]
  },
  {
   "cell_type": "code",
   "execution_count": 48,
   "id": "674de54b",
   "metadata": {},
   "outputs": [
    {
     "name": "stdout",
     "output_type": "stream",
     "text": [
      "4\n"
     ]
    }
   ],
   "source": [
    "cnt=0\n",
    "for x in a:\n",
    "    if x>a[0]:\n",
    "        cnt=cnt+1\n",
    "print(cnt)"
   ]
  },
  {
   "cell_type": "code",
   "execution_count": 49,
   "id": "a67485e4",
   "metadata": {},
   "outputs": [],
   "source": [
    "a=[5, 3, 6, 8, 9, 1, 2, 7, 4]"
   ]
  },
  {
   "cell_type": "code",
   "execution_count": 50,
   "id": "59d82bf8",
   "metadata": {},
   "outputs": [
    {
     "name": "stdout",
     "output_type": "stream",
     "text": [
      "6\n"
     ]
    }
   ],
   "source": [
    "cnt=0\n",
    "for x in a:\n",
    "    if x>a[1]:\n",
    "        cnt=cnt+1\n",
    "print(cnt)"
   ]
  },
  {
   "cell_type": "code",
   "execution_count": 51,
   "id": "8efb8b03",
   "metadata": {},
   "outputs": [],
   "source": [
    "a=[5, 3, 6, 8, 9, 1, 2, 7, 4]"
   ]
  },
  {
   "cell_type": "code",
   "execution_count": 52,
   "id": "07610ebe",
   "metadata": {},
   "outputs": [
    {
     "name": "stdout",
     "output_type": "stream",
     "text": [
      "The 2nd largest : 8\n"
     ]
    }
   ],
   "source": [
    "for k in range(len(a)):\n",
    "    cnt=0\n",
    "    for x in a:\n",
    "        if x>a[k]:\n",
    "            cnt=cnt+1\n",
    "    m2=None\n",
    "    if cnt==1:\n",
    "        m2=a[k]\n",
    "        break\n",
    "        \n",
    "print('The 2nd largest :', m2)"
   ]
  },
  {
   "cell_type": "code",
   "execution_count": 53,
   "id": "ef257e39",
   "metadata": {},
   "outputs": [],
   "source": [
    "a={1, 2, 3, 9, 9, 9}"
   ]
  },
  {
   "cell_type": "code",
   "execution_count": 54,
   "id": "1eef6599",
   "metadata": {},
   "outputs": [
    {
     "data": {
      "text/plain": [
       "{1, 2, 3, 9}"
      ]
     },
     "execution_count": 54,
     "metadata": {},
     "output_type": "execute_result"
    }
   ],
   "source": [
    "a"
   ]
  },
  {
   "cell_type": "code",
   "execution_count": 55,
   "id": "afafdec3",
   "metadata": {},
   "outputs": [
    {
     "name": "stdout",
     "output_type": "stream",
     "text": [
      "1 2 3 9 "
     ]
    }
   ],
   "source": [
    "a={1, 2, 3, 9}\n",
    "for x in a:\n",
    "    print(x, end=' ')"
   ]
  },
  {
   "cell_type": "code",
   "execution_count": 56,
   "id": "528f3b8e",
   "metadata": {},
   "outputs": [],
   "source": [
    "a={1, 2, 3, 9}"
   ]
  },
  {
   "cell_type": "code",
   "execution_count": 57,
   "id": "9f3f1673",
   "metadata": {},
   "outputs": [
    {
     "ename": "TypeError",
     "evalue": "'set' object is not subscriptable",
     "output_type": "error",
     "traceback": [
      "\u001b[1;31m---------------------------------------------------------------------\u001b[0m",
      "\u001b[1;31mTypeError\u001b[0m                           Traceback (most recent call last)",
      "\u001b[1;32m~\\AppData\\Local\\Temp/ipykernel_4004/3848010232.py\u001b[0m in \u001b[0;36m<module>\u001b[1;34m\u001b[0m\n\u001b[1;32m----> 1\u001b[1;33m \u001b[0mprint\u001b[0m\u001b[1;33m(\u001b[0m\u001b[0ma\u001b[0m\u001b[1;33m[\u001b[0m\u001b[1;36m0\u001b[0m\u001b[1;33m]\u001b[0m\u001b[1;33m)\u001b[0m\u001b[1;33m\u001b[0m\u001b[1;33m\u001b[0m\u001b[0m\n\u001b[0m",
      "\u001b[1;31mTypeError\u001b[0m: 'set' object is not subscriptable"
     ]
    }
   ],
   "source": [
    "print(a[0])"
   ]
  },
  {
   "cell_type": "code",
   "execution_count": 58,
   "id": "48d1b946",
   "metadata": {},
   "outputs": [
    {
     "data": {
      "text/plain": [
       "{1, 2, 3, 4, 5, 6}"
      ]
     },
     "execution_count": 58,
     "metadata": {},
     "output_type": "execute_result"
    }
   ],
   "source": [
    "set.union({1, 2, 3}, {4, 5, 6})"
   ]
  },
  {
   "cell_type": "code",
   "execution_count": 59,
   "id": "209f2455",
   "metadata": {},
   "outputs": [
    {
     "data": {
      "text/plain": [
       "{3, 4}"
      ]
     },
     "execution_count": 59,
     "metadata": {},
     "output_type": "execute_result"
    }
   ],
   "source": [
    "set.intersection({1, 2, 3, 4}, {3, 4, 5})"
   ]
  },
  {
   "cell_type": "code",
   "execution_count": 60,
   "id": "8d04a2ea",
   "metadata": {},
   "outputs": [
    {
     "data": {
      "text/plain": [
       "{1, 2}"
      ]
     },
     "execution_count": 60,
     "metadata": {},
     "output_type": "execute_result"
    }
   ],
   "source": [
    "set.difference({1, 2, 3, 4}, {3, 4, 5})"
   ]
  },
  {
   "cell_type": "code",
   "execution_count": 61,
   "id": "bd6b7900",
   "metadata": {},
   "outputs": [],
   "source": [
    "a={1, 2, 3, 4, 5}"
   ]
  },
  {
   "cell_type": "code",
   "execution_count": 62,
   "id": "0b9703b1",
   "metadata": {},
   "outputs": [],
   "source": [
    "b=list(a)"
   ]
  },
  {
   "cell_type": "code",
   "execution_count": 63,
   "id": "8b83502b",
   "metadata": {},
   "outputs": [
    {
     "name": "stdout",
     "output_type": "stream",
     "text": [
      "[1, 2, 3, 4, 5]\n"
     ]
    }
   ],
   "source": [
    "print(b)"
   ]
  },
  {
   "cell_type": "code",
   "execution_count": 64,
   "id": "c5012e68",
   "metadata": {},
   "outputs": [],
   "source": [
    "a=[5, 3, 6, 8, 9, 1, 2, 7, 4]"
   ]
  },
  {
   "cell_type": "code",
   "execution_count": 65,
   "id": "702f2b3e",
   "metadata": {},
   "outputs": [
    {
     "name": "stdout",
     "output_type": "stream",
     "text": [
      "The 2nd largest : 8\n"
     ]
    }
   ],
   "source": [
    "m=max(a)\n",
    "m2=a[0]\n",
    "for x in a:\n",
    "    if m2<x<m:\n",
    "        m2=x\n",
    "        \n",
    "print('The 2nd largest :', m2)"
   ]
  },
  {
   "cell_type": "code",
   "execution_count": null,
   "id": "a40b54cf",
   "metadata": {},
   "outputs": [],
   "source": []
  }
 ],
 "metadata": {
  "kernelspec": {
   "display_name": "Python 3 (ipykernel)",
   "language": "python",
   "name": "python3"
  },
  "language_info": {
   "codemirror_mode": {
    "name": "ipython",
    "version": 3
   },
   "file_extension": ".py",
   "mimetype": "text/x-python",
   "name": "python",
   "nbconvert_exporter": "python",
   "pygments_lexer": "ipython3",
   "version": "3.9.7"
  }
 },
 "nbformat": 4,
 "nbformat_minor": 5
}
