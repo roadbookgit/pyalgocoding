{
 "cells": [
  {
   "cell_type": "markdown",
   "id": "6baf6ee0",
   "metadata": {},
   "source": [
    "# 8장. 분기를 나타내는 IF 문"
   ]
  },
  {
   "cell_type": "code",
   "execution_count": 1,
   "id": "0f46cc0b",
   "metadata": {},
   "outputs": [
    {
     "name": "stdout",
     "output_type": "stream",
     "text": [
      "3\n"
     ]
    }
   ],
   "source": [
    "a=3\n",
    "print(a)    # (가)"
   ]
  },
  {
   "cell_type": "code",
   "execution_count": 2,
   "id": "84d498e0",
   "metadata": {},
   "outputs": [
    {
     "name": "stdout",
     "output_type": "stream",
     "text": [
      "3\n"
     ]
    }
   ],
   "source": [
    "a=3\n",
    "if a<10:\n",
    "    print(a)    # (가)"
   ]
  },
  {
   "cell_type": "code",
   "execution_count": 3,
   "id": "391e5410",
   "metadata": {},
   "outputs": [],
   "source": [
    "a=15\n",
    "if a<10:\n",
    "    print(a)"
   ]
  },
  {
   "cell_type": "code",
   "execution_count": 4,
   "id": "f61347d3",
   "metadata": {},
   "outputs": [],
   "source": [
    "a=15\n",
    "if a<10:\n",
    "    print(a)    "
   ]
  },
  {
   "cell_type": "code",
   "execution_count": 5,
   "id": "6c871913",
   "metadata": {},
   "outputs": [
    {
     "name": "stdout",
     "output_type": "stream",
     "text": [
      "3\n"
     ]
    }
   ],
   "source": [
    "a=3\n",
    "if (a<10):\n",
    "    print(a)    "
   ]
  },
  {
   "cell_type": "code",
   "execution_count": 6,
   "id": "62c0337d",
   "metadata": {},
   "outputs": [
    {
     "ename": "IndentationError",
     "evalue": "expected an indented block (Temp/ipykernel_6568/3671816842.py, line 3)",
     "output_type": "error",
     "traceback": [
      "\u001b[1;36m  File \u001b[1;32m\"C:\\Users\\mkjang\\AppData\\Local\\Temp/ipykernel_6568/3671816842.py\"\u001b[1;36m, line \u001b[1;32m3\u001b[0m\n\u001b[1;33m    print(a)\u001b[0m\n\u001b[1;37m    ^\u001b[0m\n\u001b[1;31mIndentationError\u001b[0m\u001b[1;31m:\u001b[0m expected an indented block\n"
     ]
    }
   ],
   "source": [
    "a=15\n",
    "if a<10:\n",
    "print(a)"
   ]
  },
  {
   "cell_type": "code",
   "execution_count": 12,
   "id": "c17b7b6c",
   "metadata": {},
   "outputs": [
    {
     "name": "stdout",
     "output_type": "stream",
     "text": [
      "The value of a is\n",
      "greater than 10\n"
     ]
    }
   ],
   "source": [
    "a=15\n",
    "if a>10:\n",
    "    print('The value of a is')   # (가)\n",
    "    print('greater than 10')     # (나)"
   ]
  },
  {
   "cell_type": "code",
   "execution_count": 7,
   "id": "d0e55488",
   "metadata": {},
   "outputs": [
    {
     "name": "stdout",
     "output_type": "stream",
     "text": [
      "The value of a is\n",
      " greater than 10\n"
     ]
    }
   ],
   "source": [
    "a=15\n",
    "if a>10:\n",
    "    print('The value of a is')   # (가)\n",
    "print(' greater than 10')        # (나)"
   ]
  },
  {
   "cell_type": "code",
   "execution_count": 8,
   "id": "a2885cff",
   "metadata": {},
   "outputs": [
    {
     "name": "stdout",
     "output_type": "stream",
     "text": [
      " greater than 10\n"
     ]
    }
   ],
   "source": [
    "a=3\n",
    "if a>10:\n",
    "    print('The value of a is')   # (가)\n",
    "print(' greater than 10')        # (나)"
   ]
  },
  {
   "cell_type": "code",
   "execution_count": 9,
   "id": "679d7a0f",
   "metadata": {},
   "outputs": [
    {
     "name": "stdout",
     "output_type": "stream",
     "text": [
      "11\n",
      "greater than 10\n"
     ]
    }
   ],
   "source": [
    "a=input()\n",
    "b=int(a)\n",
    "if b>10:\n",
    "    print('greater than 10')\n",
    "if b<=10:\n",
    "    print('less than or equal to 10')"
   ]
  },
  {
   "cell_type": "code",
   "execution_count": 10,
   "id": "4382d337",
   "metadata": {},
   "outputs": [
    {
     "name": "stdout",
     "output_type": "stream",
     "text": [
      "11\n",
      "greater than 10\n"
     ]
    }
   ],
   "source": [
    "a=input()\n",
    "b=int(a)\n",
    "if b>10:\n",
    "    print('greater than 10')\n",
    "else:\n",
    "    print('less than or equal to 10')"
   ]
  },
  {
   "cell_type": "code",
   "execution_count": 11,
   "id": "3ad2ea5b",
   "metadata": {},
   "outputs": [
    {
     "name": "stdout",
     "output_type": "stream",
     "text": [
      "90\n"
     ]
    }
   ],
   "source": [
    "score=int(input())   # integer : 0~100\n",
    "if score>=90:\n",
    "    grade='A'\n",
    "else:\n",
    "    grade='NOT A'"
   ]
  },
  {
   "cell_type": "code",
   "execution_count": 12,
   "id": "24e8e0cf",
   "metadata": {},
   "outputs": [
    {
     "name": "stdout",
     "output_type": "stream",
     "text": [
      "90 A\n"
     ]
    }
   ],
   "source": [
    "print(score, grade)"
   ]
  },
  {
   "cell_type": "code",
   "execution_count": 13,
   "id": "fa24a007",
   "metadata": {},
   "outputs": [
    {
     "name": "stdout",
     "output_type": "stream",
     "text": [
      "90 A\n"
     ]
    }
   ],
   "source": [
    "print(score, grade)"
   ]
  },
  {
   "cell_type": "code",
   "execution_count": 14,
   "id": "cf433e15",
   "metadata": {},
   "outputs": [
    {
     "name": "stdout",
     "output_type": "stream",
     "text": [
      "11\n"
     ]
    }
   ],
   "source": [
    "score=int(input())   # integer : 0~100\n",
    "if score>=90:\n",
    "    grade='A'\n",
    "else:\n",
    "    if score>=80:\n",
    "        grade='B'\n",
    "    else:\n",
    "        grade='C, D or F'"
   ]
  },
  {
   "cell_type": "code",
   "execution_count": 15,
   "id": "99f844b2",
   "metadata": {},
   "outputs": [
    {
     "name": "stdout",
     "output_type": "stream",
     "text": [
      "Between 0 and 10\n"
     ]
    }
   ],
   "source": [
    "a=6\n",
    "if 0<a<10:\n",
    "    print('Between 0 and 10')"
   ]
  },
  {
   "cell_type": "code",
   "execution_count": 16,
   "id": "64dca417",
   "metadata": {},
   "outputs": [
    {
     "name": "stdout",
     "output_type": "stream",
     "text": [
      "Between 0 and 10\n"
     ]
    }
   ],
   "source": [
    "a=6\n",
    "if 0<a and a<10:\n",
    "    print('Between 0 and 10')"
   ]
  },
  {
   "cell_type": "code",
   "execution_count": 17,
   "id": "7417f8a8",
   "metadata": {},
   "outputs": [
    {
     "name": "stdout",
     "output_type": "stream",
     "text": [
      "45\n"
     ]
    }
   ],
   "source": [
    "score=int(input())   # integer : 0~100\n",
    "if (score>=90):\n",
    "    grade='A'\n",
    "else:\n",
    "    if (score>=80):\n",
    "        grade='B'\n",
    "    else:\n",
    "        if (score>=70):\n",
    "            grade='C'\n",
    "        else:\n",
    "            if (score>=60):\n",
    "                grade='D'\n",
    "            else:\n",
    "                grade='F'"
   ]
  },
  {
   "cell_type": "code",
   "execution_count": 18,
   "id": "052d66d5",
   "metadata": {},
   "outputs": [
    {
     "name": "stdout",
     "output_type": "stream",
     "text": [
      "45\n"
     ]
    }
   ],
   "source": [
    "score=int(input())   # integer : 0~100\n",
    "if (score>=90):\n",
    "    grade='A'\n",
    "elif (score>=80):\n",
    "    grade='B'\n",
    "elif (score>=70):\n",
    "    grade='C'\n",
    "elif (score>=60):\n",
    "    grade='D'\n",
    "else:\n",
    "    grade='F'"
   ]
  },
  {
   "cell_type": "code",
   "execution_count": null,
   "id": "2b96bee7",
   "metadata": {},
   "outputs": [],
   "source": []
  }
 ],
 "metadata": {
  "kernelspec": {
   "display_name": "Python 3 (ipykernel)",
   "language": "python",
   "name": "python3"
  },
  "language_info": {
   "codemirror_mode": {
    "name": "ipython",
    "version": 3
   },
   "file_extension": ".py",
   "mimetype": "text/x-python",
   "name": "python",
   "nbconvert_exporter": "python",
   "pygments_lexer": "ipython3",
   "version": "3.9.7"
  }
 },
 "nbformat": 4,
 "nbformat_minor": 5
}
