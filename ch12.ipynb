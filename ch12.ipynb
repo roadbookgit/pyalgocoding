{
 "cells": [
  {
   "cell_type": "markdown",
   "id": "06ccf055",
   "metadata": {},
   "source": [
    "# 12장. 알고리즘 연습 PART 2"
   ]
  },
  {
   "cell_type": "code",
   "execution_count": 1,
   "id": "a503865f",
   "metadata": {},
   "outputs": [],
   "source": [
    "a, b, c = 10, 15, 8"
   ]
  },
  {
   "cell_type": "code",
   "execution_count": 2,
   "id": "d3664c17",
   "metadata": {},
   "outputs": [],
   "source": [
    "sum=a+b+c"
   ]
  },
  {
   "cell_type": "code",
   "execution_count": 3,
   "id": "80b6f0fa",
   "metadata": {},
   "outputs": [
    {
     "name": "stdout",
     "output_type": "stream",
     "text": [
      "sum= 33\n"
     ]
    }
   ],
   "source": [
    "print('sum=', sum)"
   ]
  },
  {
   "cell_type": "code",
   "execution_count": 4,
   "id": "0ac388f0",
   "metadata": {},
   "outputs": [],
   "source": [
    "a=[3, 1, 6, 2, 8, 4]\n",
    "sum=a[0]+a[1]+a[2]+a[3]+a[4]+a[5]"
   ]
  },
  {
   "cell_type": "code",
   "execution_count": 5,
   "id": "765a5150",
   "metadata": {},
   "outputs": [
    {
     "name": "stdout",
     "output_type": "stream",
     "text": [
      "sum= 24\n"
     ]
    }
   ],
   "source": [
    "print('sum=', sum)"
   ]
  },
  {
   "cell_type": "code",
   "execution_count": 6,
   "id": "2bd35417",
   "metadata": {},
   "outputs": [],
   "source": [
    "a=[3, 1, 6, 2]\n",
    "sum=0\n",
    "sum=sum+a[0]\n",
    "sum=sum+a[1]\n",
    "sum=sum+a[2]\n",
    "sum=sum+a[3]"
   ]
  },
  {
   "cell_type": "code",
   "execution_count": 7,
   "id": "015186f3",
   "metadata": {},
   "outputs": [],
   "source": [
    "sum=0"
   ]
  },
  {
   "cell_type": "code",
   "execution_count": 8,
   "id": "bf5204e8",
   "metadata": {},
   "outputs": [],
   "source": [
    "sum=sum+a[0]\n",
    "sum=sum+a[1]\n",
    "sum=sum+a[2]\n",
    "sum=sum+a[3]"
   ]
  },
  {
   "cell_type": "code",
   "execution_count": 9,
   "id": "60fa9180",
   "metadata": {},
   "outputs": [],
   "source": [
    "sum=0\n",
    "for k in range(len(a)):\n",
    "    sum=sum+a[k]"
   ]
  },
  {
   "cell_type": "code",
   "execution_count": 10,
   "id": "4526244c",
   "metadata": {},
   "outputs": [],
   "source": [
    "a=[3, 1, 6, 2]"
   ]
  },
  {
   "cell_type": "code",
   "execution_count": 11,
   "id": "e3f58168",
   "metadata": {},
   "outputs": [],
   "source": [
    "sum=0\n",
    "for k in range(len(a)):\n",
    "    sum=sum+a[k]"
   ]
  },
  {
   "cell_type": "code",
   "execution_count": 12,
   "id": "d8e66e3a",
   "metadata": {},
   "outputs": [
    {
     "name": "stdout",
     "output_type": "stream",
     "text": [
      "12\n"
     ]
    }
   ],
   "source": [
    "print(sum)"
   ]
  },
  {
   "cell_type": "code",
   "execution_count": 13,
   "id": "44df6e85",
   "metadata": {},
   "outputs": [
    {
     "name": "stdout",
     "output_type": "stream",
     "text": [
      "Sum of positive values : 21\n"
     ]
    }
   ],
   "source": [
    "a=[1, 3, 6, -2, -4, 9, 2, -7]\n",
    "sum=0\n",
    "for k in range(len(a)):\n",
    "    if a[k]>0:\n",
    "        sum=sum+a[k]\n",
    "print('Sum of positive values :', sum)"
   ]
  },
  {
   "cell_type": "code",
   "execution_count": 14,
   "id": "ccd9b334",
   "metadata": {},
   "outputs": [
    {
     "name": "stdout",
     "output_type": "stream",
     "text": [
      "2 to the power of 3 = 8\n"
     ]
    }
   ],
   "source": [
    "base=2\n",
    "exp=3  # exponent\n",
    "\n",
    "power=1\n",
    "for k in range(exp):\n",
    "    power=power*base\n",
    "print(base, 'to the power of', exp, '=', power)"
   ]
  },
  {
   "cell_type": "code",
   "execution_count": 15,
   "id": "0768deee",
   "metadata": {},
   "outputs": [
    {
     "data": {
      "text/plain": [
       "8"
      ]
     },
     "execution_count": 15,
     "metadata": {},
     "output_type": "execute_result"
    }
   ],
   "source": [
    "pow(2, 3)"
   ]
  },
  {
   "cell_type": "code",
   "execution_count": 16,
   "id": "93e2f67a",
   "metadata": {},
   "outputs": [
    {
     "name": "stdout",
     "output_type": "stream",
     "text": [
      "sum= 30 mean= 4.285714285714286\n"
     ]
    }
   ],
   "source": [
    "a=[3, 5, 6, 3, 4, 2, 7]\n",
    "\n",
    "sum=0\n",
    "for x in a:\n",
    "    sum=sum+x\n",
    "mean=sum/len(a)\n",
    "print('sum=', sum, 'mean=', mean)"
   ]
  },
  {
   "cell_type": "code",
   "execution_count": 17,
   "id": "7f59ad07",
   "metadata": {},
   "outputs": [
    {
     "data": {
      "text/plain": [
       "3.14"
      ]
     },
     "execution_count": 17,
     "metadata": {},
     "output_type": "execute_result"
    }
   ],
   "source": [
    "round(3.1415926535, 2)"
   ]
  },
  {
   "cell_type": "code",
   "execution_count": 18,
   "id": "e5b8288e",
   "metadata": {},
   "outputs": [
    {
     "data": {
      "text/plain": [
       "3.1416"
      ]
     },
     "execution_count": 18,
     "metadata": {},
     "output_type": "execute_result"
    }
   ],
   "source": [
    "round(3.1415926535, 4)"
   ]
  },
  {
   "cell_type": "code",
   "execution_count": 19,
   "id": "22e2aea1",
   "metadata": {},
   "outputs": [
    {
     "name": "stdout",
     "output_type": "stream",
     "text": [
      "sum= 30 mean= 4.29\n"
     ]
    }
   ],
   "source": [
    "a=[3, 5, 6, 3, 4, 2, 7]\n",
    "\n",
    "sum=0\n",
    "for x in a:\n",
    "    sum=sum+x\n",
    "    \n",
    "mean=sum/len(a)\n",
    "print('sum=', sum, 'mean=', round(mean, 2))"
   ]
  },
  {
   "cell_type": "code",
   "execution_count": 20,
   "id": "2633ebea",
   "metadata": {},
   "outputs": [
    {
     "name": "stdout",
     "output_type": "stream",
     "text": [
      "mean= 4.29 variance= 2.78\n"
     ]
    }
   ],
   "source": [
    "a=[3, 5, 6, 3, 4, 2, 7]\n",
    "\n",
    "sum=0\n",
    "for x in a:\n",
    "    sum=sum+x    \n",
    "mean=sum/len(a)\n",
    "\n",
    "sum=0\n",
    "for x in a:\n",
    "    sum=sum+(x-mean)*(x-mean)\n",
    "variance=sum/len(a)\n",
    "\n",
    "print('mean=', round(mean, 2), \n",
    "      'variance=', round(variance, 2))"
   ]
  },
  {
   "cell_type": "code",
   "execution_count": 21,
   "id": "0dcfe392",
   "metadata": {},
   "outputs": [],
   "source": [
    "import math"
   ]
  },
  {
   "cell_type": "code",
   "execution_count": 22,
   "id": "7d9226d5",
   "metadata": {},
   "outputs": [
    {
     "name": "stdout",
     "output_type": "stream",
     "text": [
      "['__doc__', '__loader__', '__name__', '__package__', '__spec__', 'acos', 'acosh', 'asin', 'asinh', 'atan', 'atan2', 'atanh', 'ceil', 'comb', 'copysign', 'cos', 'cosh', 'degrees', 'dist', 'e', 'erf', 'erfc', 'exp', 'expm1', 'fabs', 'factorial', 'floor', 'fmod', 'frexp', 'fsum', 'gamma', 'gcd', 'hypot', 'inf', 'isclose', 'isfinite', 'isinf', 'isnan', 'isqrt', 'lcm', 'ldexp', 'lgamma', 'log', 'log10', 'log1p', 'log2', 'modf', 'nan', 'nextafter', 'perm', 'pi', 'pow', 'prod', 'radians', 'remainder', 'sin', 'sinh', 'sqrt', 'tan', 'tanh', 'tau', 'trunc', 'ulp']\n"
     ]
    }
   ],
   "source": [
    "print(dir(math))"
   ]
  },
  {
   "cell_type": "code",
   "execution_count": 23,
   "id": "4ce20166",
   "metadata": {},
   "outputs": [
    {
     "data": {
      "text/plain": [
       "2.23606797749979"
      ]
     },
     "execution_count": 23,
     "metadata": {},
     "output_type": "execute_result"
    }
   ],
   "source": [
    "math.sqrt(5)"
   ]
  },
  {
   "cell_type": "code",
   "execution_count": 24,
   "id": "a53dd371",
   "metadata": {},
   "outputs": [
    {
     "name": "stdout",
     "output_type": "stream",
     "text": [
      "std. dev= 1.67\n"
     ]
    }
   ],
   "source": [
    "std_dev=math.sqrt(variance)\n",
    "print('std. dev=', round(std_dev, 2))"
   ]
  },
  {
   "cell_type": "code",
   "execution_count": 25,
   "id": "ba97f9ab",
   "metadata": {},
   "outputs": [
    {
     "name": "stdout",
     "output_type": "stream",
     "text": [
      "frequency of 1: 4\n"
     ]
    }
   ],
   "source": [
    "a=[1, 2, 3, 4, 1, 2, 3, 1, 2, 1]\n",
    "\n",
    "cnt=0\n",
    "for x in a:\n",
    "    if x==1:\n",
    "        cnt=cnt+1\n",
    "print('frequency of 1:', cnt)"
   ]
  },
  {
   "cell_type": "code",
   "execution_count": 26,
   "id": "0fc799bb",
   "metadata": {},
   "outputs": [
    {
     "name": "stdout",
     "output_type": "stream",
     "text": [
      "11\n"
     ]
    }
   ],
   "source": [
    "a=[3, 6, 2]\n",
    "sum=0\n",
    "for k in range(len(a)):\n",
    "    sum=sum+a[k]\n",
    "print(sum)"
   ]
  },
  {
   "cell_type": "code",
   "execution_count": 27,
   "id": "14736122",
   "metadata": {},
   "outputs": [
    {
     "name": "stdout",
     "output_type": "stream",
     "text": [
      "3\n",
      "6\n",
      "2\n"
     ]
    }
   ],
   "source": [
    "for x in a:\n",
    "    print(x)"
   ]
  },
  {
   "cell_type": "code",
   "execution_count": 28,
   "id": "9073925a",
   "metadata": {},
   "outputs": [
    {
     "name": "stdout",
     "output_type": "stream",
     "text": [
      "3\n",
      "6\n",
      "2\n"
     ]
    }
   ],
   "source": [
    "for k in range(len(a)):\n",
    "    print(a[k])"
   ]
  },
  {
   "cell_type": "code",
   "execution_count": 29,
   "id": "fa5de497",
   "metadata": {},
   "outputs": [
    {
     "name": "stdout",
     "output_type": "stream",
     "text": [
      "3\n",
      "6\n",
      "2\n"
     ]
    }
   ],
   "source": [
    "for x in a:\n",
    "    if x>0:\n",
    "        print(x)"
   ]
  },
  {
   "cell_type": "code",
   "execution_count": null,
   "id": "01f77aa5",
   "metadata": {},
   "outputs": [],
   "source": []
  }
 ],
 "metadata": {
  "kernelspec": {
   "display_name": "Python 3 (ipykernel)",
   "language": "python",
   "name": "python3"
  },
  "language_info": {
   "codemirror_mode": {
    "name": "ipython",
    "version": 3
   },
   "file_extension": ".py",
   "mimetype": "text/x-python",
   "name": "python",
   "nbconvert_exporter": "python",
   "pygments_lexer": "ipython3",
   "version": "3.9.7"
  }
 },
 "nbformat": 4,
 "nbformat_minor": 5
}
